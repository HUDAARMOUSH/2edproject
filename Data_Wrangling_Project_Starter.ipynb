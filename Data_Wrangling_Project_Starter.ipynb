{
 "cells": [
  {
   "cell_type": "markdown",
   "metadata": {
    "id": "GNIwe5N7s0e_"
   },
   "source": [
    "# Real-world Data Wrangling"
   ]
  },
  {
   "cell_type": "markdown",
   "metadata": {
    "id": "_BG63Tpg8ep_"
   },
   "source": [
    "In this project, you will apply the skills you acquired in the course to gather and wrangle real-world data with two datasets of your choice.\n",
    "\n",
    "You will retrieve and extract the data, assess the data programmatically and visually, accross elements of data quality and structure, and implement a cleaning strategy for the data. You will then store the updated data into your selected database/data store, combine the data, and answer a research question with the datasets.\n",
    "\n",
    "Throughout the process, you are expected to:\n",
    "\n",
    "1. Explain your decisions towards methods used for gathering, assessing, cleaning, storing, and answering the research question\n",
    "2. Write code comments so your code is more readable\n",
    "\n",
    "Before you start, install the some of the required packages. "
   ]
  },
  {
   "cell_type": "markdown",
   "metadata": {},
   "source": [
    "# Research Question \n",
    "\n",
    "### How are housing price and Homelessness attributes correlated? \r\n"
   ]
  },
  {
   "cell_type": "markdown",
   "metadata": {},
   "source": [
    "## Definitions\n"
   ]
  },
  {
   "cell_type": "markdown",
   "metadata": {},
   "source": [
    "df = This is the first data, from kaggle that Have been scrapped from Realtor website. \n",
    "\n",
    "df2 = This is the second data, The Homelessness, in the period 2007 - 2016 - Kaggle. \n"
   ]
  },
  {
   "cell_type": "code",
   "execution_count": 5,
   "metadata": {},
   "outputs": [
    {
     "name": "stdout",
     "output_type": "stream",
     "text": [
      "Requirement already satisfied: kaggle==1.6.12 in c:\\users\\hp\\anaconda3\\lib\\site-packages (1.6.12)\n",
      "Requirement already satisfied: six>=1.10 in c:\\users\\hp\\anaconda3\\lib\\site-packages (from kaggle==1.6.12) (1.16.0)\n",
      "Requirement already satisfied: certifi>=2023.7.22 in c:\\users\\hp\\anaconda3\\lib\\site-packages (from kaggle==1.6.12) (2024.6.2)\n",
      "Requirement already satisfied: python-dateutil in c:\\users\\hp\\anaconda3\\lib\\site-packages (from kaggle==1.6.12) (2.8.2)\n",
      "Requirement already satisfied: requests in c:\\users\\hp\\anaconda3\\lib\\site-packages (from kaggle==1.6.12) (2.31.0)\n",
      "Requirement already satisfied: tqdm in c:\\users\\hp\\anaconda3\\lib\\site-packages (from kaggle==1.6.12) (4.65.0)\n",
      "Requirement already satisfied: python-slugify in c:\\users\\hp\\anaconda3\\lib\\site-packages (from kaggle==1.6.12) (5.0.2)\n",
      "Requirement already satisfied: urllib3 in c:\\users\\hp\\anaconda3\\lib\\site-packages (from kaggle==1.6.12) (2.0.7)\n",
      "Requirement already satisfied: bleach in c:\\users\\hp\\anaconda3\\lib\\site-packages (from kaggle==1.6.12) (4.1.0)\n",
      "Requirement already satisfied: packaging in c:\\users\\hp\\anaconda3\\lib\\site-packages (from bleach->kaggle==1.6.12) (23.1)\n",
      "Requirement already satisfied: webencodings in c:\\users\\hp\\anaconda3\\lib\\site-packages (from bleach->kaggle==1.6.12) (0.5.1)\n",
      "Requirement already satisfied: text-unidecode>=1.3 in c:\\users\\hp\\anaconda3\\lib\\site-packages (from python-slugify->kaggle==1.6.12) (1.3)\n",
      "Requirement already satisfied: charset-normalizer<4,>=2 in c:\\users\\hp\\anaconda3\\lib\\site-packages (from requests->kaggle==1.6.12) (2.0.4)\n",
      "Requirement already satisfied: idna<4,>=2.5 in c:\\users\\hp\\anaconda3\\lib\\site-packages (from requests->kaggle==1.6.12) (3.4)\n",
      "Requirement already satisfied: colorama in c:\\users\\hp\\anaconda3\\lib\\site-packages (from tqdm->kaggle==1.6.12) (0.4.6)\n"
     ]
    }
   ],
   "source": [
    "!python -m pip install kaggle==1.6.12"
   ]
  },
  {
   "cell_type": "markdown",
   "metadata": {
    "id": "LbN7z7rcuqpO"
   },
   "source": [
    "### **1.1.** Problem Statement\n",
    "In 2-4 sentences, explain the kind of problem you want to look at and the datasets you will be wrangling for this project.\n",
    "\n",
    ">I would like to work on Real estate in USA"
   ]
  },
  {
   "cell_type": "code",
   "execution_count": 7,
   "metadata": {},
   "outputs": [],
   "source": [
    "import pandas as pd \n",
    "import numpy as np\n",
    "import matplotlib.pyplot as plt \n",
    "import requests\n",
    "import zipfile\n",
    "import json\n",
    "import requests\n",
    "import os\n",
    "\n"
   ]
  },
  {
   "cell_type": "markdown",
   "metadata": {
    "id": "lDYDkH-Zs7Nn"
   },
   "source": [
    "## 1. Gather data\n",
    "\n",
    "In this section, you will extract data using two different data gathering methods and combine the data. Use at least two different types of data-gathering methods."
   ]
  },
  {
   "cell_type": "markdown",
   "metadata": {
    "id": "8AQfBAdUypMm"
   },
   "source": [
    "### **1.2.** Gather at least two datasets using two different data gathering methods\n",
    "\n",
    "## Dataset 1 \n",
    "The first data set is a spreadsheet a full of informations about the USA housing data, prices, places and dates and of sold or not, I downlowded it manully from Kaggle, and this data was collected from https://www.realtor.com/ - A real estate listing website operated by the News Corp subsidiary Move, Inc. and based in Santa Clara, California. \n",
    "I choosed this dataset to study the housing market in USA. Download it manually. \n"
   ]
  },
  {
   "cell_type": "code",
   "execution_count": 10,
   "metadata": {},
   "outputs": [],
   "source": [
    "df = pd.read_csv(\"realtor-data.zip.csv\")\n"
   ]
  },
  {
   "cell_type": "markdown",
   "metadata": {
    "id": "hoUjq1tPzz7P"
   },
   "source": [
    "## Dataset 2\n",
    "\n",
    "The Seconed Dataset is about homelessness is USA it has 2 csv files, homlessness in the period 2007 - 2016 and population csv. \n",
    "These raw data sets contain Point-in-Time (PIT) estimates and national PIT estimates of homelessness as well as national estimates of homelessness by state and estimates of chronic homelessness from 2007 - 2016. Estimates of homeless veterans are also included beginning in 2011. The accompanying Housing Inventory Count (HIC) data is available as well from 2007 - 2016.\" (Department of Housing and Urban Development).\n",
    "> Type: zip File, CSV File\n",
    "\n",
    "> Method: The data was gathered using the \"API\" method from Kaggle.\n",
    "> Dataset variables:\n",
    "Index(['Year', 'State', 'CoC Number', 'CoC Name', 'Measures', count\n",
    "\n",
    "omes in $1000's"
   ]
  },
  {
   "cell_type": "code",
   "execution_count": 12,
   "metadata": {},
   "outputs": [],
   "source": [
    "import kaggle"
   ]
  },
  {
   "cell_type": "code",
   "execution_count": 13,
   "metadata": {},
   "outputs": [],
   "source": [
    "from kaggle.api.kaggle_api_extended import KaggleApi\n"
   ]
  },
  {
   "cell_type": "code",
   "execution_count": 14,
   "metadata": {},
   "outputs": [
    {
     "name": "stdout",
     "output_type": "stream",
     "text": [
      "Dataset URL: https://www.kaggle.com/datasets/adamschroeder/homelessness\n"
     ]
    }
   ],
   "source": [
    "api = KaggleApi()\n",
    "api.authenticate()\n",
    "api.dataset_download_files(\"adamschroeder/homelessness\",\n",
    "                           \"/2007-2016-Homelessnewss-USA.csv\")"
   ]
  },
  {
   "cell_type": "code",
   "execution_count": 161,
   "metadata": {},
   "outputs": [],
   "source": [
    "\n",
    "zip_file_path = \"C:\\\\2007-2016-Homelessnewss-USA.csv\\\\homelessness.zip\"\n",
    "\n",
    "# Define the directory to extract the files to\n",
    "extract_dir = \"7-2016-Homelessnewss-USA.csv\"  # Replace with the directory where you want to extract the files\n",
    "\n",
    "# Unzip the downloaded file\n",
    "with zipfile.ZipFile(zip_file_path, 'r') as zip_ref:\n",
    "    zip_ref.extractall(extract_dir)\n",
    "\n",
    "# Remove the downloaded zip file\n",
    "os.remove(zip_file_path)\n",
    "\n",
    "\n",
    "\n",
    "\n"
   ]
  },
  {
   "cell_type": "code",
   "execution_count": 163,
   "metadata": {},
   "outputs": [],
   "source": [
    "df2 = pd.read_csv('7-2016-Homelessnewss-USA.csv/2007-2016-Homelessnewss-USA.csv')"
   ]
  },
  {
   "cell_type": "code",
   "execution_count": 297,
   "metadata": {},
   "outputs": [
    {
     "data": {
      "text/html": [
       "<div>\n",
       "<style scoped>\n",
       "    .dataframe tbody tr th:only-of-type {\n",
       "        vertical-align: middle;\n",
       "    }\n",
       "\n",
       "    .dataframe tbody tr th {\n",
       "        vertical-align: top;\n",
       "    }\n",
       "\n",
       "    .dataframe thead th {\n",
       "        text-align: right;\n",
       "    }\n",
       "</style>\n",
       "<table border=\"1\" class=\"dataframe\">\n",
       "  <thead>\n",
       "    <tr style=\"text-align: right;\">\n",
       "      <th></th>\n",
       "      <th>brokered_by</th>\n",
       "      <th>status</th>\n",
       "      <th>price</th>\n",
       "      <th>bed</th>\n",
       "      <th>bath</th>\n",
       "      <th>acre_lot</th>\n",
       "      <th>street</th>\n",
       "      <th>city</th>\n",
       "      <th>state</th>\n",
       "      <th>zip_code</th>\n",
       "      <th>house_size</th>\n",
       "      <th>Year</th>\n",
       "    </tr>\n",
       "  </thead>\n",
       "  <tbody>\n",
       "    <tr>\n",
       "      <th>2270</th>\n",
       "      <td>94933.0</td>\n",
       "      <td>for_sale</td>\n",
       "      <td>950000.0</td>\n",
       "      <td>5.0</td>\n",
       "      <td>4.0</td>\n",
       "      <td>0.99</td>\n",
       "      <td>1260473.0</td>\n",
       "      <td>Saint Thomas</td>\n",
       "      <td>Virgin Islands</td>\n",
       "      <td>802.0</td>\n",
       "      <td>5000.0</td>\n",
       "      <td>2013-10-11</td>\n",
       "    </tr>\n",
       "    <tr>\n",
       "      <th>2493</th>\n",
       "      <td>22968.0</td>\n",
       "      <td>for_sale</td>\n",
       "      <td>79500.0</td>\n",
       "      <td>NaN</td>\n",
       "      <td>NaN</td>\n",
       "      <td>0.76</td>\n",
       "      <td>765975.0</td>\n",
       "      <td>Christiansted</td>\n",
       "      <td>Virgin Islands</td>\n",
       "      <td>820.0</td>\n",
       "      <td>NaN</td>\n",
       "      <td>2016-04-28</td>\n",
       "    </tr>\n",
       "    <tr>\n",
       "      <th>2555</th>\n",
       "      <td>34543.0</td>\n",
       "      <td>for_sale</td>\n",
       "      <td>176500.0</td>\n",
       "      <td>NaN</td>\n",
       "      <td>NaN</td>\n",
       "      <td>0.50</td>\n",
       "      <td>917409.0</td>\n",
       "      <td>Christiansted</td>\n",
       "      <td>Virgin Islands</td>\n",
       "      <td>820.0</td>\n",
       "      <td>NaN</td>\n",
       "      <td>2016-11-16</td>\n",
       "    </tr>\n",
       "    <tr>\n",
       "      <th>3062</th>\n",
       "      <td>22968.0</td>\n",
       "      <td>for_sale</td>\n",
       "      <td>129000.0</td>\n",
       "      <td>NaN</td>\n",
       "      <td>NaN</td>\n",
       "      <td>6.30</td>\n",
       "      <td>739696.0</td>\n",
       "      <td>Frederiksted</td>\n",
       "      <td>Virgin Islands</td>\n",
       "      <td>840.0</td>\n",
       "      <td>NaN</td>\n",
       "      <td>2010-01-26</td>\n",
       "    </tr>\n",
       "    <tr>\n",
       "      <th>3409</th>\n",
       "      <td>21163.0</td>\n",
       "      <td>for_sale</td>\n",
       "      <td>525000.0</td>\n",
       "      <td>3.0</td>\n",
       "      <td>3.0</td>\n",
       "      <td>0.45</td>\n",
       "      <td>1813270.0</td>\n",
       "      <td>Agawam</td>\n",
       "      <td>Massachusetts</td>\n",
       "      <td>1001.0</td>\n",
       "      <td>2314.0</td>\n",
       "      <td>2014-06-25</td>\n",
       "    </tr>\n",
       "  </tbody>\n",
       "</table>\n",
       "</div>"
      ],
      "text/plain": [
       "      brokered_by    status     price  bed  bath  acre_lot     street  \\\n",
       "2270      94933.0  for_sale  950000.0  5.0   4.0      0.99  1260473.0   \n",
       "2493      22968.0  for_sale   79500.0  NaN   NaN      0.76   765975.0   \n",
       "2555      34543.0  for_sale  176500.0  NaN   NaN      0.50   917409.0   \n",
       "3062      22968.0  for_sale  129000.0  NaN   NaN      6.30   739696.0   \n",
       "3409      21163.0  for_sale  525000.0  3.0   3.0      0.45  1813270.0   \n",
       "\n",
       "               city           state  zip_code  house_size       Year  \n",
       "2270   Saint Thomas  Virgin Islands     802.0      5000.0 2013-10-11  \n",
       "2493  Christiansted  Virgin Islands     820.0         NaN 2016-04-28  \n",
       "2555  Christiansted  Virgin Islands     820.0         NaN 2016-11-16  \n",
       "3062   Frederiksted  Virgin Islands     840.0         NaN 2010-01-26  \n",
       "3409         Agawam   Massachusetts    1001.0      2314.0 2014-06-25  "
      ]
     },
     "execution_count": 297,
     "metadata": {},
     "output_type": "execute_result"
    }
   ],
   "source": [
    "df.head()"
   ]
  },
  {
   "cell_type": "code",
   "execution_count": 299,
   "metadata": {},
   "outputs": [
    {
     "data": {
      "text/html": [
       "<div>\n",
       "<style scoped>\n",
       "    .dataframe tbody tr th:only-of-type {\n",
       "        vertical-align: middle;\n",
       "    }\n",
       "\n",
       "    .dataframe tbody tr th {\n",
       "        vertical-align: top;\n",
       "    }\n",
       "\n",
       "    .dataframe thead th {\n",
       "        text-align: right;\n",
       "    }\n",
       "</style>\n",
       "<table border=\"1\" class=\"dataframe\">\n",
       "  <thead>\n",
       "    <tr style=\"text-align: right;\">\n",
       "      <th></th>\n",
       "      <th>brokered_by</th>\n",
       "      <th>status</th>\n",
       "      <th>price</th>\n",
       "      <th>bed</th>\n",
       "      <th>bath</th>\n",
       "      <th>acre_lot</th>\n",
       "      <th>street</th>\n",
       "      <th>city</th>\n",
       "      <th>state</th>\n",
       "      <th>zip_code</th>\n",
       "      <th>house_size</th>\n",
       "      <th>Year</th>\n",
       "    </tr>\n",
       "  </thead>\n",
       "  <tbody>\n",
       "    <tr>\n",
       "      <th>1414163</th>\n",
       "      <td>3571.0</td>\n",
       "      <td>for_sale</td>\n",
       "      <td>115000.0</td>\n",
       "      <td>NaN</td>\n",
       "      <td>NaN</td>\n",
       "      <td>0.19</td>\n",
       "      <td>549588.0</td>\n",
       "      <td>Juneau</td>\n",
       "      <td>Alaska</td>\n",
       "      <td>99801.0</td>\n",
       "      <td>NaN</td>\n",
       "      <td>2015-08-20</td>\n",
       "    </tr>\n",
       "    <tr>\n",
       "      <th>1414166</th>\n",
       "      <td>48892.0</td>\n",
       "      <td>for_sale</td>\n",
       "      <td>149900.0</td>\n",
       "      <td>NaN</td>\n",
       "      <td>NaN</td>\n",
       "      <td>0.83</td>\n",
       "      <td>930101.0</td>\n",
       "      <td>Juneau</td>\n",
       "      <td>Alaska</td>\n",
       "      <td>99801.0</td>\n",
       "      <td>NaN</td>\n",
       "      <td>2015-06-22</td>\n",
       "    </tr>\n",
       "    <tr>\n",
       "      <th>1414186</th>\n",
       "      <td>6482.0</td>\n",
       "      <td>for_sale</td>\n",
       "      <td>859900.0</td>\n",
       "      <td>5.0</td>\n",
       "      <td>3.0</td>\n",
       "      <td>0.40</td>\n",
       "      <td>1318135.0</td>\n",
       "      <td>Juneau</td>\n",
       "      <td>Alaska</td>\n",
       "      <td>99801.0</td>\n",
       "      <td>3689.0</td>\n",
       "      <td>2010-06-01</td>\n",
       "    </tr>\n",
       "    <tr>\n",
       "      <th>1414187</th>\n",
       "      <td>79471.0</td>\n",
       "      <td>for_sale</td>\n",
       "      <td>439900.0</td>\n",
       "      <td>3.0</td>\n",
       "      <td>2.0</td>\n",
       "      <td>0.09</td>\n",
       "      <td>1251298.0</td>\n",
       "      <td>Juneau</td>\n",
       "      <td>Alaska</td>\n",
       "      <td>99801.0</td>\n",
       "      <td>1770.0</td>\n",
       "      <td>2016-08-15</td>\n",
       "    </tr>\n",
       "    <tr>\n",
       "      <th>1414188</th>\n",
       "      <td>56985.0</td>\n",
       "      <td>for_sale</td>\n",
       "      <td>515000.0</td>\n",
       "      <td>4.0</td>\n",
       "      <td>2.0</td>\n",
       "      <td>0.23</td>\n",
       "      <td>1773566.0</td>\n",
       "      <td>Juneau</td>\n",
       "      <td>Alaska</td>\n",
       "      <td>99801.0</td>\n",
       "      <td>1894.0</td>\n",
       "      <td>2008-09-15</td>\n",
       "    </tr>\n",
       "    <tr>\n",
       "      <th>1414189</th>\n",
       "      <td>79471.0</td>\n",
       "      <td>for_sale</td>\n",
       "      <td>425000.0</td>\n",
       "      <td>3.0</td>\n",
       "      <td>2.0</td>\n",
       "      <td>0.16</td>\n",
       "      <td>1728797.0</td>\n",
       "      <td>Juneau</td>\n",
       "      <td>Alaska</td>\n",
       "      <td>99801.0</td>\n",
       "      <td>1192.0</td>\n",
       "      <td>2015-12-18</td>\n",
       "    </tr>\n",
       "    <tr>\n",
       "      <th>1414192</th>\n",
       "      <td>95190.0</td>\n",
       "      <td>for_sale</td>\n",
       "      <td>414900.0</td>\n",
       "      <td>4.0</td>\n",
       "      <td>2.0</td>\n",
       "      <td>0.23</td>\n",
       "      <td>1706555.0</td>\n",
       "      <td>Juneau</td>\n",
       "      <td>Alaska</td>\n",
       "      <td>99801.0</td>\n",
       "      <td>1304.0</td>\n",
       "      <td>2013-03-26</td>\n",
       "    </tr>\n",
       "    <tr>\n",
       "      <th>1414316</th>\n",
       "      <td>21688.0</td>\n",
       "      <td>for_sale</td>\n",
       "      <td>525000.0</td>\n",
       "      <td>3.0</td>\n",
       "      <td>2.0</td>\n",
       "      <td>0.46</td>\n",
       "      <td>1003563.0</td>\n",
       "      <td>Ketchikan</td>\n",
       "      <td>Alaska</td>\n",
       "      <td>99901.0</td>\n",
       "      <td>1272.0</td>\n",
       "      <td>2007-06-12</td>\n",
       "    </tr>\n",
       "    <tr>\n",
       "      <th>1414327</th>\n",
       "      <td>57432.0</td>\n",
       "      <td>for_sale</td>\n",
       "      <td>1100000.0</td>\n",
       "      <td>4.0</td>\n",
       "      <td>4.0</td>\n",
       "      <td>0.32</td>\n",
       "      <td>1280711.0</td>\n",
       "      <td>Ketchikan</td>\n",
       "      <td>Alaska</td>\n",
       "      <td>99901.0</td>\n",
       "      <td>3600.0</td>\n",
       "      <td>2011-09-09</td>\n",
       "    </tr>\n",
       "    <tr>\n",
       "      <th>1414346</th>\n",
       "      <td>82020.0</td>\n",
       "      <td>for_sale</td>\n",
       "      <td>497000.0</td>\n",
       "      <td>4.0</td>\n",
       "      <td>3.0</td>\n",
       "      <td>0.41</td>\n",
       "      <td>1698210.0</td>\n",
       "      <td>Ketchikan</td>\n",
       "      <td>Alaska</td>\n",
       "      <td>99901.0</td>\n",
       "      <td>2676.0</td>\n",
       "      <td>2014-03-07</td>\n",
       "    </tr>\n",
       "  </tbody>\n",
       "</table>\n",
       "</div>"
      ],
      "text/plain": [
       "         brokered_by    status      price  bed  bath  acre_lot     street  \\\n",
       "1414163       3571.0  for_sale   115000.0  NaN   NaN      0.19   549588.0   \n",
       "1414166      48892.0  for_sale   149900.0  NaN   NaN      0.83   930101.0   \n",
       "1414186       6482.0  for_sale   859900.0  5.0   3.0      0.40  1318135.0   \n",
       "1414187      79471.0  for_sale   439900.0  3.0   2.0      0.09  1251298.0   \n",
       "1414188      56985.0  for_sale   515000.0  4.0   2.0      0.23  1773566.0   \n",
       "1414189      79471.0  for_sale   425000.0  3.0   2.0      0.16  1728797.0   \n",
       "1414192      95190.0  for_sale   414900.0  4.0   2.0      0.23  1706555.0   \n",
       "1414316      21688.0  for_sale   525000.0  3.0   2.0      0.46  1003563.0   \n",
       "1414327      57432.0  for_sale  1100000.0  4.0   4.0      0.32  1280711.0   \n",
       "1414346      82020.0  for_sale   497000.0  4.0   3.0      0.41  1698210.0   \n",
       "\n",
       "              city   state  zip_code  house_size       Year  \n",
       "1414163     Juneau  Alaska   99801.0         NaN 2015-08-20  \n",
       "1414166     Juneau  Alaska   99801.0         NaN 2015-06-22  \n",
       "1414186     Juneau  Alaska   99801.0      3689.0 2010-06-01  \n",
       "1414187     Juneau  Alaska   99801.0      1770.0 2016-08-15  \n",
       "1414188     Juneau  Alaska   99801.0      1894.0 2008-09-15  \n",
       "1414189     Juneau  Alaska   99801.0      1192.0 2015-12-18  \n",
       "1414192     Juneau  Alaska   99801.0      1304.0 2013-03-26  \n",
       "1414316  Ketchikan  Alaska   99901.0      1272.0 2007-06-12  \n",
       "1414327  Ketchikan  Alaska   99901.0      3600.0 2011-09-09  \n",
       "1414346  Ketchikan  Alaska   99901.0      2676.0 2014-03-07  "
      ]
     },
     "execution_count": 299,
     "metadata": {},
     "output_type": "execute_result"
    }
   ],
   "source": [
    "df.tail(10)"
   ]
  },
  {
   "cell_type": "code",
   "execution_count": 300,
   "metadata": {},
   "outputs": [
    {
     "data": {
      "text/html": [
       "<div>\n",
       "<style scoped>\n",
       "    .dataframe tbody tr th:only-of-type {\n",
       "        vertical-align: middle;\n",
       "    }\n",
       "\n",
       "    .dataframe tbody tr th {\n",
       "        vertical-align: top;\n",
       "    }\n",
       "\n",
       "    .dataframe thead th {\n",
       "        text-align: right;\n",
       "    }\n",
       "</style>\n",
       "<table border=\"1\" class=\"dataframe\">\n",
       "  <thead>\n",
       "    <tr style=\"text-align: right;\">\n",
       "      <th></th>\n",
       "      <th>brokered_by</th>\n",
       "      <th>price</th>\n",
       "      <th>bed</th>\n",
       "      <th>bath</th>\n",
       "      <th>acre_lot</th>\n",
       "      <th>street</th>\n",
       "      <th>zip_code</th>\n",
       "      <th>house_size</th>\n",
       "      <th>Year</th>\n",
       "    </tr>\n",
       "  </thead>\n",
       "  <tbody>\n",
       "    <tr>\n",
       "      <th>count</th>\n",
       "      <td>199118.000000</td>\n",
       "      <td>1.992690e+05</td>\n",
       "      <td>177895.000000</td>\n",
       "      <td>178740.000000</td>\n",
       "      <td>169610.000000</td>\n",
       "      <td>1.984410e+05</td>\n",
       "      <td>199268.000000</td>\n",
       "      <td>1.689570e+05</td>\n",
       "      <td>199269</td>\n",
       "    </tr>\n",
       "    <tr>\n",
       "      <th>mean</th>\n",
       "      <td>52699.658660</td>\n",
       "      <td>6.368690e+05</td>\n",
       "      <td>3.291442</td>\n",
       "      <td>2.564860</td>\n",
       "      <td>9.126097</td>\n",
       "      <td>9.401535e+05</td>\n",
       "      <td>51137.008376</td>\n",
       "      <td>2.188819e+03</td>\n",
       "      <td>2012-10-14 01:57:37.892597760</td>\n",
       "    </tr>\n",
       "    <tr>\n",
       "      <th>min</th>\n",
       "      <td>0.000000</td>\n",
       "      <td>1.000000e+00</td>\n",
       "      <td>1.000000</td>\n",
       "      <td>1.000000</td>\n",
       "      <td>0.000000</td>\n",
       "      <td>7.300000e+01</td>\n",
       "      <td>802.000000</td>\n",
       "      <td>4.000000e+00</td>\n",
       "      <td>2007-01-01 00:00:00</td>\n",
       "    </tr>\n",
       "    <tr>\n",
       "      <th>25%</th>\n",
       "      <td>23592.000000</td>\n",
       "      <td>2.150000e+05</td>\n",
       "      <td>3.000000</td>\n",
       "      <td>2.000000</td>\n",
       "      <td>0.150000</td>\n",
       "      <td>4.732520e+05</td>\n",
       "      <td>29605.000000</td>\n",
       "      <td>1.296000e+03</td>\n",
       "      <td>2010-03-19 00:00:00</td>\n",
       "    </tr>\n",
       "    <tr>\n",
       "      <th>50%</th>\n",
       "      <td>52770.000000</td>\n",
       "      <td>3.700000e+05</td>\n",
       "      <td>3.000000</td>\n",
       "      <td>2.000000</td>\n",
       "      <td>0.230000</td>\n",
       "      <td>9.400200e+05</td>\n",
       "      <td>46074.000000</td>\n",
       "      <td>1.784000e+03</td>\n",
       "      <td>2013-05-31 00:00:00</td>\n",
       "    </tr>\n",
       "    <tr>\n",
       "      <th>75%</th>\n",
       "      <td>79221.000000</td>\n",
       "      <td>6.350000e+05</td>\n",
       "      <td>4.000000</td>\n",
       "      <td>3.000000</td>\n",
       "      <td>0.570000</td>\n",
       "      <td>1.403475e+06</td>\n",
       "      <td>77469.000000</td>\n",
       "      <td>2.525000e+03</td>\n",
       "      <td>2015-06-24 00:00:00</td>\n",
       "    </tr>\n",
       "    <tr>\n",
       "      <th>max</th>\n",
       "      <td>110142.000000</td>\n",
       "      <td>2.500000e+08</td>\n",
       "      <td>123.000000</td>\n",
       "      <td>123.000000</td>\n",
       "      <td>100000.000000</td>\n",
       "      <td>2.001338e+06</td>\n",
       "      <td>99901.000000</td>\n",
       "      <td>3.434706e+06</td>\n",
       "      <td>2016-12-30 00:00:00</td>\n",
       "    </tr>\n",
       "    <tr>\n",
       "      <th>std</th>\n",
       "      <td>30804.528234</td>\n",
       "      <td>1.728620e+06</td>\n",
       "      <td>1.450949</td>\n",
       "      <td>1.419913</td>\n",
       "      <td>604.058117</td>\n",
       "      <td>5.392514e+05</td>\n",
       "      <td>28654.532876</td>\n",
       "      <td>9.993093e+03</td>\n",
       "      <td>NaN</td>\n",
       "    </tr>\n",
       "  </tbody>\n",
       "</table>\n",
       "</div>"
      ],
      "text/plain": [
       "         brokered_by         price            bed           bath  \\\n",
       "count  199118.000000  1.992690e+05  177895.000000  178740.000000   \n",
       "mean    52699.658660  6.368690e+05       3.291442       2.564860   \n",
       "min         0.000000  1.000000e+00       1.000000       1.000000   \n",
       "25%     23592.000000  2.150000e+05       3.000000       2.000000   \n",
       "50%     52770.000000  3.700000e+05       3.000000       2.000000   \n",
       "75%     79221.000000  6.350000e+05       4.000000       3.000000   \n",
       "max    110142.000000  2.500000e+08     123.000000     123.000000   \n",
       "std     30804.528234  1.728620e+06       1.450949       1.419913   \n",
       "\n",
       "            acre_lot        street       zip_code    house_size  \\\n",
       "count  169610.000000  1.984410e+05  199268.000000  1.689570e+05   \n",
       "mean        9.126097  9.401535e+05   51137.008376  2.188819e+03   \n",
       "min         0.000000  7.300000e+01     802.000000  4.000000e+00   \n",
       "25%         0.150000  4.732520e+05   29605.000000  1.296000e+03   \n",
       "50%         0.230000  9.400200e+05   46074.000000  1.784000e+03   \n",
       "75%         0.570000  1.403475e+06   77469.000000  2.525000e+03   \n",
       "max    100000.000000  2.001338e+06   99901.000000  3.434706e+06   \n",
       "std       604.058117  5.392514e+05   28654.532876  9.993093e+03   \n",
       "\n",
       "                                Year  \n",
       "count                         199269  \n",
       "mean   2012-10-14 01:57:37.892597760  \n",
       "min              2007-01-01 00:00:00  \n",
       "25%              2010-03-19 00:00:00  \n",
       "50%              2013-05-31 00:00:00  \n",
       "75%              2015-06-24 00:00:00  \n",
       "max              2016-12-30 00:00:00  \n",
       "std                              NaN  "
      ]
     },
     "execution_count": 300,
     "metadata": {},
     "output_type": "execute_result"
    }
   ],
   "source": [
    "df.describe() "
   ]
  },
  {
   "cell_type": "code",
   "execution_count": 301,
   "metadata": {},
   "outputs": [
    {
     "data": {
      "text/plain": [
       "Index(['brokered_by', 'status', 'price', 'bed', 'bath', 'acre_lot', 'street',\n",
       "       'city', 'state', 'zip_code', 'house_size', 'Year'],\n",
       "      dtype='object')"
      ]
     },
     "execution_count": 301,
     "metadata": {},
     "output_type": "execute_result"
    }
   ],
   "source": [
    "df.columns"
   ]
  },
  {
   "cell_type": "code",
   "execution_count": 302,
   "metadata": {},
   "outputs": [
    {
     "name": "stdout",
     "output_type": "stream",
     "text": [
      "Requirement already satisfied: kaggle in c:\\users\\hp\\anaconda3\\lib\\site-packages (1.6.12)\n",
      "Requirement already satisfied: six>=1.10 in c:\\users\\hp\\anaconda3\\lib\\site-packages (from kaggle) (1.16.0)\n",
      "Requirement already satisfied: certifi>=2023.7.22 in c:\\users\\hp\\anaconda3\\lib\\site-packages (from kaggle) (2024.6.2)\n",
      "Requirement already satisfied: python-dateutil in c:\\users\\hp\\anaconda3\\lib\\site-packages (from kaggle) (2.8.2)\n",
      "Requirement already satisfied: requests in c:\\users\\hp\\anaconda3\\lib\\site-packages (from kaggle) (2.31.0)\n",
      "Requirement already satisfied: tqdm in c:\\users\\hp\\anaconda3\\lib\\site-packages (from kaggle) (4.65.0)\n",
      "Requirement already satisfied: python-slugify in c:\\users\\hp\\anaconda3\\lib\\site-packages (from kaggle) (5.0.2)\n",
      "Requirement already satisfied: urllib3 in c:\\users\\hp\\anaconda3\\lib\\site-packages (from kaggle) (2.0.7)\n",
      "Requirement already satisfied: bleach in c:\\users\\hp\\anaconda3\\lib\\site-packages (from kaggle) (4.1.0)\n",
      "Requirement already satisfied: packaging in c:\\users\\hp\\anaconda3\\lib\\site-packages (from bleach->kaggle) (23.1)\n",
      "Requirement already satisfied: webencodings in c:\\users\\hp\\anaconda3\\lib\\site-packages (from bleach->kaggle) (0.5.1)\n",
      "Requirement already satisfied: text-unidecode>=1.3 in c:\\users\\hp\\anaconda3\\lib\\site-packages (from python-slugify->kaggle) (1.3)\n",
      "Requirement already satisfied: charset-normalizer<4,>=2 in c:\\users\\hp\\anaconda3\\lib\\site-packages (from requests->kaggle) (2.0.4)\n",
      "Requirement already satisfied: idna<4,>=2.5 in c:\\users\\hp\\anaconda3\\lib\\site-packages (from requests->kaggle) (3.4)\n",
      "Requirement already satisfied: colorama in c:\\users\\hp\\anaconda3\\lib\\site-packages (from tqdm->kaggle) (0.4.6)\n"
     ]
    }
   ],
   "source": [
    "!pip install kaggle"
   ]
  },
  {
   "cell_type": "code",
   "execution_count": 306,
   "metadata": {},
   "outputs": [
    {
     "name": "stdout",
     "output_type": "stream",
     "text": [
      "brokered_by      151\n",
      "status             0\n",
      "price              0\n",
      "bed            21374\n",
      "bath           20529\n",
      "acre_lot       29659\n",
      "street           828\n",
      "city              18\n",
      "state              0\n",
      "zip_code           1\n",
      "house_size     30312\n",
      "Year               0\n",
      "dtype: int64\n"
     ]
    }
   ],
   "source": [
    "print(df.isnull().sum())\n"
   ]
  },
  {
   "cell_type": "code",
   "execution_count": 307,
   "metadata": {},
   "outputs": [
    {
     "name": "stdout",
     "output_type": "stream",
     "text": [
      "0\n"
     ]
    }
   ],
   "source": [
    "print(df.duplicated().sum())\n"
   ]
  },
  {
   "cell_type": "code",
   "execution_count": 314,
   "metadata": {
    "id": "Su8E0uLuYkHU"
   },
   "outputs": [],
   "source": [
    "#FILL IN 1st data gathering and loading method"
   ]
  },
  {
   "cell_type": "markdown",
   "metadata": {
    "id": "QwSWIVmotLgV"
   },
   "source": [
    "## 2. Assess data\n",
    "\n",
    "Assess the data according to data quality and tidiness metrics using the report below.\n",
    "\n",
    "List **two** data quality issues and **two** tidiness issues. Assess each data issue visually **and** programmatically, then briefly describe the issue you find.  **Make sure you include justifications for the methods you use for the assessment.**\n",
    "\n",
    "\"dirty data and messy data.\n",
    "\r\n",
    "Inaccurate data is an example of dirty data, i.e., a data quality issue. High data quality is crucial for obtaining reliable insights and driving informed decision-makin.\r\n",
    "\r\n",
    "Unorganized data is an example of messy data, i.e., a data structural issue. With tidy data, we can focus on performing additional assessments and cleaning without dealing with roadblocks around getting the data into a structure that's easier to view and pa\" \n",
    " data.rse."
   ]
  },
  {
   "cell_type": "code",
   "execution_count": 317,
   "metadata": {},
   "outputs": [
    {
     "data": {
      "text/html": [
       "<div>\n",
       "<style scoped>\n",
       "    .dataframe tbody tr th:only-of-type {\n",
       "        vertical-align: middle;\n",
       "    }\n",
       "\n",
       "    .dataframe tbody tr th {\n",
       "        vertical-align: top;\n",
       "    }\n",
       "\n",
       "    .dataframe thead th {\n",
       "        text-align: right;\n",
       "    }\n",
       "</style>\n",
       "<table border=\"1\" class=\"dataframe\">\n",
       "  <thead>\n",
       "    <tr style=\"text-align: right;\">\n",
       "      <th></th>\n",
       "      <th>Year</th>\n",
       "      <th>State</th>\n",
       "      <th>CoC Number</th>\n",
       "      <th>CoC Name</th>\n",
       "      <th>Measures</th>\n",
       "      <th>Count</th>\n",
       "    </tr>\n",
       "  </thead>\n",
       "  <tbody>\n",
       "    <tr>\n",
       "      <th>0</th>\n",
       "      <td>2007-01-01</td>\n",
       "      <td>AK</td>\n",
       "      <td>AK-500</td>\n",
       "      <td>Anchorage CoC</td>\n",
       "      <td>Chronically Homeless Individuals</td>\n",
       "      <td>224</td>\n",
       "    </tr>\n",
       "    <tr>\n",
       "      <th>1</th>\n",
       "      <td>2007-01-01</td>\n",
       "      <td>AK</td>\n",
       "      <td>AK-500</td>\n",
       "      <td>Anchorage CoC</td>\n",
       "      <td>Homeless Individuals</td>\n",
       "      <td>696</td>\n",
       "    </tr>\n",
       "    <tr>\n",
       "      <th>2</th>\n",
       "      <td>2007-01-01</td>\n",
       "      <td>AK</td>\n",
       "      <td>AK-500</td>\n",
       "      <td>Anchorage CoC</td>\n",
       "      <td>Homeless People in Families</td>\n",
       "      <td>278</td>\n",
       "    </tr>\n",
       "    <tr>\n",
       "      <th>3</th>\n",
       "      <td>2007-01-01</td>\n",
       "      <td>AK</td>\n",
       "      <td>AK-500</td>\n",
       "      <td>Anchorage CoC</td>\n",
       "      <td>Sheltered Chronically Homeless Individuals</td>\n",
       "      <td>187</td>\n",
       "    </tr>\n",
       "    <tr>\n",
       "      <th>4</th>\n",
       "      <td>2007-01-01</td>\n",
       "      <td>AK</td>\n",
       "      <td>AK-500</td>\n",
       "      <td>Anchorage CoC</td>\n",
       "      <td>Sheltered Homeless</td>\n",
       "      <td>842</td>\n",
       "    </tr>\n",
       "    <tr>\n",
       "      <th>5</th>\n",
       "      <td>2007-01-01</td>\n",
       "      <td>AK</td>\n",
       "      <td>AK-500</td>\n",
       "      <td>Anchorage CoC</td>\n",
       "      <td>Sheltered Homeless Individuals</td>\n",
       "      <td>589</td>\n",
       "    </tr>\n",
       "    <tr>\n",
       "      <th>6</th>\n",
       "      <td>2007-01-01</td>\n",
       "      <td>AK</td>\n",
       "      <td>AK-500</td>\n",
       "      <td>Anchorage CoC</td>\n",
       "      <td>Sheltered Homeless People in Families</td>\n",
       "      <td>253</td>\n",
       "    </tr>\n",
       "    <tr>\n",
       "      <th>7</th>\n",
       "      <td>2007-01-01</td>\n",
       "      <td>AK</td>\n",
       "      <td>AK-500</td>\n",
       "      <td>Anchorage CoC</td>\n",
       "      <td>Total Homeless</td>\n",
       "      <td>974</td>\n",
       "    </tr>\n",
       "    <tr>\n",
       "      <th>8</th>\n",
       "      <td>2007-01-01</td>\n",
       "      <td>AK</td>\n",
       "      <td>AK-500</td>\n",
       "      <td>Anchorage CoC</td>\n",
       "      <td>Unsheltered Chronically Homeless Individuals</td>\n",
       "      <td>37</td>\n",
       "    </tr>\n",
       "    <tr>\n",
       "      <th>9</th>\n",
       "      <td>2007-01-01</td>\n",
       "      <td>AK</td>\n",
       "      <td>AK-500</td>\n",
       "      <td>Anchorage CoC</td>\n",
       "      <td>Unsheltered Homeless</td>\n",
       "      <td>132</td>\n",
       "    </tr>\n",
       "  </tbody>\n",
       "</table>\n",
       "</div>"
      ],
      "text/plain": [
       "        Year State CoC Number       CoC Name  \\\n",
       "0 2007-01-01    AK     AK-500  Anchorage CoC   \n",
       "1 2007-01-01    AK     AK-500  Anchorage CoC   \n",
       "2 2007-01-01    AK     AK-500  Anchorage CoC   \n",
       "3 2007-01-01    AK     AK-500  Anchorage CoC   \n",
       "4 2007-01-01    AK     AK-500  Anchorage CoC   \n",
       "5 2007-01-01    AK     AK-500  Anchorage CoC   \n",
       "6 2007-01-01    AK     AK-500  Anchorage CoC   \n",
       "7 2007-01-01    AK     AK-500  Anchorage CoC   \n",
       "8 2007-01-01    AK     AK-500  Anchorage CoC   \n",
       "9 2007-01-01    AK     AK-500  Anchorage CoC   \n",
       "\n",
       "                                       Measures  Count  \n",
       "0              Chronically Homeless Individuals    224  \n",
       "1                          Homeless Individuals    696  \n",
       "2                   Homeless People in Families    278  \n",
       "3    Sheltered Chronically Homeless Individuals    187  \n",
       "4                            Sheltered Homeless    842  \n",
       "5                Sheltered Homeless Individuals    589  \n",
       "6         Sheltered Homeless People in Families    253  \n",
       "7                                Total Homeless    974  \n",
       "8  Unsheltered Chronically Homeless Individuals     37  \n",
       "9                          Unsheltered Homeless    132  "
      ]
     },
     "execution_count": 317,
     "metadata": {},
     "output_type": "execute_result"
    }
   ],
   "source": [
    "df2.head(10)"
   ]
  },
  {
   "cell_type": "code",
   "execution_count": 319,
   "metadata": {},
   "outputs": [
    {
     "data": {
      "text/html": [
       "<div>\n",
       "<style scoped>\n",
       "    .dataframe tbody tr th:only-of-type {\n",
       "        vertical-align: middle;\n",
       "    }\n",
       "\n",
       "    .dataframe tbody tr th {\n",
       "        vertical-align: top;\n",
       "    }\n",
       "\n",
       "    .dataframe thead th {\n",
       "        text-align: right;\n",
       "    }\n",
       "</style>\n",
       "<table border=\"1\" class=\"dataframe\">\n",
       "  <thead>\n",
       "    <tr style=\"text-align: right;\">\n",
       "      <th></th>\n",
       "      <th>Year</th>\n",
       "      <th>State</th>\n",
       "      <th>CoC Number</th>\n",
       "      <th>CoC Name</th>\n",
       "      <th>Measures</th>\n",
       "      <th>Count</th>\n",
       "    </tr>\n",
       "  </thead>\n",
       "  <tbody>\n",
       "    <tr>\n",
       "      <th>86519</th>\n",
       "      <td>2016-01-01</td>\n",
       "      <td>WY</td>\n",
       "      <td>WY-500</td>\n",
       "      <td>Wyoming Statewide CoC</td>\n",
       "      <td>Unsheltered Homeless</td>\n",
       "      <td>366</td>\n",
       "    </tr>\n",
       "    <tr>\n",
       "      <th>86520</th>\n",
       "      <td>2016-01-01</td>\n",
       "      <td>WY</td>\n",
       "      <td>WY-500</td>\n",
       "      <td>Wyoming Statewide CoC</td>\n",
       "      <td>Unsheltered Homeless Individuals</td>\n",
       "      <td>240</td>\n",
       "    </tr>\n",
       "    <tr>\n",
       "      <th>86521</th>\n",
       "      <td>2016-01-01</td>\n",
       "      <td>WY</td>\n",
       "      <td>WY-500</td>\n",
       "      <td>Wyoming Statewide CoC</td>\n",
       "      <td>Unsheltered Homeless People in Families</td>\n",
       "      <td>126</td>\n",
       "    </tr>\n",
       "    <tr>\n",
       "      <th>86522</th>\n",
       "      <td>2016-01-01</td>\n",
       "      <td>WY</td>\n",
       "      <td>WY-500</td>\n",
       "      <td>Wyoming Statewide CoC</td>\n",
       "      <td>Unsheltered Homeless Unaccompanied Children (U...</td>\n",
       "      <td>2</td>\n",
       "    </tr>\n",
       "    <tr>\n",
       "      <th>86523</th>\n",
       "      <td>2016-01-01</td>\n",
       "      <td>WY</td>\n",
       "      <td>WY-500</td>\n",
       "      <td>Wyoming Statewide CoC</td>\n",
       "      <td>Unsheltered Homeless Unaccompanied Young Adult...</td>\n",
       "      <td>5</td>\n",
       "    </tr>\n",
       "    <tr>\n",
       "      <th>86524</th>\n",
       "      <td>2016-01-01</td>\n",
       "      <td>WY</td>\n",
       "      <td>WY-500</td>\n",
       "      <td>Wyoming Statewide CoC</td>\n",
       "      <td>Unsheltered Homeless Unaccompanied Youth (Unde...</td>\n",
       "      <td>7</td>\n",
       "    </tr>\n",
       "    <tr>\n",
       "      <th>86525</th>\n",
       "      <td>2016-01-01</td>\n",
       "      <td>WY</td>\n",
       "      <td>WY-500</td>\n",
       "      <td>Wyoming Statewide CoC</td>\n",
       "      <td>Unsheltered Homeless Veterans</td>\n",
       "      <td>31</td>\n",
       "    </tr>\n",
       "    <tr>\n",
       "      <th>86526</th>\n",
       "      <td>2016-01-01</td>\n",
       "      <td>WY</td>\n",
       "      <td>WY-500</td>\n",
       "      <td>Wyoming Statewide CoC</td>\n",
       "      <td>Unsheltered Parenting Youth (Under 25)</td>\n",
       "      <td>3</td>\n",
       "    </tr>\n",
       "    <tr>\n",
       "      <th>86527</th>\n",
       "      <td>2016-01-01</td>\n",
       "      <td>WY</td>\n",
       "      <td>WY-500</td>\n",
       "      <td>Wyoming Statewide CoC</td>\n",
       "      <td>Unsheltered Parenting Youth Age 18-24</td>\n",
       "      <td>3</td>\n",
       "    </tr>\n",
       "    <tr>\n",
       "      <th>86528</th>\n",
       "      <td>2016-01-01</td>\n",
       "      <td>WY</td>\n",
       "      <td>WY-500</td>\n",
       "      <td>Wyoming Statewide CoC</td>\n",
       "      <td>Unsheltered Parenting Youth Under 18</td>\n",
       "      <td>0</td>\n",
       "    </tr>\n",
       "  </tbody>\n",
       "</table>\n",
       "</div>"
      ],
      "text/plain": [
       "            Year State CoC Number               CoC Name  \\\n",
       "86519 2016-01-01    WY     WY-500  Wyoming Statewide CoC   \n",
       "86520 2016-01-01    WY     WY-500  Wyoming Statewide CoC   \n",
       "86521 2016-01-01    WY     WY-500  Wyoming Statewide CoC   \n",
       "86522 2016-01-01    WY     WY-500  Wyoming Statewide CoC   \n",
       "86523 2016-01-01    WY     WY-500  Wyoming Statewide CoC   \n",
       "86524 2016-01-01    WY     WY-500  Wyoming Statewide CoC   \n",
       "86525 2016-01-01    WY     WY-500  Wyoming Statewide CoC   \n",
       "86526 2016-01-01    WY     WY-500  Wyoming Statewide CoC   \n",
       "86527 2016-01-01    WY     WY-500  Wyoming Statewide CoC   \n",
       "86528 2016-01-01    WY     WY-500  Wyoming Statewide CoC   \n",
       "\n",
       "                                                Measures  Count  \n",
       "86519                               Unsheltered Homeless    366  \n",
       "86520                   Unsheltered Homeless Individuals    240  \n",
       "86521            Unsheltered Homeless People in Families    126  \n",
       "86522  Unsheltered Homeless Unaccompanied Children (U...      2  \n",
       "86523  Unsheltered Homeless Unaccompanied Young Adult...      5  \n",
       "86524  Unsheltered Homeless Unaccompanied Youth (Unde...      7  \n",
       "86525                      Unsheltered Homeless Veterans     31  \n",
       "86526             Unsheltered Parenting Youth (Under 25)      3  \n",
       "86527              Unsheltered Parenting Youth Age 18-24      3  \n",
       "86528               Unsheltered Parenting Youth Under 18      0  "
      ]
     },
     "execution_count": 319,
     "metadata": {},
     "output_type": "execute_result"
    }
   ],
   "source": [
    "df2.tail(10)"
   ]
  },
  {
   "cell_type": "code",
   "execution_count": 321,
   "metadata": {},
   "outputs": [
    {
     "data": {
      "text/html": [
       "<div>\n",
       "<style scoped>\n",
       "    .dataframe tbody tr th:only-of-type {\n",
       "        vertical-align: middle;\n",
       "    }\n",
       "\n",
       "    .dataframe tbody tr th {\n",
       "        vertical-align: top;\n",
       "    }\n",
       "\n",
       "    .dataframe thead th {\n",
       "        text-align: right;\n",
       "    }\n",
       "</style>\n",
       "<table border=\"1\" class=\"dataframe\">\n",
       "  <thead>\n",
       "    <tr style=\"text-align: right;\">\n",
       "      <th></th>\n",
       "      <th>Year</th>\n",
       "      <th>Count</th>\n",
       "    </tr>\n",
       "  </thead>\n",
       "  <tbody>\n",
       "    <tr>\n",
       "      <th>count</th>\n",
       "      <td>86529</td>\n",
       "      <td>86529.000000</td>\n",
       "    </tr>\n",
       "    <tr>\n",
       "      <th>mean</th>\n",
       "      <td>2012-10-14 07:01:55.202995712</td>\n",
       "      <td>332.286748</td>\n",
       "    </tr>\n",
       "    <tr>\n",
       "      <th>min</th>\n",
       "      <td>2007-01-01 00:00:00</td>\n",
       "      <td>0.000000</td>\n",
       "    </tr>\n",
       "    <tr>\n",
       "      <th>25%</th>\n",
       "      <td>2011-01-01 00:00:00</td>\n",
       "      <td>7.000000</td>\n",
       "    </tr>\n",
       "    <tr>\n",
       "      <th>50%</th>\n",
       "      <td>2013-01-01 00:00:00</td>\n",
       "      <td>52.000000</td>\n",
       "    </tr>\n",
       "    <tr>\n",
       "      <th>75%</th>\n",
       "      <td>2015-01-01 00:00:00</td>\n",
       "      <td>235.000000</td>\n",
       "    </tr>\n",
       "    <tr>\n",
       "      <th>max</th>\n",
       "      <td>2016-01-01 00:00:00</td>\n",
       "      <td>75323.000000</td>\n",
       "    </tr>\n",
       "    <tr>\n",
       "      <th>std</th>\n",
       "      <td>NaN</td>\n",
       "      <td>1492.614929</td>\n",
       "    </tr>\n",
       "  </tbody>\n",
       "</table>\n",
       "</div>"
      ],
      "text/plain": [
       "                                Year         Count\n",
       "count                          86529  86529.000000\n",
       "mean   2012-10-14 07:01:55.202995712    332.286748\n",
       "min              2007-01-01 00:00:00      0.000000\n",
       "25%              2011-01-01 00:00:00      7.000000\n",
       "50%              2013-01-01 00:00:00     52.000000\n",
       "75%              2015-01-01 00:00:00    235.000000\n",
       "max              2016-01-01 00:00:00  75323.000000\n",
       "std                              NaN   1492.614929"
      ]
     },
     "execution_count": 321,
     "metadata": {},
     "output_type": "execute_result"
    }
   ],
   "source": [
    "df2.describe()"
   ]
  },
  {
   "cell_type": "code",
   "execution_count": 323,
   "metadata": {},
   "outputs": [
    {
     "name": "stdout",
     "output_type": "stream",
     "text": [
      "Year          0\n",
      "State         0\n",
      "CoC Number    0\n",
      "CoC Name      0\n",
      "Measures      0\n",
      "Count         0\n",
      "dtype: int64\n"
     ]
    }
   ],
   "source": [
    "print(df2.isnull().sum())\n"
   ]
  },
  {
   "cell_type": "code",
   "execution_count": 331,
   "metadata": {},
   "outputs": [
    {
     "name": "stdout",
     "output_type": "stream",
     "text": [
      "<class 'pandas.core.frame.DataFrame'>\n",
      "RangeIndex: 86529 entries, 0 to 86528\n",
      "Data columns (total 6 columns):\n",
      " #   Column      Non-Null Count  Dtype         \n",
      "---  ------      --------------  -----         \n",
      " 0   Year        86529 non-null  datetime64[ns]\n",
      " 1   State       86529 non-null  object        \n",
      " 2   CoC Number  86529 non-null  object        \n",
      " 3   CoC Name    86529 non-null  object        \n",
      " 4   Measures    86529 non-null  object        \n",
      " 5   Count       86529 non-null  int32         \n",
      "dtypes: datetime64[ns](1), int32(1), object(4)\n",
      "memory usage: 3.6+ MB\n"
     ]
    }
   ],
   "source": [
    "df2.info()"
   ]
  },
  {
   "cell_type": "code",
   "execution_count": 332,
   "metadata": {},
   "outputs": [
    {
     "data": {
      "text/plain": [
       "Index(['Year', 'State', 'CoC Number', 'CoC Name', 'Measures', 'Count'], dtype='object')"
      ]
     },
     "execution_count": 332,
     "metadata": {},
     "output_type": "execute_result"
    }
   ],
   "source": [
    "df2.columns"
   ]
  },
  {
   "cell_type": "code",
   "execution_count": 334,
   "metadata": {},
   "outputs": [
    {
     "data": {
      "text/plain": [
       "Year        State  CoC Number  CoC Name                                 Measures                                           Count\n",
       "2007-01-01  AK     AK-500      Anchorage CoC                            Chronically Homeless Individuals                   224      1\n",
       "2015-01-01  IL     IL-504      Madison County CoC                       Homeless Unaccompanied Youth (Under 25)            1        1\n",
       "                                                                        Sheltered Chronically Homeless People in Families  10       1\n",
       "                                                                        Sheltered Chronically Homeless Individuals         5        1\n",
       "                                                                        Sheltered Chronically Homeless                     15       1\n",
       "                                                                                                                                   ..\n",
       "2012-01-01  CO     CO-503      Metropolitan Denver Homeless Initiative  Chronically Homeless                               957      1\n",
       "                   CO-500      Colorado Balance of State CoC            Unsheltered Homeless Veterans                      495      1\n",
       "                                                                        Unsheltered Homeless People in Families            6948     1\n",
       "                                                                        Unsheltered Homeless Individuals                   1320     1\n",
       "2016-01-01  WY     WY-500      Wyoming Statewide CoC                    Unsheltered Parenting Youth Under 18               0        1\n",
       "Name: count, Length: 86529, dtype: int64"
      ]
     },
     "execution_count": 334,
     "metadata": {},
     "output_type": "execute_result"
    }
   ],
   "source": [
    "df2.value_counts()"
   ]
  },
  {
   "cell_type": "code",
   "execution_count": 336,
   "metadata": {},
   "outputs": [],
   "source": [
    "#Optional: store the raw data in your local data store"
   ]
  },
  {
   "cell_type": "markdown",
   "metadata": {},
   "source": [
    "\n",
    "> data quality:\n",
    "\n",
    "  * *Completeness: is a metric that helps you understand whether your data is sufficient to answer interesting questions or solve your problem*\n",
    "\n",
    " *  *Validity is a metric helping you understand how well your data conforms to a defined set of rules for data, also known as a schema* \n",
    "   \n",
    "* Accuracy is a metric that helps you understand whether your data accurately represents the reality it aims to depict.* \n",
    "* Consistency is a metric that helps you understand two things: whether your data follows a standard format and whether your data’s info matches with information from other data sources.\n",
    "* Uniqueness is a metric that helps you understand whether there are duplicate or overlapping values in your data."
   ]
  },
  {
   "cell_type": "markdown",
   "metadata": {
    "id": "adaK2iPNzVu4"
   },
   "source": [
    "### Quality Issue and Tidiness Issues (Notes for myself)"
   ]
  },
  {
   "cell_type": "markdown",
   "metadata": {
    "id": "SpW59kh-zl8d"
   },
   "source": [
    "#FILL IN - Inspecting the data frame visually \n",
    "\n",
    "*  The shape of the df is huge It covers a lot of years, but df2 covers from 2007 to 2016: *So We have to limit the shape according to year. \n",
    "**( drop the data after 2017 | 12/2016  so it fits with the second dataset, or Filter the DataFrame to include only data from 2007 to 2016)** \n",
    "> And the code for this is: \n",
    " df = df[(df['Year'] >= 2007) & (df['Year'] <= 2016)]   \n",
    "- Year here is (prev_sold_date) So it have to be renamed either ways to [\"Year\"] which is object have to be changed to datetime.\n",
    "- The prev_sold_date  object, and it must be datatime. And it's important to notice that this column gives us an information saying this the \"Sold date\", So I have to use this information correctly to connect the 2 datasets, it's important to notice it might be a key column instead of the state.\n",
    "-  I have in df['prev_sold_date'] a 734297 null value.. first, I will reshape the data, then decide on how to deal with \n",
    "    date null values. \n",
    "\n",
    "* In df2 \"count\" must be integers.\n",
    "\n",
    "* df Have a lot of nulls. However, the most needed ones is the prices and the state. And df2 does not have any nulls.\n",
    "* To Fix this issue, I must define the necessary columns in both datas. \n",
    "  - necessary_columnsdf = df['Price', 'State', 'sold_date/ Year']\n",
    "  - necessary_columnsdf2 = df2['State', 'Year', 'Measures', 'counts']\n",
    "* * df have 8 missing Values in ['State'] I have to change it to ['unknown'] or fill it manually by knowing the city. \n",
    "\n",
    "* In df2 [\"States\"] must be defined by name So I have to change it be matches df1.\n",
    "\n",
    "  > df2['State'] = df2['State'].replace({'Alaska':'AK', 'Alabama':'AL', 'Arkansas':'AR', 'Arizona':'AZ', \r\n",
    "                      'California':'CA', 'Colorado':'CO', 'Connecticut':'CT', \r\n",
    "                      'District of Columbia':'DC', 'Delaware':'DE', 'Florida':'FL', \r\n",
    "                      'Georgia':'GA', 'Hawaii':'HI', 'Iowa':'IA', \r\n",
    "                      'Idaho':'ID', 'Illinois':'IL', 'Indiana':'IN', 'Kansas':'KS', \r\n",
    "                      'Kentucky':'KY', 'Louisiana':'LA', 'Massachusetts':'MA', 'Maryland':'MD', \r\n",
    "                      'Maine':'ME', 'Michigan':'MI', 'Minnesota':'MN', 'Missouri':'MO', \r\n",
    "                      'Mississippi':'MS', 'Montana':'MT', 'North Carolina':'NC', \r\n",
    "                      'North Dakota':'ND', 'Nebraska':'NE', 'New Hampshire':'NH', \r\n",
    "                      'New Jersey':'NJ', 'New Mexico':'NM', 'Nevada':'NV', 'New York':'NY', \r\n",
    "                      'Ohio':'OH', 'Oklahoma':'OK', 'Oregon':'OR', 'Pennsylvania':'PA', \r\n",
    "                      'Puerto Rico':'PR', 'Rhode Island':'RI', 'South Carolina':'SC', \r\n",
    "                      'South Dakota':'SD', 'Tennessee':'TN', 'Texas':'TX', 'Utah':'UT', \r\n",
    "                      'Virginia':'VA', 'Vermont':'VT', 'Washington':'WA', \r\n",
    "                      'Wisconsin':'WI', 'West Virginia':'WV', 'Wyoming':'WY'})\n",
    "\n",
    "* In df2 Measures addresses many kind of \"Homelessness\", which are Homeless Individuals',' Homeless People in Families', 'Unsheltered Homeless', We can make it moinge Tidy make it i \\\\\\\\\\ also there is \" Unsheltered Parenting Youth Under 18\" And \"...Under 25..\" n one category\n",
    "   > hodf2ols = homeless['Measures'].str.df2ies()\r\n",
    "homeless.join(homeless_cols[['Homeless Individuals','Homeless People in Families', 'Unshelter\n",
    "     - Homeless']]*\n",
    "* But still,I dont think we have to make it in categories.-  Instead, I Think I have to collect the \"count\" number in one re\n",
    "  ult per state. \n",
    " bject"
   ]
  },
  {
   "cell_type": "code",
   "execution_count": 342,
   "metadata": {},
   "outputs": [
    {
     "data": {
      "text/plain": [
       "(199269, 12)"
      ]
     },
     "execution_count": 342,
     "metadata": {},
     "output_type": "execute_result"
    }
   ],
   "source": [
    "df.shape"
   ]
  },
  {
   "cell_type": "code",
   "execution_count": 344,
   "metadata": {},
   "outputs": [
    {
     "data": {
      "text/plain": [
       "(86529, 6)"
      ]
     },
     "execution_count": 344,
     "metadata": {},
     "output_type": "execute_result"
    }
   ],
   "source": [
    "df2.shape"
   ]
  },
  {
   "cell_type": "code",
   "execution_count": 346,
   "metadata": {},
   "outputs": [
    {
     "name": "stdout",
     "output_type": "stream",
     "text": [
      "<class 'pandas.core.frame.DataFrame'>\n",
      "Index: 199269 entries, 2270 to 1414346\n",
      "Data columns (total 12 columns):\n",
      " #   Column       Non-Null Count   Dtype         \n",
      "---  ------       --------------   -----         \n",
      " 0   brokered_by  199118 non-null  float64       \n",
      " 1   status       199269 non-null  object        \n",
      " 2   price        199269 non-null  float64       \n",
      " 3   bed          177895 non-null  float64       \n",
      " 4   bath         178740 non-null  float64       \n",
      " 5   acre_lot     169610 non-null  float64       \n",
      " 6   street       198441 non-null  float64       \n",
      " 7   city         199251 non-null  object        \n",
      " 8   state        199269 non-null  object        \n",
      " 9   zip_code     199268 non-null  float64       \n",
      " 10  house_size   168957 non-null  float64       \n",
      " 11  Year         199269 non-null  datetime64[ns]\n",
      "dtypes: datetime64[ns](1), float64(8), object(3)\n",
      "memory usage: 19.8+ MB\n"
     ]
    }
   ],
   "source": [
    "df.info()"
   ]
  },
  {
   "cell_type": "code",
   "execution_count": 348,
   "metadata": {},
   "outputs": [
    {
     "name": "stdout",
     "output_type": "stream",
     "text": [
      "<class 'pandas.core.frame.DataFrame'>\n",
      "RangeIndex: 86529 entries, 0 to 86528\n",
      "Data columns (total 6 columns):\n",
      " #   Column      Non-Null Count  Dtype         \n",
      "---  ------      --------------  -----         \n",
      " 0   Year        86529 non-null  datetime64[ns]\n",
      " 1   State       86529 non-null  object        \n",
      " 2   CoC Number  86529 non-null  object        \n",
      " 3   CoC Name    86529 non-null  object        \n",
      " 4   Measures    86529 non-null  object        \n",
      " 5   Count       86529 non-null  int32         \n",
      "dtypes: datetime64[ns](1), int32(1), object(4)\n",
      "memory usage: 3.6+ MB\n"
     ]
    }
   ],
   "source": [
    "df2.info()"
   ]
  },
  {
   "cell_type": "code",
   "execution_count": 350,
   "metadata": {},
   "outputs": [
    {
     "data": {
      "text/html": [
       "<div>\n",
       "<style scoped>\n",
       "    .dataframe tbody tr th:only-of-type {\n",
       "        vertical-align: middle;\n",
       "    }\n",
       "\n",
       "    .dataframe tbody tr th {\n",
       "        vertical-align: top;\n",
       "    }\n",
       "\n",
       "    .dataframe thead th {\n",
       "        text-align: right;\n",
       "    }\n",
       "</style>\n",
       "<table border=\"1\" class=\"dataframe\">\n",
       "  <thead>\n",
       "    <tr style=\"text-align: right;\">\n",
       "      <th></th>\n",
       "      <th>brokered_by</th>\n",
       "      <th>status</th>\n",
       "      <th>price</th>\n",
       "      <th>bed</th>\n",
       "      <th>bath</th>\n",
       "      <th>acre_lot</th>\n",
       "      <th>street</th>\n",
       "      <th>city</th>\n",
       "      <th>state</th>\n",
       "      <th>zip_code</th>\n",
       "      <th>house_size</th>\n",
       "      <th>Year</th>\n",
       "    </tr>\n",
       "  </thead>\n",
       "  <tbody>\n",
       "    <tr>\n",
       "      <th>1144741</th>\n",
       "      <td>78251.0</td>\n",
       "      <td>for_sale</td>\n",
       "      <td>918888.0</td>\n",
       "      <td>4.0</td>\n",
       "      <td>2.0</td>\n",
       "      <td>10.01</td>\n",
       "      <td>224744.0</td>\n",
       "      <td>Larkspur</td>\n",
       "      <td>Colorado</td>\n",
       "      <td>80118.0</td>\n",
       "      <td>4457.0</td>\n",
       "      <td>2014-02-14</td>\n",
       "    </tr>\n",
       "    <tr>\n",
       "      <th>172061</th>\n",
       "      <td>22561.0</td>\n",
       "      <td>for_sale</td>\n",
       "      <td>79900.0</td>\n",
       "      <td>3.0</td>\n",
       "      <td>1.0</td>\n",
       "      <td>0.12</td>\n",
       "      <td>169948.0</td>\n",
       "      <td>Cumberland</td>\n",
       "      <td>Maryland</td>\n",
       "      <td>21502.0</td>\n",
       "      <td>1080.0</td>\n",
       "      <td>2015-03-25</td>\n",
       "    </tr>\n",
       "    <tr>\n",
       "      <th>389900</th>\n",
       "      <td>5660.0</td>\n",
       "      <td>for_sale</td>\n",
       "      <td>1650000.0</td>\n",
       "      <td>6.0</td>\n",
       "      <td>6.0</td>\n",
       "      <td>0.62</td>\n",
       "      <td>965116.0</td>\n",
       "      <td>Atlanta</td>\n",
       "      <td>Georgia</td>\n",
       "      <td>30319.0</td>\n",
       "      <td>4700.0</td>\n",
       "      <td>2016-06-17</td>\n",
       "    </tr>\n",
       "    <tr>\n",
       "      <th>1027485</th>\n",
       "      <td>53465.0</td>\n",
       "      <td>for_sale</td>\n",
       "      <td>324900.0</td>\n",
       "      <td>3.0</td>\n",
       "      <td>2.0</td>\n",
       "      <td>0.31</td>\n",
       "      <td>1058017.0</td>\n",
       "      <td>Arlington</td>\n",
       "      <td>Texas</td>\n",
       "      <td>76002.0</td>\n",
       "      <td>1579.0</td>\n",
       "      <td>2007-03-27</td>\n",
       "    </tr>\n",
       "    <tr>\n",
       "      <th>1038721</th>\n",
       "      <td>57305.0</td>\n",
       "      <td>for_sale</td>\n",
       "      <td>45000.0</td>\n",
       "      <td>NaN</td>\n",
       "      <td>NaN</td>\n",
       "      <td>0.30</td>\n",
       "      <td>1773810.0</td>\n",
       "      <td>Brookeland</td>\n",
       "      <td>Texas</td>\n",
       "      <td>75931.0</td>\n",
       "      <td>NaN</td>\n",
       "      <td>2014-03-27</td>\n",
       "    </tr>\n",
       "  </tbody>\n",
       "</table>\n",
       "</div>"
      ],
      "text/plain": [
       "         brokered_by    status      price  bed  bath  acre_lot     street  \\\n",
       "1144741      78251.0  for_sale   918888.0  4.0   2.0     10.01   224744.0   \n",
       "172061       22561.0  for_sale    79900.0  3.0   1.0      0.12   169948.0   \n",
       "389900        5660.0  for_sale  1650000.0  6.0   6.0      0.62   965116.0   \n",
       "1027485      53465.0  for_sale   324900.0  3.0   2.0      0.31  1058017.0   \n",
       "1038721      57305.0  for_sale    45000.0  NaN   NaN      0.30  1773810.0   \n",
       "\n",
       "               city     state  zip_code  house_size       Year  \n",
       "1144741    Larkspur  Colorado   80118.0      4457.0 2014-02-14  \n",
       "172061   Cumberland  Maryland   21502.0      1080.0 2015-03-25  \n",
       "389900      Atlanta   Georgia   30319.0      4700.0 2016-06-17  \n",
       "1027485   Arlington     Texas   76002.0      1579.0 2007-03-27  \n",
       "1038721  Brookeland     Texas   75931.0         NaN 2014-03-27  "
      ]
     },
     "execution_count": 350,
     "metadata": {},
     "output_type": "execute_result"
    }
   ],
   "source": [
    "df.sample(5)"
   ]
  },
  {
   "cell_type": "code",
   "execution_count": 351,
   "metadata": {},
   "outputs": [
    {
     "data": {
      "text/plain": [
       "Index(['brokered_by', 'status', 'price', 'bed', 'bath', 'acre_lot', 'street',\n",
       "       'city', 'state', 'zip_code', 'house_size', 'Year'],\n",
       "      dtype='object')"
      ]
     },
     "execution_count": 351,
     "metadata": {},
     "output_type": "execute_result"
    }
   ],
   "source": [
    "df.columns"
   ]
  },
  {
   "cell_type": "code",
   "execution_count": 354,
   "metadata": {},
   "outputs": [
    {
     "data": {
      "text/html": [
       "<div>\n",
       "<style scoped>\n",
       "    .dataframe tbody tr th:only-of-type {\n",
       "        vertical-align: middle;\n",
       "    }\n",
       "\n",
       "    .dataframe tbody tr th {\n",
       "        vertical-align: top;\n",
       "    }\n",
       "\n",
       "    .dataframe thead th {\n",
       "        text-align: right;\n",
       "    }\n",
       "</style>\n",
       "<table border=\"1\" class=\"dataframe\">\n",
       "  <thead>\n",
       "    <tr style=\"text-align: right;\">\n",
       "      <th></th>\n",
       "      <th>Year</th>\n",
       "      <th>State</th>\n",
       "      <th>CoC Number</th>\n",
       "      <th>CoC Name</th>\n",
       "      <th>Measures</th>\n",
       "      <th>Count</th>\n",
       "    </tr>\n",
       "  </thead>\n",
       "  <tbody>\n",
       "    <tr>\n",
       "      <th>81878</th>\n",
       "      <td>2016-01-01</td>\n",
       "      <td>NY</td>\n",
       "      <td>NY-604</td>\n",
       "      <td>Yonkers/Mount Vernon/New Rochelle/Westchester CoC</td>\n",
       "      <td>Parenting Youth Age 18-24</td>\n",
       "      <td>99</td>\n",
       "    </tr>\n",
       "    <tr>\n",
       "      <th>66570</th>\n",
       "      <td>2015-01-01</td>\n",
       "      <td>PA</td>\n",
       "      <td>PA-510</td>\n",
       "      <td>Lancaster City &amp; County CoC</td>\n",
       "      <td>Unsheltered Homeless Individuals</td>\n",
       "      <td>10</td>\n",
       "    </tr>\n",
       "    <tr>\n",
       "      <th>3342</th>\n",
       "      <td>2007-01-01</td>\n",
       "      <td>NY</td>\n",
       "      <td>NY-512</td>\n",
       "      <td>Troy/Rensselaer County CoC</td>\n",
       "      <td>Sheltered Homeless People in Families</td>\n",
       "      <td>125</td>\n",
       "    </tr>\n",
       "    <tr>\n",
       "      <th>85596</th>\n",
       "      <td>2016-01-01</td>\n",
       "      <td>VA</td>\n",
       "      <td>VA-601</td>\n",
       "      <td>Fairfax County CoC</td>\n",
       "      <td>Unsheltered Homeless Individuals</td>\n",
       "      <td>74</td>\n",
       "    </tr>\n",
       "    <tr>\n",
       "      <th>86281</th>\n",
       "      <td>2016-01-01</td>\n",
       "      <td>WI</td>\n",
       "      <td>WI-503</td>\n",
       "      <td>Madison/Dane County CoC</td>\n",
       "      <td>Homeless Individuals</td>\n",
       "      <td>360</td>\n",
       "    </tr>\n",
       "  </tbody>\n",
       "</table>\n",
       "</div>"
      ],
      "text/plain": [
       "            Year State CoC Number  \\\n",
       "81878 2016-01-01    NY     NY-604   \n",
       "66570 2015-01-01    PA     PA-510   \n",
       "3342  2007-01-01    NY     NY-512   \n",
       "85596 2016-01-01    VA     VA-601   \n",
       "86281 2016-01-01    WI     WI-503   \n",
       "\n",
       "                                                CoC Name  \\\n",
       "81878  Yonkers/Mount Vernon/New Rochelle/Westchester CoC   \n",
       "66570                        Lancaster City & County CoC   \n",
       "3342                          Troy/Rensselaer County CoC   \n",
       "85596                                 Fairfax County CoC   \n",
       "86281                            Madison/Dane County CoC   \n",
       "\n",
       "                                    Measures  Count  \n",
       "81878              Parenting Youth Age 18-24     99  \n",
       "66570       Unsheltered Homeless Individuals     10  \n",
       "3342   Sheltered Homeless People in Families    125  \n",
       "85596       Unsheltered Homeless Individuals     74  \n",
       "86281                   Homeless Individuals    360  "
      ]
     },
     "execution_count": 354,
     "metadata": {},
     "output_type": "execute_result"
    }
   ],
   "source": [
    "df2.sample(5)"
   ]
  },
  {
   "cell_type": "code",
   "execution_count": 355,
   "metadata": {},
   "outputs": [
    {
     "name": "stdout",
     "output_type": "stream",
     "text": [
      "brokered_by      151\n",
      "status             0\n",
      "price              0\n",
      "bed            21374\n",
      "bath           20529\n",
      "acre_lot       29659\n",
      "street           828\n",
      "city              18\n",
      "state              0\n",
      "zip_code           1\n",
      "house_size     30312\n",
      "Year               0\n",
      "dtype: int64\n"
     ]
    }
   ],
   "source": [
    "print(df.isnull().sum())"
   ]
  },
  {
   "cell_type": "code",
   "execution_count": 356,
   "metadata": {},
   "outputs": [
    {
     "name": "stdout",
     "output_type": "stream",
     "text": [
      "Index(['brokered_by', 'status', 'price', 'bed', 'bath', 'acre_lot', 'street',\n",
      "       'city', 'state', 'zip_code', 'house_size', 'Year'],\n",
      "      dtype='object')\n"
     ]
    }
   ],
   "source": [
    "print(df.columns)"
   ]
  },
  {
   "cell_type": "code",
   "execution_count": 357,
   "metadata": {},
   "outputs": [
    {
     "name": "stdout",
     "output_type": "stream",
     "text": [
      "Year          0\n",
      "State         0\n",
      "CoC Number    0\n",
      "CoC Name      0\n",
      "Measures      0\n",
      "Count         0\n",
      "dtype: int64\n"
     ]
    }
   ],
   "source": [
    "print(df2.isnull().sum())"
   ]
  },
  {
   "cell_type": "code",
   "execution_count": 362,
   "metadata": {},
   "outputs": [
    {
     "data": {
      "text/plain": [
       "array(['Chronically Homeless Individuals', 'Homeless Individuals',\n",
       "       'Homeless People in Families',\n",
       "       'Sheltered Chronically Homeless Individuals', 'Sheltered Homeless',\n",
       "       'Sheltered Homeless Individuals',\n",
       "       'Sheltered Homeless People in Families', 'Total Homeless',\n",
       "       'Unsheltered Chronically Homeless Individuals',\n",
       "       'Unsheltered Homeless', 'Unsheltered Homeless Individuals',\n",
       "       'Unsheltered Homeless People in Families', 'Chronically Homeless',\n",
       "       'Chronically Homeless People in Families', 'Homeless Veterans',\n",
       "       'Sheltered Chronically Homeless',\n",
       "       'Sheltered Chronically Homeless People in Families',\n",
       "       'Sheltered Homeless Veterans', 'Unsheltered Chronically Homeless',\n",
       "       'Unsheltered Chronically Homeless People in Families',\n",
       "       'Unsheltered Homeless Veterans', 'Children of Parenting Youth',\n",
       "       'Homeless Unaccompanied Children (Under 18)',\n",
       "       'Homeless Unaccompanied Young Adults (Age 18-24)',\n",
       "       'Homeless Unaccompanied Youth (Under 25)',\n",
       "       'Parenting Youth (Under 25)', 'Parenting Youth Age 18-24',\n",
       "       'Parenting Youth Under 18',\n",
       "       'Sheltered Children of Parenting Youth',\n",
       "       'Sheltered Homeless Unaccompanied Children (Under 18)',\n",
       "       'Sheltered Homeless Unaccompanied Young Adults (Age 18-24)',\n",
       "       'Sheltered Homeless Unaccompanied Youth (Under 25)',\n",
       "       'Sheltered Parenting Youth (Under 25)',\n",
       "       'Sheltered Parenting Youth Age 18-24',\n",
       "       'Sheltered Parenting Youth Under 18',\n",
       "       'Unsheltered Children of Parenting Youth',\n",
       "       'Unsheltered Homeless Unaccompanied Children (Under 18)',\n",
       "       'Unsheltered Homeless Unaccompanied Young Adults (Age 18-24)',\n",
       "       'Unsheltered Homeless Unaccompanied Youth (Under 25)',\n",
       "       'Unsheltered Parenting Youth (Under 25)',\n",
       "       'Unsheltered Parenting Youth Age 18-24',\n",
       "       'Unsheltered Parenting Youth Under 18'], dtype=object)"
      ]
     },
     "execution_count": 362,
     "metadata": {},
     "output_type": "execute_result"
    }
   ],
   "source": [
    "df2['Measures'].unique()"
   ]
  },
  {
   "cell_type": "code",
   "execution_count": 364,
   "metadata": {},
   "outputs": [
    {
     "data": {
      "text/plain": [
       "42"
      ]
     },
     "execution_count": 364,
     "metadata": {},
     "output_type": "execute_result"
    }
   ],
   "source": [
    "df2['Measures'].nunique()"
   ]
  },
  {
   "cell_type": "code",
   "execution_count": 366,
   "metadata": {},
   "outputs": [
    {
     "data": {
      "text/plain": [
       "86487"
      ]
     },
     "execution_count": 366,
     "metadata": {},
     "output_type": "execute_result"
    }
   ],
   "source": [
    "df2['Measures']. duplicated().sum()"
   ]
  },
  {
   "cell_type": "code",
   "execution_count": 368,
   "metadata": {},
   "outputs": [
    {
     "data": {
      "text/plain": [
       "0"
      ]
     },
     "execution_count": 368,
     "metadata": {},
     "output_type": "execute_result"
    }
   ],
   "source": [
    "df2['Measures']. isnull().sum()"
   ]
  },
  {
   "cell_type": "code",
   "execution_count": 370,
   "metadata": {},
   "outputs": [
    {
     "data": {
      "text/plain": [
       "<bound method IndexOpsMixin.value_counts of 0                         Chronically Homeless Individuals\n",
       "1                                     Homeless Individuals\n",
       "2                              Homeless People in Families\n",
       "3               Sheltered Chronically Homeless Individuals\n",
       "4                                       Sheltered Homeless\n",
       "                               ...                        \n",
       "86524    Unsheltered Homeless Unaccompanied Youth (Unde...\n",
       "86525                        Unsheltered Homeless Veterans\n",
       "86526               Unsheltered Parenting Youth (Under 25)\n",
       "86527                Unsheltered Parenting Youth Age 18-24\n",
       "86528                 Unsheltered Parenting Youth Under 18\n",
       "Name: Measures, Length: 86529, dtype: object>"
      ]
     },
     "execution_count": 370,
     "metadata": {},
     "output_type": "execute_result"
    }
   ],
   "source": [
    "df2['Measures'].value_counts"
   ]
  },
  {
   "cell_type": "markdown",
   "metadata": {
    "id": "D6gmLnBttpCh"
   },
   "source": [
    "## 3. Clean data\n",
    "Clean the data to solve the 4 issues corresponding to data quality and tidiness found in the assessing step. **Make sure you include justifications for your cleaning decisions.**\n",
    "\n",
    "After the cleaning for each issue, please use **either** the visually or programatical method to validate the cleaning was succesful.\n",
    "\n",
    "At this stage, you are also expected to remove variables that are unnecessary for your analysis and combine your datasets. Depending on your datasets, you may choose to perform variable combination and elimination before or after the cleaning stage. Your dataset must have **at least** 4 variables after combining the data."
   ]
  },
  {
   "cell_type": "markdown",
   "metadata": {},
   "source": [
    "# For the porpuse of combine "
   ]
  },
  {
   "cell_type": "markdown",
   "metadata": {},
   "source": [
    "Here is to make the time zone for df the same as df2: \n",
    "- Rename prev_sold_date To \"Year\". \n",
    "- dtype: datetime\n",
    "- 1/1/2006 - 31/12/2017 "
   ]
  },
  {
   "cell_type": "code",
   "execution_count": 375,
   "metadata": {},
   "outputs": [],
   "source": [
    "df.rename(columns= {'prev_sold_date': 'Year'}, inplace= True)  "
   ]
  },
  {
   "cell_type": "markdown",
   "metadata": {},
   "source": [
    "Check: "
   ]
  },
  {
   "cell_type": "code",
   "execution_count": 378,
   "metadata": {},
   "outputs": [
    {
     "data": {
      "text/html": [
       "<div>\n",
       "<style scoped>\n",
       "    .dataframe tbody tr th:only-of-type {\n",
       "        vertical-align: middle;\n",
       "    }\n",
       "\n",
       "    .dataframe tbody tr th {\n",
       "        vertical-align: top;\n",
       "    }\n",
       "\n",
       "    .dataframe thead th {\n",
       "        text-align: right;\n",
       "    }\n",
       "</style>\n",
       "<table border=\"1\" class=\"dataframe\">\n",
       "  <thead>\n",
       "    <tr style=\"text-align: right;\">\n",
       "      <th></th>\n",
       "      <th>brokered_by</th>\n",
       "      <th>status</th>\n",
       "      <th>price</th>\n",
       "      <th>bed</th>\n",
       "      <th>bath</th>\n",
       "      <th>acre_lot</th>\n",
       "      <th>street</th>\n",
       "      <th>city</th>\n",
       "      <th>state</th>\n",
       "      <th>zip_code</th>\n",
       "      <th>house_size</th>\n",
       "      <th>Year</th>\n",
       "    </tr>\n",
       "  </thead>\n",
       "  <tbody>\n",
       "    <tr>\n",
       "      <th>705391</th>\n",
       "      <td>45814.0</td>\n",
       "      <td>for_sale</td>\n",
       "      <td>440000.0</td>\n",
       "      <td>4.0</td>\n",
       "      <td>3.0</td>\n",
       "      <td>0.34</td>\n",
       "      <td>786391.0</td>\n",
       "      <td>Beachwood</td>\n",
       "      <td>Ohio</td>\n",
       "      <td>44122.0</td>\n",
       "      <td>2623.0</td>\n",
       "      <td>2016-11-29</td>\n",
       "    </tr>\n",
       "  </tbody>\n",
       "</table>\n",
       "</div>"
      ],
      "text/plain": [
       "        brokered_by    status     price  bed  bath  acre_lot    street  \\\n",
       "705391      45814.0  for_sale  440000.0  4.0   3.0      0.34  786391.0   \n",
       "\n",
       "             city state  zip_code  house_size       Year  \n",
       "705391  Beachwood  Ohio   44122.0      2623.0 2016-11-29  "
      ]
     },
     "execution_count": 378,
     "metadata": {},
     "output_type": "execute_result"
    }
   ],
   "source": [
    "df.sample(1)"
   ]
  },
  {
   "cell_type": "markdown",
   "metadata": {},
   "source": [
    "Change the dtype for Year because it's object"
   ]
  },
  {
   "cell_type": "code",
   "execution_count": 381,
   "metadata": {},
   "outputs": [],
   "source": [
    "df['Year'] = pd.to_datetime(df['Year'], errors='coerce')"
   ]
  },
  {
   "cell_type": "markdown",
   "metadata": {},
   "source": [
    "Check"
   ]
  },
  {
   "cell_type": "code",
   "execution_count": 384,
   "metadata": {},
   "outputs": [
    {
     "data": {
      "text/plain": [
       "brokered_by           float64\n",
       "status                 object\n",
       "price                 float64\n",
       "bed                   float64\n",
       "bath                  float64\n",
       "acre_lot              float64\n",
       "street                float64\n",
       "city                   object\n",
       "state                  object\n",
       "zip_code              float64\n",
       "house_size            float64\n",
       "Year           datetime64[ns]\n",
       "dtype: object"
      ]
     },
     "execution_count": 384,
     "metadata": {},
     "output_type": "execute_result"
    }
   ],
   "source": [
    "df.dtypes"
   ]
  },
  {
   "cell_type": "code",
   "execution_count": 386,
   "metadata": {},
   "outputs": [
    {
     "data": {
      "text/plain": [
       "0"
      ]
     },
     "execution_count": 386,
     "metadata": {},
     "output_type": "execute_result"
    }
   ],
   "source": [
    "df['Year']. isnull().sum()"
   ]
  },
  {
   "cell_type": "markdown",
   "metadata": {},
   "source": [
    "Now, lemit the df dataframe"
   ]
  },
  {
   "cell_type": "code",
   "execution_count": 389,
   "metadata": {},
   "outputs": [],
   "source": [
    "df = df[(df['Year'].dt.year >= 2007) & (df['Year'].dt.year <= 2016)]\n"
   ]
  },
  {
   "cell_type": "markdown",
   "metadata": {},
   "source": [
    "Check, The shape of df was (2226382, 12)"
   ]
  },
  {
   "cell_type": "code",
   "execution_count": 392,
   "metadata": {},
   "outputs": [
    {
     "data": {
      "text/plain": [
       "(199269, 12)"
      ]
     },
     "execution_count": 392,
     "metadata": {},
     "output_type": "execute_result"
    }
   ],
   "source": [
    "df.shape"
   ]
  },
  {
   "cell_type": "code",
   "execution_count": 394,
   "metadata": {},
   "outputs": [
    {
     "data": {
      "text/plain": [
       "0"
      ]
     },
     "execution_count": 394,
     "metadata": {},
     "output_type": "execute_result"
    }
   ],
   "source": [
    "df['Year']. isnull().sum()"
   ]
  },
  {
   "cell_type": "code",
   "execution_count": 396,
   "metadata": {},
   "outputs": [
    {
     "name": "stdout",
     "output_type": "stream",
     "text": [
      "2026813\n"
     ]
    }
   ],
   "source": [
    "check = 2226382 - 199569\n",
    "print(check)"
   ]
  },
  {
   "cell_type": "markdown",
   "metadata": {},
   "source": [
    "So, I've dropped 2026813 intries. I have to check the nulls. "
   ]
  },
  {
   "cell_type": "code",
   "execution_count": 399,
   "metadata": {},
   "outputs": [
    {
     "name": "stdout",
     "output_type": "stream",
     "text": [
      "brokered_by      151\n",
      "status             0\n",
      "price              0\n",
      "bed            21374\n",
      "bath           20529\n",
      "acre_lot       29659\n",
      "street           828\n",
      "city              18\n",
      "state              0\n",
      "zip_code           1\n",
      "house_size     30312\n",
      "Year               0\n",
      "dtype: int64\n"
     ]
    }
   ],
   "source": [
    "print(df.isnull().sum())"
   ]
  },
  {
   "cell_type": "markdown",
   "metadata": {},
   "source": [
    "Now,\n",
    "- I have no nulls in the Year Column. \n",
    "- I have no nulls in the State Column\n",
    "- I have 69 in the Price column. I can fill it with th mean of every year to care about the accuracy. "
   ]
  },
  {
   "cell_type": "markdown",
   "metadata": {
    "id": "FmFhN52Yyn3l"
   },
   "source": [
    "### **Quality Issue 1: FILL IN**"
   ]
  },
  {
   "cell_type": "code",
   "execution_count": 415,
   "metadata": {
    "id": "oUBee-LPytkv"
   },
   "outputs": [
    {
     "name": "stdout",
     "output_type": "stream",
     "text": [
      "DataFrame after filling missing prices with the mean price of each year:\n",
      "         brokered_by    status      price  bed  bath  acre_lot     street  \\\n",
      "2270         94933.0  for_sale   950000.0  5.0   4.0      0.99  1260473.0   \n",
      "2493         22968.0  for_sale    79500.0  NaN   NaN      0.76   765975.0   \n",
      "2555         34543.0  for_sale   176500.0  NaN   NaN      0.50   917409.0   \n",
      "3062         22968.0  for_sale   129000.0  NaN   NaN      6.30   739696.0   \n",
      "3409         21163.0  for_sale   525000.0  3.0   3.0      0.45  1813270.0   \n",
      "...              ...       ...        ...  ...   ...       ...        ...   \n",
      "1414189      79471.0  for_sale   425000.0  3.0   2.0      0.16  1728797.0   \n",
      "1414192      95190.0  for_sale   414900.0  4.0   2.0      0.23  1706555.0   \n",
      "1414316      21688.0  for_sale   525000.0  3.0   2.0      0.46  1003563.0   \n",
      "1414327      57432.0  for_sale  1100000.0  4.0   4.0      0.32  1280711.0   \n",
      "1414346      82020.0  for_sale   497000.0  4.0   3.0      0.41  1698210.0   \n",
      "\n",
      "                  city           state  zip_code  house_size       Year  \n",
      "2270      Saint Thomas  Virgin Islands     802.0      5000.0 2013-10-11  \n",
      "2493     Christiansted  Virgin Islands     820.0         NaN 2016-04-28  \n",
      "2555     Christiansted  Virgin Islands     820.0         NaN 2016-11-16  \n",
      "3062      Frederiksted  Virgin Islands     840.0         NaN 2010-01-26  \n",
      "3409            Agawam   Massachusetts    1001.0      2314.0 2014-06-25  \n",
      "...                ...             ...       ...         ...        ...  \n",
      "1414189         Juneau          Alaska   99801.0      1192.0 2015-12-18  \n",
      "1414192         Juneau          Alaska   99801.0      1304.0 2013-03-26  \n",
      "1414316      Ketchikan          Alaska   99901.0      1272.0 2007-06-12  \n",
      "1414327      Ketchikan          Alaska   99901.0      3600.0 2011-09-09  \n",
      "1414346      Ketchikan          Alaska   99901.0      2676.0 2014-03-07  \n",
      "\n",
      "[199269 rows x 12 columns]\n"
     ]
    }
   ],
   "source": [
    "# FILL IN - Validate the cleaning was successful\n",
    "# Here,  I must fill the Na in prices with the mean of the corresponding year.\n",
    "\n",
    "# Calculate the mean price for each year\n",
    "mean_prices = df.groupby('Year')[\"price\"].transform('mean')\n",
    "\n",
    "# Fill missing prices with the mean price of the corresponding year\n",
    "df[\"price\"] = df[\"price\"].fillna(mean_prices)\n",
    "\n",
    "# Display the DataFrame after filling missing prices\n",
    "print(\"DataFrame after filling missing prices with the mean price of each year:\")\n",
    "print(df)\n"
   ]
  },
  {
   "cell_type": "code",
   "execution_count": 417,
   "metadata": {},
   "outputs": [
    {
     "name": "stdout",
     "output_type": "stream",
     "text": [
      "2270        950000.0\n",
      "2493         79500.0\n",
      "2555        176500.0\n",
      "3062        129000.0\n",
      "3409        525000.0\n",
      "             ...    \n",
      "1414189     425000.0\n",
      "1414192     414900.0\n",
      "1414316     525000.0\n",
      "1414327    1100000.0\n",
      "1414346     497000.0\n",
      "Name: price, Length: 199269, dtype: float64\n"
     ]
    }
   ],
   "source": [
    "print(df['price'])"
   ]
  },
  {
   "cell_type": "markdown",
   "metadata": {},
   "source": [
    "Check: "
   ]
  },
  {
   "cell_type": "code",
   "execution_count": 420,
   "metadata": {},
   "outputs": [
    {
     "name": "stdout",
     "output_type": "stream",
     "text": [
      "brokered_by      151\n",
      "status             0\n",
      "price              0\n",
      "bed            21374\n",
      "bath           20529\n",
      "acre_lot       29659\n",
      "street           828\n",
      "city              18\n",
      "state              0\n",
      "zip_code           1\n",
      "house_size     30312\n",
      "Year               0\n",
      "dtype: int64\n"
     ]
    }
   ],
   "source": [
    "print(df.isnull().sum())"
   ]
  },
  {
   "cell_type": "markdown",
   "metadata": {},
   "source": [
    "Justification: *FILL IN*"
   ]
  },
  {
   "cell_type": "markdown",
   "metadata": {
    "id": "n_DAUbJrymBL"
   },
   "source": [
    "### **Quality Issue 2: FILL IN**"
   ]
  },
  {
   "cell_type": "code",
   "execution_count": 424,
   "metadata": {},
   "outputs": [
    {
     "data": {
      "text/plain": [
       "Index(['Year', 'State', 'CoC Number', 'CoC Name', 'Measures', 'Count'], dtype='object')"
      ]
     },
     "execution_count": 424,
     "metadata": {},
     "output_type": "execute_result"
    }
   ],
   "source": [
    "df2.columns"
   ]
  },
  {
   "cell_type": "code",
   "execution_count": 430,
   "metadata": {
    "id": "5Yfb-Yu5MTuE"
   },
   "outputs": [
    {
     "ename": "AttributeError",
     "evalue": "Can only use .str accessor with string values!",
     "output_type": "error",
     "traceback": [
      "\u001b[1;31m---------------------------------------------------------------------------\u001b[0m",
      "\u001b[1;31mAttributeError\u001b[0m                            Traceback (most recent call last)",
      "Cell \u001b[1;32mIn[430], line 3\u001b[0m\n\u001b[0;32m      1\u001b[0m \u001b[38;5;66;03m#FILL IN - Apply the cleaning strategy\u001b[39;00m\n\u001b[0;32m      2\u001b[0m \u001b[38;5;66;03m# In df2 \"count\" must be integers\u001b[39;00m\n\u001b[1;32m----> 3\u001b[0m df2[\u001b[38;5;124m'\u001b[39m\u001b[38;5;124mCount\u001b[39m\u001b[38;5;124m'\u001b[39m] \u001b[38;5;241m=\u001b[39m df2[\u001b[38;5;124m'\u001b[39m\u001b[38;5;124mCount\u001b[39m\u001b[38;5;124m'\u001b[39m]\u001b[38;5;241m.\u001b[39mstr\u001b[38;5;241m.\u001b[39mreplace(\u001b[38;5;124m'\u001b[39m\u001b[38;5;124m,\u001b[39m\u001b[38;5;124m'\u001b[39m, \u001b[38;5;124m'\u001b[39m\u001b[38;5;124m'\u001b[39m)\n\u001b[0;32m      5\u001b[0m df2[\u001b[38;5;124m'\u001b[39m\u001b[38;5;124mCount\u001b[39m\u001b[38;5;124m'\u001b[39m] \u001b[38;5;241m=\u001b[39m df2[\u001b[38;5;124m'\u001b[39m\u001b[38;5;124mCount\u001b[39m\u001b[38;5;124m'\u001b[39m]\u001b[38;5;241m.\u001b[39mastype(\u001b[38;5;28mint\u001b[39m)\n",
      "File \u001b[1;32m~\\anaconda3\\Lib\\site-packages\\pandas\\core\\generic.py:6204\u001b[0m, in \u001b[0;36mNDFrame.__getattr__\u001b[1;34m(self, name)\u001b[0m\n\u001b[0;32m   6197\u001b[0m \u001b[38;5;28;01mif\u001b[39;00m (\n\u001b[0;32m   6198\u001b[0m     name \u001b[38;5;129;01mnot\u001b[39;00m \u001b[38;5;129;01min\u001b[39;00m \u001b[38;5;28mself\u001b[39m\u001b[38;5;241m.\u001b[39m_internal_names_set\n\u001b[0;32m   6199\u001b[0m     \u001b[38;5;129;01mand\u001b[39;00m name \u001b[38;5;129;01mnot\u001b[39;00m \u001b[38;5;129;01min\u001b[39;00m \u001b[38;5;28mself\u001b[39m\u001b[38;5;241m.\u001b[39m_metadata\n\u001b[0;32m   6200\u001b[0m     \u001b[38;5;129;01mand\u001b[39;00m name \u001b[38;5;129;01mnot\u001b[39;00m \u001b[38;5;129;01min\u001b[39;00m \u001b[38;5;28mself\u001b[39m\u001b[38;5;241m.\u001b[39m_accessors\n\u001b[0;32m   6201\u001b[0m     \u001b[38;5;129;01mand\u001b[39;00m \u001b[38;5;28mself\u001b[39m\u001b[38;5;241m.\u001b[39m_info_axis\u001b[38;5;241m.\u001b[39m_can_hold_identifiers_and_holds_name(name)\n\u001b[0;32m   6202\u001b[0m ):\n\u001b[0;32m   6203\u001b[0m     \u001b[38;5;28;01mreturn\u001b[39;00m \u001b[38;5;28mself\u001b[39m[name]\n\u001b[1;32m-> 6204\u001b[0m \u001b[38;5;28;01mreturn\u001b[39;00m \u001b[38;5;28mobject\u001b[39m\u001b[38;5;241m.\u001b[39m\u001b[38;5;21m__getattribute__\u001b[39m(\u001b[38;5;28mself\u001b[39m, name)\n",
      "File \u001b[1;32m~\\anaconda3\\Lib\\site-packages\\pandas\\core\\accessor.py:224\u001b[0m, in \u001b[0;36mCachedAccessor.__get__\u001b[1;34m(self, obj, cls)\u001b[0m\n\u001b[0;32m    221\u001b[0m \u001b[38;5;28;01mif\u001b[39;00m obj \u001b[38;5;129;01mis\u001b[39;00m \u001b[38;5;28;01mNone\u001b[39;00m:\n\u001b[0;32m    222\u001b[0m     \u001b[38;5;66;03m# we're accessing the attribute of the class, i.e., Dataset.geo\u001b[39;00m\n\u001b[0;32m    223\u001b[0m     \u001b[38;5;28;01mreturn\u001b[39;00m \u001b[38;5;28mself\u001b[39m\u001b[38;5;241m.\u001b[39m_accessor\n\u001b[1;32m--> 224\u001b[0m accessor_obj \u001b[38;5;241m=\u001b[39m \u001b[38;5;28mself\u001b[39m\u001b[38;5;241m.\u001b[39m_accessor(obj)\n\u001b[0;32m    225\u001b[0m \u001b[38;5;66;03m# Replace the property with the accessor object. Inspired by:\u001b[39;00m\n\u001b[0;32m    226\u001b[0m \u001b[38;5;66;03m# https://www.pydanny.com/cached-property.html\u001b[39;00m\n\u001b[0;32m    227\u001b[0m \u001b[38;5;66;03m# We need to use object.__setattr__ because we overwrite __setattr__ on\u001b[39;00m\n\u001b[0;32m    228\u001b[0m \u001b[38;5;66;03m# NDFrame\u001b[39;00m\n\u001b[0;32m    229\u001b[0m \u001b[38;5;28mobject\u001b[39m\u001b[38;5;241m.\u001b[39m\u001b[38;5;21m__setattr__\u001b[39m(obj, \u001b[38;5;28mself\u001b[39m\u001b[38;5;241m.\u001b[39m_name, accessor_obj)\n",
      "File \u001b[1;32m~\\anaconda3\\Lib\\site-packages\\pandas\\core\\strings\\accessor.py:190\u001b[0m, in \u001b[0;36mStringMethods.__init__\u001b[1;34m(self, data)\u001b[0m\n\u001b[0;32m    187\u001b[0m \u001b[38;5;28;01mdef\u001b[39;00m \u001b[38;5;21m__init__\u001b[39m(\u001b[38;5;28mself\u001b[39m, data) \u001b[38;5;241m-\u001b[39m\u001b[38;5;241m>\u001b[39m \u001b[38;5;28;01mNone\u001b[39;00m:\n\u001b[0;32m    188\u001b[0m     \u001b[38;5;28;01mfrom\u001b[39;00m \u001b[38;5;21;01mpandas\u001b[39;00m\u001b[38;5;21;01m.\u001b[39;00m\u001b[38;5;21;01mcore\u001b[39;00m\u001b[38;5;21;01m.\u001b[39;00m\u001b[38;5;21;01marrays\u001b[39;00m\u001b[38;5;21;01m.\u001b[39;00m\u001b[38;5;21;01mstring_\u001b[39;00m \u001b[38;5;28;01mimport\u001b[39;00m StringDtype\n\u001b[1;32m--> 190\u001b[0m     \u001b[38;5;28mself\u001b[39m\u001b[38;5;241m.\u001b[39m_inferred_dtype \u001b[38;5;241m=\u001b[39m \u001b[38;5;28mself\u001b[39m\u001b[38;5;241m.\u001b[39m_validate(data)\n\u001b[0;32m    191\u001b[0m     \u001b[38;5;28mself\u001b[39m\u001b[38;5;241m.\u001b[39m_is_categorical \u001b[38;5;241m=\u001b[39m \u001b[38;5;28misinstance\u001b[39m(data\u001b[38;5;241m.\u001b[39mdtype, CategoricalDtype)\n\u001b[0;32m    192\u001b[0m     \u001b[38;5;28mself\u001b[39m\u001b[38;5;241m.\u001b[39m_is_string \u001b[38;5;241m=\u001b[39m \u001b[38;5;28misinstance\u001b[39m(data\u001b[38;5;241m.\u001b[39mdtype, StringDtype)\n",
      "File \u001b[1;32m~\\anaconda3\\Lib\\site-packages\\pandas\\core\\strings\\accessor.py:244\u001b[0m, in \u001b[0;36mStringMethods._validate\u001b[1;34m(data)\u001b[0m\n\u001b[0;32m    241\u001b[0m inferred_dtype \u001b[38;5;241m=\u001b[39m lib\u001b[38;5;241m.\u001b[39minfer_dtype(values, skipna\u001b[38;5;241m=\u001b[39m\u001b[38;5;28;01mTrue\u001b[39;00m)\n\u001b[0;32m    243\u001b[0m \u001b[38;5;28;01mif\u001b[39;00m inferred_dtype \u001b[38;5;129;01mnot\u001b[39;00m \u001b[38;5;129;01min\u001b[39;00m allowed_types:\n\u001b[1;32m--> 244\u001b[0m     \u001b[38;5;28;01mraise\u001b[39;00m \u001b[38;5;167;01mAttributeError\u001b[39;00m(\u001b[38;5;124m\"\u001b[39m\u001b[38;5;124mCan only use .str accessor with string values!\u001b[39m\u001b[38;5;124m\"\u001b[39m)\n\u001b[0;32m    245\u001b[0m \u001b[38;5;28;01mreturn\u001b[39;00m inferred_dtype\n",
      "\u001b[1;31mAttributeError\u001b[0m: Can only use .str accessor with string values!"
     ]
    }
   ],
   "source": [
    "#FILL IN - Apply the cleaning strategy\n",
    "# In df2 \"count\" must be integers\n",
    "df2['Count'] = df2['Count'].str.replace(',', '')\n",
    "\n",
    "df2['Count'] = df2['Count'].astype(int)"
   ]
  },
  {
   "cell_type": "markdown",
   "metadata": {},
   "source": [
    "Check"
   ]
  },
  {
   "cell_type": "code",
   "execution_count": 433,
   "metadata": {
    "id": "ionB2sRaMUmY"
   },
   "outputs": [
    {
     "name": "stdout",
     "output_type": "stream",
     "text": [
      "<class 'pandas.core.frame.DataFrame'>\n",
      "RangeIndex: 86529 entries, 0 to 86528\n",
      "Data columns (total 6 columns):\n",
      " #   Column      Non-Null Count  Dtype         \n",
      "---  ------      --------------  -----         \n",
      " 0   Year        86529 non-null  datetime64[ns]\n",
      " 1   State       86529 non-null  object        \n",
      " 2   CoC Number  86529 non-null  object        \n",
      " 3   CoC Name    86529 non-null  object        \n",
      " 4   Measures    86529 non-null  object        \n",
      " 5   Count       86529 non-null  int32         \n",
      "dtypes: datetime64[ns](1), int32(1), object(4)\n",
      "memory usage: 3.6+ MB\n"
     ]
    }
   ],
   "source": [
    "#FILL IN - Validate the cleaning was successful\n",
    "df2.info()"
   ]
  },
  {
   "cell_type": "markdown",
   "metadata": {},
   "source": [
    "Now, The Years Column is object here too, and it must be datetime too. "
   ]
  },
  {
   "cell_type": "code",
   "execution_count": 436,
   "metadata": {},
   "outputs": [],
   "source": [
    "df2['Year'] = pd.to_datetime(df2['Year'])"
   ]
  },
  {
   "cell_type": "code",
   "execution_count": 438,
   "metadata": {},
   "outputs": [
    {
     "name": "stdout",
     "output_type": "stream",
     "text": [
      "<class 'pandas.core.frame.DataFrame'>\n",
      "RangeIndex: 86529 entries, 0 to 86528\n",
      "Data columns (total 6 columns):\n",
      " #   Column      Non-Null Count  Dtype         \n",
      "---  ------      --------------  -----         \n",
      " 0   Year        86529 non-null  datetime64[ns]\n",
      " 1   State       86529 non-null  object        \n",
      " 2   CoC Number  86529 non-null  object        \n",
      " 3   CoC Name    86529 non-null  object        \n",
      " 4   Measures    86529 non-null  object        \n",
      " 5   Count       86529 non-null  int32         \n",
      "dtypes: datetime64[ns](1), int32(1), object(4)\n",
      "memory usage: 3.6+ MB\n"
     ]
    }
   ],
   "source": [
    "df2.info()"
   ]
  },
  {
   "cell_type": "markdown",
   "metadata": {},
   "source": [
    "Justification: *FILL IN*"
   ]
  },
  {
   "cell_type": "markdown",
   "metadata": {
    "id": "bIUrrfSNyOPR"
   },
   "source": [
    "### **Tidiness Issue 1: FILL IN**"
   ]
  },
  {
   "cell_type": "code",
   "execution_count": 444,
   "metadata": {
    "id": "fib0zAm333bn"
   },
   "outputs": [],
   "source": [
    "#FILL IN - Apply the cleaning strategy\n",
    "# Here I have to change the state column so when I combine the data make sense. \n",
    "\n",
    "state_abbr_to_full = {\n",
    "    'AK': 'Alaska', 'AL': 'Alabama', 'AR': 'Arkansas', 'AZ': 'Arizona', 'CA': 'California',\n",
    "    'CO': 'Colorado', 'CT': 'Connecticut', 'DC': 'District of Columbia', 'DE': 'Delaware', 'FL': 'Florida',\n",
    "    'GA': 'Georgia', 'HI': 'Hawaii', 'IA': 'Iowa', 'ID': 'Idaho', 'IL': 'Illinois', 'IN': 'Indiana',\n",
    "    'KS': 'Kansas', 'KY': 'Kentucky', 'LA': 'Louisiana', 'MA': 'Massachusetts', 'MD': 'Maryland',\n",
    "    'ME': 'Maine', 'MI': 'Michigan', 'MN': 'Minnesota', 'MO': 'Missouri', 'MS': 'Mississippi', 'MT': 'Montana',\n",
    "    'NC': 'North Carolina', 'ND': 'North Dakota', 'NE': 'Nebraska', 'NH': 'New Hampshire', 'NJ': 'New Jersey',\n",
    "    'NM': 'New Mexico', 'NV': 'Nevada', 'NY': 'New York', 'OH': 'Ohio', 'OK': 'Oklahoma', 'OR': 'Oregon',\n",
    "    'PA': 'Pennsylvania', 'PR': 'Puerto Rico', 'RI': 'Rhode Island', 'SC': 'South Carolina', 'SD': 'South Dakota',\n",
    "    'TN': 'Tennessee', 'TX': 'Texas', 'UT': 'Utah', 'VA': 'Virginia', 'VT': 'Vermont', 'WA': 'Washington',\n",
    "    'WI': 'Wisconsin', 'WV': 'West Virginia', 'WY': 'Wyoming', 'VI': 'Virgin Islands', 'GU': 'Guam'\n",
    "}\n",
    "\n",
    "# Replace state abbreviations with full names\n",
    "df2['State'] = df2['State'].replace(state_abbr_to_full)\n",
    "\n",
    "#States in df2 but not in df:\n",
    "#{'Puerto Rico', 'VI', 'GU'}\n",
    "\n",
    "#States in df but not in df2:\n",
    "#{'Virgin Islands'}"
   ]
  },
  {
   "cell_type": "code",
   "execution_count": 450,
   "metadata": {},
   "outputs": [
    {
     "name": "stdout",
     "output_type": "stream",
     "text": [
      "['Alaska' 'Alabama' 'Arkansas' 'Arizona' 'California' 'Colorado'\n",
      " 'Connecticut' 'District of Columbia' 'Delaware' 'Florida' 'Georgia'\n",
      " 'Guam' 'Hawaii' 'Iowa' 'Idaho' 'Illinois' 'Indiana' 'Kansas' 'Kentucky'\n",
      " 'Louisiana' 'Massachusetts' 'Maryland' 'Maine' 'Michigan' 'Minnesota'\n",
      " 'Missouri' 'Mississippi' 'Montana' 'North Carolina' 'North Dakota'\n",
      " 'Nebraska' 'New Hampshire' 'New Jersey' 'New Mexico' 'Nevada' 'New York'\n",
      " 'Ohio' 'Oklahoma' 'Oregon' 'Pennsylvania' 'Puerto Rico' 'Rhode Island'\n",
      " 'South Carolina' 'South Dakota' 'Tennessee' 'Texas' 'Utah' 'Virginia'\n",
      " 'Virgin Islands' 'Vermont' 'Washington' 'Wisconsin' 'West Virginia'\n",
      " 'Wyoming']\n"
     ]
    }
   ],
   "source": [
    "print(df2['State'].unique())"
   ]
  },
  {
   "cell_type": "code",
   "execution_count": 460,
   "metadata": {},
   "outputs": [
    {
     "data": {
      "text/html": [
       "<div>\n",
       "<style scoped>\n",
       "    .dataframe tbody tr th:only-of-type {\n",
       "        vertical-align: middle;\n",
       "    }\n",
       "\n",
       "    .dataframe tbody tr th {\n",
       "        vertical-align: top;\n",
       "    }\n",
       "\n",
       "    .dataframe thead th {\n",
       "        text-align: right;\n",
       "    }\n",
       "</style>\n",
       "<table border=\"1\" class=\"dataframe\">\n",
       "  <thead>\n",
       "    <tr style=\"text-align: right;\">\n",
       "      <th></th>\n",
       "      <th>Year</th>\n",
       "      <th>State</th>\n",
       "      <th>CoC Number</th>\n",
       "      <th>CoC Name</th>\n",
       "      <th>Measures</th>\n",
       "      <th>Count</th>\n",
       "    </tr>\n",
       "  </thead>\n",
       "  <tbody>\n",
       "    <tr>\n",
       "      <th>1421</th>\n",
       "      <td>2007-01-01</td>\n",
       "      <td>Illinois</td>\n",
       "      <td>IL-508</td>\n",
       "      <td>East Saint Louis/Belleville/Saint Clair County...</td>\n",
       "      <td>Sheltered Homeless Individuals</td>\n",
       "      <td>146</td>\n",
       "    </tr>\n",
       "    <tr>\n",
       "      <th>81122</th>\n",
       "      <td>2016-01-01</td>\n",
       "      <td>New York</td>\n",
       "      <td>NY-505</td>\n",
       "      <td>Syracuse, Auburn/Onondaga, Oswego, Cayuga Coun...</td>\n",
       "      <td>Parenting Youth Age 18-24</td>\n",
       "      <td>36</td>\n",
       "    </tr>\n",
       "    <tr>\n",
       "      <th>76742</th>\n",
       "      <td>2016-01-01</td>\n",
       "      <td>Massachusetts</td>\n",
       "      <td>MA-519</td>\n",
       "      <td>Attleboro/Taunton/Bristol County CoC</td>\n",
       "      <td>Unsheltered Parenting Youth Under 18</td>\n",
       "      <td>0</td>\n",
       "    </tr>\n",
       "    <tr>\n",
       "      <th>14478</th>\n",
       "      <td>2010-01-01</td>\n",
       "      <td>Alabama</td>\n",
       "      <td>AL-507</td>\n",
       "      <td>Alabama Balance of State CoC</td>\n",
       "      <td>Sheltered Homeless People in Families</td>\n",
       "      <td>104</td>\n",
       "    </tr>\n",
       "    <tr>\n",
       "      <th>30624</th>\n",
       "      <td>2012-01-01</td>\n",
       "      <td>Louisiana</td>\n",
       "      <td>LA-507</td>\n",
       "      <td>Alexandria/Central Louisiana CoC</td>\n",
       "      <td>Unsheltered Homeless Individuals</td>\n",
       "      <td>15</td>\n",
       "    </tr>\n",
       "  </tbody>\n",
       "</table>\n",
       "</div>"
      ],
      "text/plain": [
       "            Year          State CoC Number  \\\n",
       "1421  2007-01-01       Illinois     IL-508   \n",
       "81122 2016-01-01       New York     NY-505   \n",
       "76742 2016-01-01  Massachusetts     MA-519   \n",
       "14478 2010-01-01        Alabama     AL-507   \n",
       "30624 2012-01-01      Louisiana     LA-507   \n",
       "\n",
       "                                                CoC Name  \\\n",
       "1421   East Saint Louis/Belleville/Saint Clair County...   \n",
       "81122  Syracuse, Auburn/Onondaga, Oswego, Cayuga Coun...   \n",
       "76742               Attleboro/Taunton/Bristol County CoC   \n",
       "14478                       Alabama Balance of State CoC   \n",
       "30624                   Alexandria/Central Louisiana CoC   \n",
       "\n",
       "                                    Measures  Count  \n",
       "1421          Sheltered Homeless Individuals    146  \n",
       "81122              Parenting Youth Age 18-24     36  \n",
       "76742   Unsheltered Parenting Youth Under 18      0  \n",
       "14478  Sheltered Homeless People in Families    104  \n",
       "30624       Unsheltered Homeless Individuals     15  "
      ]
     },
     "execution_count": 460,
     "metadata": {},
     "output_type": "execute_result"
    }
   ],
   "source": [
    "df2.sample(5)"
   ]
  },
  {
   "cell_type": "code",
   "execution_count": 462,
   "metadata": {},
   "outputs": [
    {
     "data": {
      "text/plain": [
       "54"
      ]
     },
     "execution_count": 462,
     "metadata": {},
     "output_type": "execute_result"
    }
   ],
   "source": [
    "df2['State'].nunique()"
   ]
  },
  {
   "cell_type": "code",
   "execution_count": 464,
   "metadata": {},
   "outputs": [
    {
     "data": {
      "text/plain": [
       "52"
      ]
     },
     "execution_count": 464,
     "metadata": {},
     "output_type": "execute_result"
    }
   ],
   "source": [
    "df['state']. nunique()"
   ]
  },
  {
   "cell_type": "code",
   "execution_count": 466,
   "metadata": {},
   "outputs": [
    {
     "data": {
      "text/plain": [
       "0"
      ]
     },
     "execution_count": 466,
     "metadata": {},
     "output_type": "execute_result"
    }
   ],
   "source": [
    "df.duplicated(). sum()"
   ]
  },
  {
   "cell_type": "code",
   "execution_count": 468,
   "metadata": {},
   "outputs": [
    {
     "data": {
      "text/plain": [
       "0"
      ]
     },
     "execution_count": 468,
     "metadata": {},
     "output_type": "execute_result"
    }
   ],
   "source": [
    "df2.duplicated(). sum()"
   ]
  },
  {
   "cell_type": "markdown",
   "metadata": {},
   "source": [
    "I have 2 more issues \n",
    "> \n",
    "1- The state is in df2 in capital and in df is small. Must change to capital \n",
    "2- There is 2 more \"State\" in df2. "
   ]
  },
  {
   "cell_type": "code",
   "execution_count": 471,
   "metadata": {},
   "outputs": [],
   "source": [
    "df.rename(columns={'state': 'State'}, inplace=True)\n"
   ]
  },
  {
   "cell_type": "code",
   "execution_count": 473,
   "metadata": {},
   "outputs": [
    {
     "data": {
      "text/html": [
       "<div>\n",
       "<style scoped>\n",
       "    .dataframe tbody tr th:only-of-type {\n",
       "        vertical-align: middle;\n",
       "    }\n",
       "\n",
       "    .dataframe tbody tr th {\n",
       "        vertical-align: top;\n",
       "    }\n",
       "\n",
       "    .dataframe thead th {\n",
       "        text-align: right;\n",
       "    }\n",
       "</style>\n",
       "<table border=\"1\" class=\"dataframe\">\n",
       "  <thead>\n",
       "    <tr style=\"text-align: right;\">\n",
       "      <th></th>\n",
       "      <th>brokered_by</th>\n",
       "      <th>status</th>\n",
       "      <th>price</th>\n",
       "      <th>bed</th>\n",
       "      <th>bath</th>\n",
       "      <th>acre_lot</th>\n",
       "      <th>street</th>\n",
       "      <th>city</th>\n",
       "      <th>State</th>\n",
       "      <th>zip_code</th>\n",
       "      <th>house_size</th>\n",
       "      <th>Year</th>\n",
       "    </tr>\n",
       "  </thead>\n",
       "  <tbody>\n",
       "    <tr>\n",
       "      <th>2270</th>\n",
       "      <td>94933.0</td>\n",
       "      <td>for_sale</td>\n",
       "      <td>950000.0</td>\n",
       "      <td>5.0</td>\n",
       "      <td>4.0</td>\n",
       "      <td>0.99</td>\n",
       "      <td>1260473.0</td>\n",
       "      <td>Saint Thomas</td>\n",
       "      <td>Virgin Islands</td>\n",
       "      <td>802.0</td>\n",
       "      <td>5000.0</td>\n",
       "      <td>2013-10-11</td>\n",
       "    </tr>\n",
       "    <tr>\n",
       "      <th>2493</th>\n",
       "      <td>22968.0</td>\n",
       "      <td>for_sale</td>\n",
       "      <td>79500.0</td>\n",
       "      <td>NaN</td>\n",
       "      <td>NaN</td>\n",
       "      <td>0.76</td>\n",
       "      <td>765975.0</td>\n",
       "      <td>Christiansted</td>\n",
       "      <td>Virgin Islands</td>\n",
       "      <td>820.0</td>\n",
       "      <td>NaN</td>\n",
       "      <td>2016-04-28</td>\n",
       "    </tr>\n",
       "    <tr>\n",
       "      <th>2555</th>\n",
       "      <td>34543.0</td>\n",
       "      <td>for_sale</td>\n",
       "      <td>176500.0</td>\n",
       "      <td>NaN</td>\n",
       "      <td>NaN</td>\n",
       "      <td>0.50</td>\n",
       "      <td>917409.0</td>\n",
       "      <td>Christiansted</td>\n",
       "      <td>Virgin Islands</td>\n",
       "      <td>820.0</td>\n",
       "      <td>NaN</td>\n",
       "      <td>2016-11-16</td>\n",
       "    </tr>\n",
       "    <tr>\n",
       "      <th>3062</th>\n",
       "      <td>22968.0</td>\n",
       "      <td>for_sale</td>\n",
       "      <td>129000.0</td>\n",
       "      <td>NaN</td>\n",
       "      <td>NaN</td>\n",
       "      <td>6.30</td>\n",
       "      <td>739696.0</td>\n",
       "      <td>Frederiksted</td>\n",
       "      <td>Virgin Islands</td>\n",
       "      <td>840.0</td>\n",
       "      <td>NaN</td>\n",
       "      <td>2010-01-26</td>\n",
       "    </tr>\n",
       "    <tr>\n",
       "      <th>3409</th>\n",
       "      <td>21163.0</td>\n",
       "      <td>for_sale</td>\n",
       "      <td>525000.0</td>\n",
       "      <td>3.0</td>\n",
       "      <td>3.0</td>\n",
       "      <td>0.45</td>\n",
       "      <td>1813270.0</td>\n",
       "      <td>Agawam</td>\n",
       "      <td>Massachusetts</td>\n",
       "      <td>1001.0</td>\n",
       "      <td>2314.0</td>\n",
       "      <td>2014-06-25</td>\n",
       "    </tr>\n",
       "  </tbody>\n",
       "</table>\n",
       "</div>"
      ],
      "text/plain": [
       "      brokered_by    status     price  bed  bath  acre_lot     street  \\\n",
       "2270      94933.0  for_sale  950000.0  5.0   4.0      0.99  1260473.0   \n",
       "2493      22968.0  for_sale   79500.0  NaN   NaN      0.76   765975.0   \n",
       "2555      34543.0  for_sale  176500.0  NaN   NaN      0.50   917409.0   \n",
       "3062      22968.0  for_sale  129000.0  NaN   NaN      6.30   739696.0   \n",
       "3409      21163.0  for_sale  525000.0  3.0   3.0      0.45  1813270.0   \n",
       "\n",
       "               city           State  zip_code  house_size       Year  \n",
       "2270   Saint Thomas  Virgin Islands     802.0      5000.0 2013-10-11  \n",
       "2493  Christiansted  Virgin Islands     820.0         NaN 2016-04-28  \n",
       "2555  Christiansted  Virgin Islands     820.0         NaN 2016-11-16  \n",
       "3062   Frederiksted  Virgin Islands     840.0         NaN 2010-01-26  \n",
       "3409         Agawam   Massachusetts    1001.0      2314.0 2014-06-25  "
      ]
     },
     "execution_count": 473,
     "metadata": {},
     "output_type": "execute_result"
    }
   ],
   "source": [
    "df.head()"
   ]
  },
  {
   "cell_type": "code",
   "execution_count": 475,
   "metadata": {},
   "outputs": [
    {
     "name": "stdout",
     "output_type": "stream",
     "text": [
      "States in df2 but not in df:\n",
      "{'Guam', 'Puerto Rico'}\n",
      "\n",
      "States in df but not in df2:\n",
      "set()\n"
     ]
    }
   ],
   "source": [
    "\n",
    "# Get the unique states in both DataFrames\n",
    "unique_states_df = set(df['State'].unique())\n",
    "unique_states_df2 = set(df2['State'].unique())\n",
    "\n",
    "# Find states that are in df2 but not in df\n",
    "states_in_df2_not_in_df = unique_states_df2 - unique_states_df\n",
    "\n",
    "# Find states that are in df but not in df2\n",
    "states_in_df_not_in_df2 = unique_states_df - unique_states_df2\n",
    "\n",
    "print(\"States in df2 but not in df:\")\n",
    "print(states_in_df2_not_in_df)\n",
    "\n",
    "print(\"\\nStates in df but not in df2:\")\n",
    "print(states_in_df_not_in_df2)\n",
    "\n",
    "\n"
   ]
  },
  {
   "cell_type": "markdown",
   "metadata": {},
   "source": [
    "#### So, I must drop States in df2 but not in df: \n",
    "{'Puerto Rico', 'Guam' \n",
    "\n",
    "- Now, I want to check the year column for tidiness purposes. I have noticed that the entries of the Year column are not tidy in df but they are tidy in df2.}"
   ]
  },
  {
   "cell_type": "code",
   "execution_count": 478,
   "metadata": {},
   "outputs": [],
   "source": [
    "df =df.sort_values(by='Year').reset_index()"
   ]
  },
  {
   "cell_type": "code",
   "execution_count": 480,
   "metadata": {},
   "outputs": [
    {
     "data": {
      "text/html": [
       "<div>\n",
       "<style scoped>\n",
       "    .dataframe tbody tr th:only-of-type {\n",
       "        vertical-align: middle;\n",
       "    }\n",
       "\n",
       "    .dataframe tbody tr th {\n",
       "        vertical-align: top;\n",
       "    }\n",
       "\n",
       "    .dataframe thead th {\n",
       "        text-align: right;\n",
       "    }\n",
       "</style>\n",
       "<table border=\"1\" class=\"dataframe\">\n",
       "  <thead>\n",
       "    <tr style=\"text-align: right;\">\n",
       "      <th></th>\n",
       "      <th>index</th>\n",
       "      <th>brokered_by</th>\n",
       "      <th>status</th>\n",
       "      <th>price</th>\n",
       "      <th>bed</th>\n",
       "      <th>bath</th>\n",
       "      <th>acre_lot</th>\n",
       "      <th>street</th>\n",
       "      <th>city</th>\n",
       "      <th>State</th>\n",
       "      <th>zip_code</th>\n",
       "      <th>house_size</th>\n",
       "      <th>Year</th>\n",
       "    </tr>\n",
       "  </thead>\n",
       "  <tbody>\n",
       "    <tr>\n",
       "      <th>0</th>\n",
       "      <td>911844</td>\n",
       "      <td>15977.0</td>\n",
       "      <td>for_sale</td>\n",
       "      <td>80000.0</td>\n",
       "      <td>NaN</td>\n",
       "      <td>NaN</td>\n",
       "      <td>3.00</td>\n",
       "      <td>659959.0</td>\n",
       "      <td>Mexico</td>\n",
       "      <td>Missouri</td>\n",
       "      <td>65265.0</td>\n",
       "      <td>NaN</td>\n",
       "      <td>2007-01-01</td>\n",
       "    </tr>\n",
       "    <tr>\n",
       "      <th>1</th>\n",
       "      <td>864685</td>\n",
       "      <td>8748.0</td>\n",
       "      <td>for_sale</td>\n",
       "      <td>541000.0</td>\n",
       "      <td>4.0</td>\n",
       "      <td>3.0</td>\n",
       "      <td>0.25</td>\n",
       "      <td>811025.0</td>\n",
       "      <td>Plainfield</td>\n",
       "      <td>Illinois</td>\n",
       "      <td>60586.0</td>\n",
       "      <td>3084.0</td>\n",
       "      <td>2007-01-01</td>\n",
       "    </tr>\n",
       "    <tr>\n",
       "      <th>2</th>\n",
       "      <td>829710</td>\n",
       "      <td>22490.0</td>\n",
       "      <td>for_sale</td>\n",
       "      <td>259000.0</td>\n",
       "      <td>2.0</td>\n",
       "      <td>3.0</td>\n",
       "      <td>0.25</td>\n",
       "      <td>77733.0</td>\n",
       "      <td>Grand Rapids</td>\n",
       "      <td>Minnesota</td>\n",
       "      <td>55744.0</td>\n",
       "      <td>2360.0</td>\n",
       "      <td>2007-01-01</td>\n",
       "    </tr>\n",
       "    <tr>\n",
       "      <th>3</th>\n",
       "      <td>864687</td>\n",
       "      <td>8748.0</td>\n",
       "      <td>for_sale</td>\n",
       "      <td>491245.0</td>\n",
       "      <td>4.0</td>\n",
       "      <td>3.0</td>\n",
       "      <td>0.25</td>\n",
       "      <td>811057.0</td>\n",
       "      <td>Plainfield</td>\n",
       "      <td>Illinois</td>\n",
       "      <td>60586.0</td>\n",
       "      <td>2612.0</td>\n",
       "      <td>2007-01-01</td>\n",
       "    </tr>\n",
       "    <tr>\n",
       "      <th>4</th>\n",
       "      <td>1138769</td>\n",
       "      <td>44642.0</td>\n",
       "      <td>for_sale</td>\n",
       "      <td>410000.0</td>\n",
       "      <td>NaN</td>\n",
       "      <td>NaN</td>\n",
       "      <td>0.11</td>\n",
       "      <td>1253561.0</td>\n",
       "      <td>Superior</td>\n",
       "      <td>Colorado</td>\n",
       "      <td>80027.0</td>\n",
       "      <td>NaN</td>\n",
       "      <td>2007-01-02</td>\n",
       "    </tr>\n",
       "  </tbody>\n",
       "</table>\n",
       "</div>"
      ],
      "text/plain": [
       "     index  brokered_by    status     price  bed  bath  acre_lot     street  \\\n",
       "0   911844      15977.0  for_sale   80000.0  NaN   NaN      3.00   659959.0   \n",
       "1   864685       8748.0  for_sale  541000.0  4.0   3.0      0.25   811025.0   \n",
       "2   829710      22490.0  for_sale  259000.0  2.0   3.0      0.25    77733.0   \n",
       "3   864687       8748.0  for_sale  491245.0  4.0   3.0      0.25   811057.0   \n",
       "4  1138769      44642.0  for_sale  410000.0  NaN   NaN      0.11  1253561.0   \n",
       "\n",
       "           city      State  zip_code  house_size       Year  \n",
       "0        Mexico   Missouri   65265.0         NaN 2007-01-01  \n",
       "1    Plainfield   Illinois   60586.0      3084.0 2007-01-01  \n",
       "2  Grand Rapids  Minnesota   55744.0      2360.0 2007-01-01  \n",
       "3    Plainfield   Illinois   60586.0      2612.0 2007-01-01  \n",
       "4      Superior   Colorado   80027.0         NaN 2007-01-02  "
      ]
     },
     "execution_count": 480,
     "metadata": {},
     "output_type": "execute_result"
    }
   ],
   "source": [
    "df.head(5)"
   ]
  },
  {
   "cell_type": "code",
   "execution_count": 482,
   "metadata": {},
   "outputs": [
    {
     "data": {
      "text/html": [
       "<div>\n",
       "<style scoped>\n",
       "    .dataframe tbody tr th:only-of-type {\n",
       "        vertical-align: middle;\n",
       "    }\n",
       "\n",
       "    .dataframe tbody tr th {\n",
       "        vertical-align: top;\n",
       "    }\n",
       "\n",
       "    .dataframe thead th {\n",
       "        text-align: right;\n",
       "    }\n",
       "</style>\n",
       "<table border=\"1\" class=\"dataframe\">\n",
       "  <thead>\n",
       "    <tr style=\"text-align: right;\">\n",
       "      <th></th>\n",
       "      <th>Year</th>\n",
       "      <th>State</th>\n",
       "      <th>CoC Number</th>\n",
       "      <th>CoC Name</th>\n",
       "      <th>Measures</th>\n",
       "      <th>Count</th>\n",
       "    </tr>\n",
       "  </thead>\n",
       "  <tbody>\n",
       "    <tr>\n",
       "      <th>80978</th>\n",
       "      <td>2016-01-01</td>\n",
       "      <td>New York</td>\n",
       "      <td>NY-500</td>\n",
       "      <td>Rochester/Irondequoit/Greece/Monroe County CoC</td>\n",
       "      <td>Unsheltered Homeless Unaccompanied Children (U...</td>\n",
       "      <td>1</td>\n",
       "    </tr>\n",
       "    <tr>\n",
       "      <th>72569</th>\n",
       "      <td>2016-01-01</td>\n",
       "      <td>Delaware</td>\n",
       "      <td>DE-500</td>\n",
       "      <td>Delaware Statewide CoC</td>\n",
       "      <td>Sheltered Parenting Youth Under 18</td>\n",
       "      <td>0</td>\n",
       "    </tr>\n",
       "    <tr>\n",
       "      <th>36258</th>\n",
       "      <td>2013-01-01</td>\n",
       "      <td>Arkansas</td>\n",
       "      <td>AR-512</td>\n",
       "      <td>Boone, Baxter, Marion, Newton Counties CoC</td>\n",
       "      <td>Homeless Individuals</td>\n",
       "      <td>41</td>\n",
       "    </tr>\n",
       "    <tr>\n",
       "      <th>8349</th>\n",
       "      <td>2008-01-01</td>\n",
       "      <td>Ohio</td>\n",
       "      <td>OH-502</td>\n",
       "      <td>Cleveland/Cuyahoga County CoC</td>\n",
       "      <td>Unsheltered Homeless</td>\n",
       "      <td>151</td>\n",
       "    </tr>\n",
       "    <tr>\n",
       "      <th>70887</th>\n",
       "      <td>2016-01-01</td>\n",
       "      <td>California</td>\n",
       "      <td>CA-509</td>\n",
       "      <td>Mendocino County CoC</td>\n",
       "      <td>Sheltered Parenting Youth (Under 25)</td>\n",
       "      <td>2</td>\n",
       "    </tr>\n",
       "  </tbody>\n",
       "</table>\n",
       "</div>"
      ],
      "text/plain": [
       "            Year       State CoC Number  \\\n",
       "80978 2016-01-01    New York     NY-500   \n",
       "72569 2016-01-01    Delaware     DE-500   \n",
       "36258 2013-01-01    Arkansas     AR-512   \n",
       "8349  2008-01-01        Ohio     OH-502   \n",
       "70887 2016-01-01  California     CA-509   \n",
       "\n",
       "                                             CoC Name  \\\n",
       "80978  Rochester/Irondequoit/Greece/Monroe County CoC   \n",
       "72569                          Delaware Statewide CoC   \n",
       "36258      Boone, Baxter, Marion, Newton Counties CoC   \n",
       "8349                    Cleveland/Cuyahoga County CoC   \n",
       "70887                            Mendocino County CoC   \n",
       "\n",
       "                                                Measures  Count  \n",
       "80978  Unsheltered Homeless Unaccompanied Children (U...      1  \n",
       "72569                 Sheltered Parenting Youth Under 18      0  \n",
       "36258                               Homeless Individuals     41  \n",
       "8349                                Unsheltered Homeless    151  \n",
       "70887               Sheltered Parenting Youth (Under 25)      2  "
      ]
     },
     "execution_count": 482,
     "metadata": {},
     "output_type": "execute_result"
    }
   ],
   "source": [
    "df2.sample(5)"
   ]
  },
  {
   "cell_type": "markdown",
   "metadata": {},
   "source": [
    "# Measures \n",
    "*I have 42 kinds about Homeless people, So I will make them in 2 categories*\n",
    "\n",
    "1- Sheltered \n",
    "2- Unsheltered.\n",
    "However, I Still will have ['Chronically Homeless'] and ['Total Homeless'] not recognized. I will consider \"Chronically Homeless\" as Unsheltered Homeless Because \"Chronically\" must mean that. \n",
    "And, Total homeless means both sheltered and unsheltered I will consider the number in both sheltered and unsheltered. \n"
   ]
  },
  {
   "cell_type": "code",
   "execution_count": 485,
   "metadata": {},
   "outputs": [
    {
     "name": "stdout",
     "output_type": "stream",
     "text": [
      "            Year    State CoC Number               CoC Name  \\\n",
      "0     2007-01-01   Alaska     AK-500          Anchorage CoC   \n",
      "1     2007-01-01   Alaska     AK-500          Anchorage CoC   \n",
      "2     2007-01-01   Alaska     AK-500          Anchorage CoC   \n",
      "3     2007-01-01   Alaska     AK-500          Anchorage CoC   \n",
      "4     2007-01-01   Alaska     AK-500          Anchorage CoC   \n",
      "...          ...      ...        ...                    ...   \n",
      "86524 2016-01-01  Wyoming     WY-500  Wyoming Statewide CoC   \n",
      "86525 2016-01-01  Wyoming     WY-500  Wyoming Statewide CoC   \n",
      "86526 2016-01-01  Wyoming     WY-500  Wyoming Statewide CoC   \n",
      "86527 2016-01-01  Wyoming     WY-500  Wyoming Statewide CoC   \n",
      "86528 2016-01-01  Wyoming     WY-500  Wyoming Statewide CoC   \n",
      "\n",
      "                                                Measures  Count  Sheltered  \\\n",
      "0                       Chronically Homeless Individuals    224       True   \n",
      "1                                   Homeless Individuals    696      False   \n",
      "2                            Homeless People in Families    278       True   \n",
      "3             Sheltered Chronically Homeless Individuals    187       True   \n",
      "4                                     Sheltered Homeless    842       True   \n",
      "...                                                  ...    ...        ...   \n",
      "86524  Unsheltered Homeless Unaccompanied Youth (Unde...      7      False   \n",
      "86525                      Unsheltered Homeless Veterans     31      False   \n",
      "86526             Unsheltered Parenting Youth (Under 25)      3       True   \n",
      "86527              Unsheltered Parenting Youth Age 18-24      3       True   \n",
      "86528               Unsheltered Parenting Youth Under 18      0       True   \n",
      "\n",
      "       Unsheltered  \n",
      "0             True  \n",
      "1             True  \n",
      "2            False  \n",
      "3             True  \n",
      "4            False  \n",
      "...            ...  \n",
      "86524         True  \n",
      "86525         True  \n",
      "86526         True  \n",
      "86527         True  \n",
      "86528         True  \n",
      "\n",
      "[86529 rows x 8 columns]\n"
     ]
    }
   ],
   "source": [
    "# Define keywords for categorization\n",
    "sheltered_keywords = ['Sheltered', 'Parenting Youth', 'Chronically Homeless', 'Total Homeless', 'Homeless People in Families'] \n",
    "unsheltered_keywords = ['Unsheltered', 'Chronically Homeless', 'Homeless Unaccompanied', 'Total Homeless', 'Homeless Individuals']\n",
    "\n",
    "# Categorize measures into 'Sheltered' and 'Unsheltered'\n",
    "df2.loc[:, 'Sheltered'] = df2['Measures'].apply(lambda x: any(keyword in x for keyword in sheltered_keywords))\n",
    "df2.loc[:, 'Unsheltered'] = df2['Measures'].apply(lambda x: any(keyword in x for keyword in unsheltered_keywords))\n",
    "\n",
    "\n",
    "# Display DataFrame\n",
    "print(df2)"
   ]
  },
  {
   "cell_type": "code",
   "execution_count": 492,
   "metadata": {},
   "outputs": [
    {
     "data": {
      "text/plain": [
       "Index(['Year', 'State', 'CoC Number', 'CoC Name', 'Measures', 'Count',\n",
       "       'Sheltered', 'Unsheltered'],\n",
       "      dtype='object')"
      ]
     },
     "execution_count": 492,
     "metadata": {},
     "output_type": "execute_result"
    }
   ],
   "source": [
    "df2.columns"
   ]
  },
  {
   "cell_type": "markdown",
   "metadata": {},
   "source": [
    "I have To drop Measures, After I make a copy.\n",
    "**Drop the 'Measures' column**\n",
    "df2 = df2.drop(columns=['Measures'])"
   ]
  },
  {
   "cell_type": "markdown",
   "metadata": {},
   "source": [
    "### **Remove unnecessary variables and combine datasets**\n",
    "\n",
    "Depending on the datasets, you can also peform the combination before the cleaning steps."
   ]
  },
  {
   "cell_type": "code",
   "execution_count": 496,
   "metadata": {},
   "outputs": [],
   "source": [
    "#FILL IN - Remove unnecessary variables and combine datasets\n",
    "# necessary_columnsdf = df['Price', 'State', 'Year']\n",
    "# necessary_columnsdf2 = df2['State', 'Year', 'Measures', 'counts']\n",
    "\n",
    "necessary_df = df[['price','State', 'Year']]\n",
    "necessary_df2 = df2 [['State', 'Year', 'Measures', 'Count']]\n",
    "\n",
    "df = necessary_df\n",
    "df2 = necessary_df2\n",
    "\n"
   ]
  },
  {
   "cell_type": "markdown",
   "metadata": {},
   "source": [
    "Check"
   ]
  },
  {
   "cell_type": "code",
   "execution_count": 499,
   "metadata": {},
   "outputs": [
    {
     "data": {
      "text/html": [
       "<div>\n",
       "<style scoped>\n",
       "    .dataframe tbody tr th:only-of-type {\n",
       "        vertical-align: middle;\n",
       "    }\n",
       "\n",
       "    .dataframe tbody tr th {\n",
       "        vertical-align: top;\n",
       "    }\n",
       "\n",
       "    .dataframe thead th {\n",
       "        text-align: right;\n",
       "    }\n",
       "</style>\n",
       "<table border=\"1\" class=\"dataframe\">\n",
       "  <thead>\n",
       "    <tr style=\"text-align: right;\">\n",
       "      <th></th>\n",
       "      <th>price</th>\n",
       "      <th>State</th>\n",
       "      <th>Year</th>\n",
       "    </tr>\n",
       "  </thead>\n",
       "  <tbody>\n",
       "    <tr>\n",
       "      <th>0</th>\n",
       "      <td>80000.0</td>\n",
       "      <td>Missouri</td>\n",
       "      <td>2007-01-01</td>\n",
       "    </tr>\n",
       "    <tr>\n",
       "      <th>1</th>\n",
       "      <td>541000.0</td>\n",
       "      <td>Illinois</td>\n",
       "      <td>2007-01-01</td>\n",
       "    </tr>\n",
       "  </tbody>\n",
       "</table>\n",
       "</div>"
      ],
      "text/plain": [
       "      price     State       Year\n",
       "0   80000.0  Missouri 2007-01-01\n",
       "1  541000.0  Illinois 2007-01-01"
      ]
     },
     "execution_count": 499,
     "metadata": {},
     "output_type": "execute_result"
    }
   ],
   "source": [
    "df.head(2)"
   ]
  },
  {
   "cell_type": "code",
   "execution_count": 501,
   "metadata": {},
   "outputs": [
    {
     "data": {
      "text/html": [
       "<div>\n",
       "<style scoped>\n",
       "    .dataframe tbody tr th:only-of-type {\n",
       "        vertical-align: middle;\n",
       "    }\n",
       "\n",
       "    .dataframe tbody tr th {\n",
       "        vertical-align: top;\n",
       "    }\n",
       "\n",
       "    .dataframe thead th {\n",
       "        text-align: right;\n",
       "    }\n",
       "</style>\n",
       "<table border=\"1\" class=\"dataframe\">\n",
       "  <thead>\n",
       "    <tr style=\"text-align: right;\">\n",
       "      <th></th>\n",
       "      <th>State</th>\n",
       "      <th>Year</th>\n",
       "      <th>Measures</th>\n",
       "      <th>Count</th>\n",
       "    </tr>\n",
       "  </thead>\n",
       "  <tbody>\n",
       "    <tr>\n",
       "      <th>0</th>\n",
       "      <td>Alaska</td>\n",
       "      <td>2007-01-01</td>\n",
       "      <td>Chronically Homeless Individuals</td>\n",
       "      <td>224</td>\n",
       "    </tr>\n",
       "    <tr>\n",
       "      <th>1</th>\n",
       "      <td>Alaska</td>\n",
       "      <td>2007-01-01</td>\n",
       "      <td>Homeless Individuals</td>\n",
       "      <td>696</td>\n",
       "    </tr>\n",
       "  </tbody>\n",
       "</table>\n",
       "</div>"
      ],
      "text/plain": [
       "    State       Year                          Measures  Count\n",
       "0  Alaska 2007-01-01  Chronically Homeless Individuals    224\n",
       "1  Alaska 2007-01-01              Homeless Individuals    696"
      ]
     },
     "execution_count": 501,
     "metadata": {},
     "output_type": "execute_result"
    }
   ],
   "source": [
    "df2.head(2)"
   ]
  },
  {
   "cell_type": "code",
   "execution_count": 503,
   "metadata": {},
   "outputs": [
    {
     "data": {
      "text/plain": [
       "Index(['State', 'Year', 'Measures', 'Count'], dtype='object')"
      ]
     },
     "execution_count": 503,
     "metadata": {},
     "output_type": "execute_result"
    }
   ],
   "source": [
    "df2.columns"
   ]
  },
  {
   "cell_type": "code",
   "execution_count": 505,
   "metadata": {},
   "outputs": [
    {
     "data": {
      "text/plain": [
       "Index(['price', 'State', 'Year'], dtype='object')"
      ]
     },
     "execution_count": 505,
     "metadata": {},
     "output_type": "execute_result"
    }
   ],
   "source": [
    "df.columns"
   ]
  },
  {
   "cell_type": "code",
   "execution_count": 507,
   "metadata": {},
   "outputs": [
    {
     "name": "stdout",
     "output_type": "stream",
     "text": [
      "<class 'pandas.core.frame.DataFrame'>\n",
      "RangeIndex: 86529 entries, 0 to 86528\n",
      "Data columns (total 4 columns):\n",
      " #   Column    Non-Null Count  Dtype         \n",
      "---  ------    --------------  -----         \n",
      " 0   State     86529 non-null  object        \n",
      " 1   Year      86529 non-null  datetime64[ns]\n",
      " 2   Measures  86529 non-null  object        \n",
      " 3   Count     86529 non-null  int32         \n",
      "dtypes: datetime64[ns](1), int32(1), object(2)\n",
      "memory usage: 2.3+ MB\n"
     ]
    }
   ],
   "source": [
    "df2.info()"
   ]
  },
  {
   "cell_type": "code",
   "execution_count": 509,
   "metadata": {},
   "outputs": [
    {
     "name": "stdout",
     "output_type": "stream",
     "text": [
      "<class 'pandas.core.frame.DataFrame'>\n",
      "RangeIndex: 199269 entries, 0 to 199268\n",
      "Data columns (total 3 columns):\n",
      " #   Column  Non-Null Count   Dtype         \n",
      "---  ------  --------------   -----         \n",
      " 0   price   199269 non-null  float64       \n",
      " 1   State   199269 non-null  object        \n",
      " 2   Year    199269 non-null  datetime64[ns]\n",
      "dtypes: datetime64[ns](1), float64(1), object(1)\n",
      "memory usage: 4.6+ MB\n"
     ]
    }
   ],
   "source": [
    "df.info()"
   ]
  },
  {
   "cell_type": "markdown",
   "metadata": {},
   "source": [
    "- So, I must drop States in df2 but not in df: \n",
    "{'Puerto Rico', 'Guam}'"
   ]
  },
  {
   "cell_type": "code",
   "execution_count": 512,
   "metadata": {},
   "outputs": [],
   "source": [
    "# States in df but not in df2\n",
    "states_to_drop = {'Puerto Rico', 'Guam'}\n",
    "\n",
    "# Drop rows in df2 where the state is in states_to_drop\n",
    "df2 = df2[~df2['State'].isin(states_to_drop)]"
   ]
  },
  {
   "cell_type": "code",
   "execution_count": 514,
   "metadata": {},
   "outputs": [
    {
     "name": "stdout",
     "output_type": "stream",
     "text": [
      "<class 'pandas.core.frame.DataFrame'>\n",
      "Index: 85881 entries, 0 to 86528\n",
      "Data columns (total 4 columns):\n",
      " #   Column    Non-Null Count  Dtype         \n",
      "---  ------    --------------  -----         \n",
      " 0   State     85881 non-null  object        \n",
      " 1   Year      85881 non-null  datetime64[ns]\n",
      " 2   Measures  85881 non-null  object        \n",
      " 3   Count     85881 non-null  int32         \n",
      "dtypes: datetime64[ns](1), int32(1), object(2)\n",
      "memory usage: 2.9+ MB\n"
     ]
    }
   ],
   "source": [
    "df2.info()"
   ]
  },
  {
   "cell_type": "markdown",
   "metadata": {
    "id": "F42urHuzttjF"
   },
   "source": [
    "## 4. Update your data store\n",
    "Update your local database/data store with the cleaned data, following best practices for storing your cleaned data:\n",
    "\n",
    "- Must maintain different instances / versions of data (raw and cleaned data)\n",
    "- Must name the dataset files informatively\n",
    "- Ensure both the raw and cleaned data is saved to your database/data store"
   ]
  },
  {
   "cell_type": "markdown",
   "metadata": {},
   "source": [
    "# DF 2 - Homelessness in USA"
   ]
  },
  {
   "cell_type": "code",
   "execution_count": 518,
   "metadata": {},
   "outputs": [],
   "source": [
    "# Save raw data to CSV\n",
    "df2.to_csv('raw_homeless_data.csv', index=False)"
   ]
  },
  {
   "cell_type": "code",
   "execution_count": 520,
   "metadata": {},
   "outputs": [],
   "source": [
    "df2 = df2.drop(columns=['Measures']) #drop the Measures data"
   ]
  },
  {
   "cell_type": "code",
   "execution_count": 522,
   "metadata": {},
   "outputs": [
    {
     "data": {
      "text/html": [
       "<div>\n",
       "<style scoped>\n",
       "    .dataframe tbody tr th:only-of-type {\n",
       "        vertical-align: middle;\n",
       "    }\n",
       "\n",
       "    .dataframe tbody tr th {\n",
       "        vertical-align: top;\n",
       "    }\n",
       "\n",
       "    .dataframe thead th {\n",
       "        text-align: right;\n",
       "    }\n",
       "</style>\n",
       "<table border=\"1\" class=\"dataframe\">\n",
       "  <thead>\n",
       "    <tr style=\"text-align: right;\">\n",
       "      <th></th>\n",
       "      <th>State</th>\n",
       "      <th>Year</th>\n",
       "      <th>Count</th>\n",
       "    </tr>\n",
       "  </thead>\n",
       "  <tbody>\n",
       "    <tr>\n",
       "      <th>0</th>\n",
       "      <td>Alaska</td>\n",
       "      <td>2007-01-01</td>\n",
       "      <td>224</td>\n",
       "    </tr>\n",
       "    <tr>\n",
       "      <th>1</th>\n",
       "      <td>Alaska</td>\n",
       "      <td>2007-01-01</td>\n",
       "      <td>696</td>\n",
       "    </tr>\n",
       "    <tr>\n",
       "      <th>2</th>\n",
       "      <td>Alaska</td>\n",
       "      <td>2007-01-01</td>\n",
       "      <td>278</td>\n",
       "    </tr>\n",
       "    <tr>\n",
       "      <th>3</th>\n",
       "      <td>Alaska</td>\n",
       "      <td>2007-01-01</td>\n",
       "      <td>187</td>\n",
       "    </tr>\n",
       "    <tr>\n",
       "      <th>4</th>\n",
       "      <td>Alaska</td>\n",
       "      <td>2007-01-01</td>\n",
       "      <td>842</td>\n",
       "    </tr>\n",
       "  </tbody>\n",
       "</table>\n",
       "</div>"
      ],
      "text/plain": [
       "    State       Year  Count\n",
       "0  Alaska 2007-01-01    224\n",
       "1  Alaska 2007-01-01    696\n",
       "2  Alaska 2007-01-01    278\n",
       "3  Alaska 2007-01-01    187\n",
       "4  Alaska 2007-01-01    842"
      ]
     },
     "execution_count": 522,
     "metadata": {},
     "output_type": "execute_result"
    }
   ],
   "source": [
    "df2.head()"
   ]
  },
  {
   "cell_type": "code",
   "execution_count": 524,
   "metadata": {
    "id": "V3uay7EJUV_L"
   },
   "outputs": [
    {
     "name": "stdout",
     "output_type": "stream",
     "text": [
      "Raw and cleaned data have been saved to CSV files.\n"
     ]
    }
   ],
   "source": [
    "df2.to_csv('cleaned_homeless_data.csv', index=False)\n",
    "\n",
    "print(\"Raw and cleaned data have been saved to CSV files.\")\n"
   ]
  },
  {
   "cell_type": "markdown",
   "metadata": {},
   "source": [
    "# DF 1 : Real Estate in USA "
   ]
  },
  {
   "cell_type": "code",
   "execution_count": 527,
   "metadata": {},
   "outputs": [],
   "source": [
    "df.to_csv('cleaned_Houses_MArket_USA_data.csv', index=False)"
   ]
  },
  {
   "cell_type": "code",
   "execution_count": 528,
   "metadata": {},
   "outputs": [
    {
     "data": {
      "text/html": [
       "<div>\n",
       "<style scoped>\n",
       "    .dataframe tbody tr th:only-of-type {\n",
       "        vertical-align: middle;\n",
       "    }\n",
       "\n",
       "    .dataframe tbody tr th {\n",
       "        vertical-align: top;\n",
       "    }\n",
       "\n",
       "    .dataframe thead th {\n",
       "        text-align: right;\n",
       "    }\n",
       "</style>\n",
       "<table border=\"1\" class=\"dataframe\">\n",
       "  <thead>\n",
       "    <tr style=\"text-align: right;\">\n",
       "      <th></th>\n",
       "      <th>price</th>\n",
       "      <th>State</th>\n",
       "      <th>Year</th>\n",
       "    </tr>\n",
       "  </thead>\n",
       "  <tbody>\n",
       "    <tr>\n",
       "      <th>0</th>\n",
       "      <td>80000.0</td>\n",
       "      <td>Missouri</td>\n",
       "      <td>2007-01-01</td>\n",
       "    </tr>\n",
       "    <tr>\n",
       "      <th>1</th>\n",
       "      <td>541000.0</td>\n",
       "      <td>Illinois</td>\n",
       "      <td>2007-01-01</td>\n",
       "    </tr>\n",
       "  </tbody>\n",
       "</table>\n",
       "</div>"
      ],
      "text/plain": [
       "      price     State       Year\n",
       "0   80000.0  Missouri 2007-01-01\n",
       "1  541000.0  Illinois 2007-01-01"
      ]
     },
     "execution_count": 528,
     "metadata": {},
     "output_type": "execute_result"
    }
   ],
   "source": [
    "df.head(2)"
   ]
  },
  {
   "cell_type": "code",
   "execution_count": 531,
   "metadata": {},
   "outputs": [
    {
     "name": "stdout",
     "output_type": "stream",
     "text": [
      "<class 'pandas.core.frame.DataFrame'>\n",
      "RangeIndex: 199269 entries, 0 to 199268\n",
      "Data columns (total 3 columns):\n",
      " #   Column  Non-Null Count   Dtype         \n",
      "---  ------  --------------   -----         \n",
      " 0   price   199269 non-null  float64       \n",
      " 1   State   199269 non-null  object        \n",
      " 2   Year    199269 non-null  datetime64[ns]\n",
      "dtypes: datetime64[ns](1), float64(1), object(1)\n",
      "memory usage: 4.6+ MB\n"
     ]
    }
   ],
   "source": [
    "df.info()"
   ]
  },
  {
   "cell_type": "code",
   "execution_count": null,
   "metadata": {},
   "outputs": [],
   "source": [
    "df. drop('street', axis=1)"
   ]
  },
  {
   "cell_type": "code",
   "execution_count": 533,
   "metadata": {},
   "outputs": [],
   "source": [
    "df.loc[:, 'price'] = df['price'].astype(np.float32)"
   ]
  },
  {
   "cell_type": "code",
   "execution_count": 535,
   "metadata": {},
   "outputs": [
    {
     "name": "stdout",
     "output_type": "stream",
     "text": [
      "<class 'pandas.core.frame.DataFrame'>\n",
      "RangeIndex: 199269 entries, 0 to 199268\n",
      "Data columns (total 3 columns):\n",
      " #   Column  Non-Null Count   Dtype         \n",
      "---  ------  --------------   -----         \n",
      " 0   price   199269 non-null  float64       \n",
      " 1   State   199269 non-null  object        \n",
      " 2   Year    199269 non-null  datetime64[ns]\n",
      "dtypes: datetime64[ns](1), float64(1), object(1)\n",
      "memory usage: 4.6+ MB\n"
     ]
    }
   ],
   "source": [
    "df.info()"
   ]
  },
  {
   "cell_type": "code",
   "execution_count": 537,
   "metadata": {},
   "outputs": [
    {
     "name": "stdout",
     "output_type": "stream",
     "text": [
      "<class 'pandas.core.frame.DataFrame'>\n",
      "Index: 85881 entries, 0 to 86528\n",
      "Data columns (total 3 columns):\n",
      " #   Column  Non-Null Count  Dtype         \n",
      "---  ------  --------------  -----         \n",
      " 0   State   85881 non-null  object        \n",
      " 1   Year    85881 non-null  datetime64[ns]\n",
      " 2   Count   85881 non-null  int32         \n",
      "dtypes: datetime64[ns](1), int32(1), object(1)\n",
      "memory usage: 2.3+ MB\n"
     ]
    }
   ],
   "source": [
    "df2.info()"
   ]
  },
  {
   "cell_type": "code",
   "execution_count": 539,
   "metadata": {},
   "outputs": [],
   "source": [
    "df2.loc[:, 'Count'] = df2['Count'].astype(np.int16)"
   ]
  },
  {
   "cell_type": "code",
   "execution_count": 541,
   "metadata": {},
   "outputs": [
    {
     "name": "stdout",
     "output_type": "stream",
     "text": [
      "<class 'pandas.core.frame.DataFrame'>\n",
      "Index: 85881 entries, 0 to 86528\n",
      "Data columns (total 3 columns):\n",
      " #   Column  Non-Null Count  Dtype         \n",
      "---  ------  --------------  -----         \n",
      " 0   State   85881 non-null  object        \n",
      " 1   Year    85881 non-null  datetime64[ns]\n",
      " 2   Count   85881 non-null  int32         \n",
      "dtypes: datetime64[ns](1), int32(1), object(1)\n",
      "memory usage: 2.3+ MB\n"
     ]
    }
   ],
   "source": [
    "df2.info()"
   ]
  },
  {
   "cell_type": "markdown",
   "metadata": {},
   "source": [
    "# Combine 2 datasets"
   ]
  },
  {
   "cell_type": "code",
   "execution_count": null,
   "metadata": {},
   "outputs": [],
   "source": [
    "combined_df = pd.merge(df, df2, on='State', how='inner')"
   ]
  },
  {
   "cell_type": "markdown",
   "metadata": {
    "id": "cGy_yddGtzhM"
   },
   "source": [
    "## 5. Answer the research question\n",
    "\n",
    "### **5.1:** Define and answer the research question \n",
    "Going back to the problem statement in step 1, use the cleaned data to answer the question you raised. Produce **at least** two visualizations using the cleaned data and explain how they help you answer the question."
   ]
  },
  {
   "cell_type": "markdown",
   "metadata": {
    "id": "gjedE4s4ZkEd"
   },
   "source": [
    "*Research question:* FILL IN from answer to Step 1"
   ]
  },
  {
   "cell_type": "code",
   "execution_count": null,
   "metadata": {
    "id": "Lkw3rW9kZmOm"
   },
   "outputs": [],
   "source": [
    "#Visual 1 - FILL IN"
   ]
  },
  {
   "cell_type": "markdown",
   "metadata": {},
   "source": [
    "*Answer to research question:* FILL IN"
   ]
  },
  {
   "cell_type": "code",
   "execution_count": null,
   "metadata": {
    "id": "6fdK_8ZGZm9R"
   },
   "outputs": [],
   "source": [
    "#Visual 2 - FILL IN"
   ]
  },
  {
   "cell_type": "markdown",
   "metadata": {
    "id": "K5RgvMGUZoHn"
   },
   "source": [
    "*Answer to research question:* FILL IN"
   ]
  },
  {
   "cell_type": "markdown",
   "metadata": {
    "id": "0ezWXXZVj-TP"
   },
   "source": [
    "### **5.2:** Reflection\n",
    "In 2-4 sentences, if you had more time to complete the project, what actions would you take? For example, which data quality and structural issues would you look into further, and what research questions would you further explore?"
   ]
  },
  {
   "cell_type": "markdown",
   "metadata": {
    "id": "XB3RBDG5kFe1"
   },
   "source": [
    "*Answer:* FILL IN"
   ]
  }
 ],
 "metadata": {
  "colab": {
   "provenance": []
  },
  "kernelspec": {
   "display_name": "Python 3 (ipykernel)",
   "language": "python",
   "name": "python3"
  },
  "language_info": {
   "codemirror_mode": {
    "name": "ipython",
    "version": 3
   },
   "file_extension": ".py",
   "mimetype": "text/x-python",
   "name": "python",
   "nbconvert_exporter": "python",
   "pygments_lexer": "ipython3",
   "version": "3.11.7"
  }
 },
 "nbformat": 4,
 "nbformat_minor": 4
}
