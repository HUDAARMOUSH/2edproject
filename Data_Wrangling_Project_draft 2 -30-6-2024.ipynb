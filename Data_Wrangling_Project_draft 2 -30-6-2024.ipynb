{
 "cells": [
  {
   "cell_type": "markdown",
   "metadata": {
    "id": "GNIwe5N7s0e_"
   },
   "source": [
    "# Real-world Data Wrangling"
   ]
  },
  {
   "cell_type": "markdown",
   "metadata": {
    "id": "_BG63Tpg8ep_"
   },
   "source": [
    "In this project, you will apply the skills you acquired in the course to gather and wrangle real-world data with two datasets of your choice.\n",
    "\n",
    "You will retrieve and extract the data, assess the data programmatically and visually, accross elements of data quality and structure, and implement a cleaning strategy for the data. You will then store the updated data into your selected database/data store, combine the data, and answer a research question with the datasets.\n",
    "\n",
    "Throughout the process, you are expected to:\n",
    "\n",
    "1. Explain your decisions towards methods used for gathering, assessing, cleaning, storing, and answering the research question\n",
    "2. Write code comments so your code is more readable\n",
    "\n",
    "Before you start, install the some of the required packages. "
   ]
  },
  {
   "cell_type": "markdown",
   "metadata": {},
   "source": [
    "# Research Question \n",
    "\n",
    "## How are housing price and Homelessness attributes correlated? \r\n"
   ]
  },
  {
   "cell_type": "markdown",
   "metadata": {},
   "source": [
    "## Definitions\n"
   ]
  },
  {
   "cell_type": "markdown",
   "metadata": {},
   "source": [
    "df = This is the first data, from kaggle that Have been scrapped from Realtor website. \n",
    "\n",
    "df2 = This is the second data, The Homelessness, in the period 2007 - 2016 - Kaggle. \n"
   ]
  },
  {
   "cell_type": "code",
   "execution_count": 6,
   "metadata": {},
   "outputs": [
    {
     "name": "stdout",
     "output_type": "stream",
     "text": [
      "Requirement already satisfied: kaggle==1.6.12 in c:\\users\\hp\\anaconda3\\lib\\site-packages (1.6.12)\n",
      "Requirement already satisfied: six>=1.10 in c:\\users\\hp\\anaconda3\\lib\\site-packages (from kaggle==1.6.12) (1.16.0)\n",
      "Requirement already satisfied: certifi>=2023.7.22 in c:\\users\\hp\\anaconda3\\lib\\site-packages (from kaggle==1.6.12) (2024.6.2)\n",
      "Requirement already satisfied: python-dateutil in c:\\users\\hp\\anaconda3\\lib\\site-packages (from kaggle==1.6.12) (2.8.2)\n",
      "Requirement already satisfied: requests in c:\\users\\hp\\anaconda3\\lib\\site-packages (from kaggle==1.6.12) (2.31.0)\n",
      "Requirement already satisfied: tqdm in c:\\users\\hp\\anaconda3\\lib\\site-packages (from kaggle==1.6.12) (4.65.0)\n",
      "Requirement already satisfied: python-slugify in c:\\users\\hp\\anaconda3\\lib\\site-packages (from kaggle==1.6.12) (5.0.2)\n",
      "Requirement already satisfied: urllib3 in c:\\users\\hp\\anaconda3\\lib\\site-packages (from kaggle==1.6.12) (2.0.7)\n",
      "Requirement already satisfied: bleach in c:\\users\\hp\\anaconda3\\lib\\site-packages (from kaggle==1.6.12) (4.1.0)\n",
      "Requirement already satisfied: packaging in c:\\users\\hp\\anaconda3\\lib\\site-packages (from bleach->kaggle==1.6.12) (23.1)\n",
      "Requirement already satisfied: webencodings in c:\\users\\hp\\anaconda3\\lib\\site-packages (from bleach->kaggle==1.6.12) (0.5.1)\n",
      "Requirement already satisfied: text-unidecode>=1.3 in c:\\users\\hp\\anaconda3\\lib\\site-packages (from python-slugify->kaggle==1.6.12) (1.3)\n",
      "Requirement already satisfied: charset-normalizer<4,>=2 in c:\\users\\hp\\anaconda3\\lib\\site-packages (from requests->kaggle==1.6.12) (2.0.4)\n",
      "Requirement already satisfied: idna<4,>=2.5 in c:\\users\\hp\\anaconda3\\lib\\site-packages (from requests->kaggle==1.6.12) (3.4)\n",
      "Requirement already satisfied: colorama in c:\\users\\hp\\anaconda3\\lib\\site-packages (from tqdm->kaggle==1.6.12) (0.4.6)\n"
     ]
    }
   ],
   "source": [
    "!python -m pip install kaggle==1.6.12"
   ]
  },
  {
   "cell_type": "markdown",
   "metadata": {
    "id": "LbN7z7rcuqpO"
   },
   "source": [
    "### **1.1.** Problem Statement\n",
    "In 2-4 sentences, explain the kind of problem you want to look at and the datasets you will be wrangling for this project.\n",
    "\n",
    ">I would like to work on Real estate in USA"
   ]
  },
  {
   "cell_type": "code",
   "execution_count": 8,
   "metadata": {},
   "outputs": [],
   "source": [
    "import pandas as pd \n",
    "import numpy as np\n",
    "import matplotlib.pyplot as plt \n",
    "import requests\n",
    "import zipfile\n",
    "import json\n",
    "import requests\n",
    "import os\n",
    "\n"
   ]
  },
  {
   "cell_type": "markdown",
   "metadata": {
    "id": "lDYDkH-Zs7Nn"
   },
   "source": [
    "# Gather data\n",
    "\n",
    "In this section, you will extract data using two different data gathering methods and combine the data. Use at least two different types of data-gathering methods.\n",
    "\n",
    "I gathered these 2 data because I am interested in the real estate market and its effects on societies. In this notebook I will study the market of USA and its impact on the number of homeless. "
   ]
  },
  {
   "cell_type": "markdown",
   "metadata": {
    "id": "8AQfBAdUypMm"
   },
   "source": [
    "### **1.2.** Gather at least two datasets using two different data gathering methods\n",
    "\n",
    "## Dataset 1 \n",
    "The first data set is a spreadsheet a full of informations about the USA housing data, prices, places and dates and of sold or not, I downlowded it manully from Kaggle, and this data was collected from https://www.realtor.com/ - A real estate listing website operated by the News Corp subsidiary Move, Inc. and based in Santa Clara, California. \n",
    "I choosed this dataset to study the housing market in USA. Download it manually. \n"
   ]
  },
  {
   "cell_type": "code",
   "execution_count": 11,
   "metadata": {},
   "outputs": [],
   "source": [
    "df = pd.read_csv(\"realtor-data.zip.csv\")\n"
   ]
  },
  {
   "cell_type": "markdown",
   "metadata": {
    "id": "hoUjq1tPzz7P"
   },
   "source": [
    "## Dataset 2\n",
    "\n",
    "The Seconed Dataset is about homelessness is USA it has 2 csv files, homlessness in the period 2007 - 2016 and population csv. \n",
    "These raw data sets contain Point-in-Time (PIT) estimates and national PIT estimates of homelessness as well as national estimates of homelessness by state and estimates of chronic homelessness from 2007 - 2016. Estimates of homeless veterans are also included beginning in 2011. The accompanying Housing Inventory Count (HIC) data is available as well from 2007 - 2016.\" (Department of Housing and Urban Development).\n",
    "> Type: zip File, CSV File\n",
    "\n",
    "> Method: The data was gathered using the \"API\" method from Kaggle.\n",
    "> Dataset variables:\n",
    "Index(['Year', 'State', 'CoC Number', 'CoC Name', 'Measures', count\n",
    "\n",
    "omes in $1000's"
   ]
  },
  {
   "cell_type": "code",
   "execution_count": 13,
   "metadata": {},
   "outputs": [],
   "source": [
    "import kaggle"
   ]
  },
  {
   "cell_type": "code",
   "execution_count": 14,
   "metadata": {},
   "outputs": [],
   "source": [
    "from kaggle.api.kaggle_api_extended import KaggleApi\n"
   ]
  },
  {
   "cell_type": "code",
   "execution_count": 15,
   "metadata": {},
   "outputs": [
    {
     "name": "stdout",
     "output_type": "stream",
     "text": [
      "Dataset URL: https://www.kaggle.com/datasets/adamschroeder/homelessness\n"
     ]
    }
   ],
   "source": [
    "api = KaggleApi()\n",
    "api.authenticate()\n",
    "api.dataset_download_files(\"adamschroeder/homelessness\",\n",
    "                           \"/2007-2016-Homelessnewss-USA.csv\")"
   ]
  },
  {
   "cell_type": "code",
   "execution_count": 16,
   "metadata": {},
   "outputs": [],
   "source": [
    "\n",
    "zip_file_path = \"C:\\\\2007-2016-Homelessnewss-USA.csv\\\\homelessness.zip\"\n",
    "\n",
    "# Define the directory to extract the files to\n",
    "extract_dir = \"7-2016-Homelessnewss-USA.csv\"  # Replace with the directory where you want to extract the files\n",
    "\n",
    "# Unzip the downloaded file\n",
    "with zipfile.ZipFile(zip_file_path, 'r') as zip_ref:\n",
    "    zip_ref.extractall(extract_dir)\n",
    "\n",
    "# Remove the downloaded zip file\n",
    "os.remove(zip_file_path)\n",
    "\n",
    "\n",
    "\n",
    "\n"
   ]
  },
  {
   "cell_type": "markdown",
   "metadata": {},
   "source": [
    "# Asses Virtually "
   ]
  },
  {
   "cell_type": "code",
   "execution_count": 18,
   "metadata": {},
   "outputs": [],
   "source": [
    "df2 = pd.read_csv('7-2016-Homelessnewss-USA.csv/2007-2016-Homelessnewss-USA.csv')"
   ]
  },
  {
   "cell_type": "code",
   "execution_count": 19,
   "metadata": {},
   "outputs": [
    {
     "data": {
      "text/html": [
       "<div>\n",
       "<style scoped>\n",
       "    .dataframe tbody tr th:only-of-type {\n",
       "        vertical-align: middle;\n",
       "    }\n",
       "\n",
       "    .dataframe tbody tr th {\n",
       "        vertical-align: top;\n",
       "    }\n",
       "\n",
       "    .dataframe thead th {\n",
       "        text-align: right;\n",
       "    }\n",
       "</style>\n",
       "<table border=\"1\" class=\"dataframe\">\n",
       "  <thead>\n",
       "    <tr style=\"text-align: right;\">\n",
       "      <th></th>\n",
       "      <th>brokered_by</th>\n",
       "      <th>status</th>\n",
       "      <th>price</th>\n",
       "      <th>bed</th>\n",
       "      <th>bath</th>\n",
       "      <th>acre_lot</th>\n",
       "      <th>street</th>\n",
       "      <th>city</th>\n",
       "      <th>state</th>\n",
       "      <th>zip_code</th>\n",
       "      <th>house_size</th>\n",
       "      <th>prev_sold_date</th>\n",
       "    </tr>\n",
       "  </thead>\n",
       "  <tbody>\n",
       "    <tr>\n",
       "      <th>0</th>\n",
       "      <td>103378.0</td>\n",
       "      <td>for_sale</td>\n",
       "      <td>105000.0</td>\n",
       "      <td>3.0</td>\n",
       "      <td>2.0</td>\n",
       "      <td>0.12</td>\n",
       "      <td>1962661.0</td>\n",
       "      <td>Adjuntas</td>\n",
       "      <td>Puerto Rico</td>\n",
       "      <td>601.0</td>\n",
       "      <td>920.0</td>\n",
       "      <td>NaN</td>\n",
       "    </tr>\n",
       "    <tr>\n",
       "      <th>1</th>\n",
       "      <td>52707.0</td>\n",
       "      <td>for_sale</td>\n",
       "      <td>80000.0</td>\n",
       "      <td>4.0</td>\n",
       "      <td>2.0</td>\n",
       "      <td>0.08</td>\n",
       "      <td>1902874.0</td>\n",
       "      <td>Adjuntas</td>\n",
       "      <td>Puerto Rico</td>\n",
       "      <td>601.0</td>\n",
       "      <td>1527.0</td>\n",
       "      <td>NaN</td>\n",
       "    </tr>\n",
       "    <tr>\n",
       "      <th>2</th>\n",
       "      <td>103379.0</td>\n",
       "      <td>for_sale</td>\n",
       "      <td>67000.0</td>\n",
       "      <td>2.0</td>\n",
       "      <td>1.0</td>\n",
       "      <td>0.15</td>\n",
       "      <td>1404990.0</td>\n",
       "      <td>Juana Diaz</td>\n",
       "      <td>Puerto Rico</td>\n",
       "      <td>795.0</td>\n",
       "      <td>748.0</td>\n",
       "      <td>NaN</td>\n",
       "    </tr>\n",
       "    <tr>\n",
       "      <th>3</th>\n",
       "      <td>31239.0</td>\n",
       "      <td>for_sale</td>\n",
       "      <td>145000.0</td>\n",
       "      <td>4.0</td>\n",
       "      <td>2.0</td>\n",
       "      <td>0.10</td>\n",
       "      <td>1947675.0</td>\n",
       "      <td>Ponce</td>\n",
       "      <td>Puerto Rico</td>\n",
       "      <td>731.0</td>\n",
       "      <td>1800.0</td>\n",
       "      <td>NaN</td>\n",
       "    </tr>\n",
       "    <tr>\n",
       "      <th>4</th>\n",
       "      <td>34632.0</td>\n",
       "      <td>for_sale</td>\n",
       "      <td>65000.0</td>\n",
       "      <td>6.0</td>\n",
       "      <td>2.0</td>\n",
       "      <td>0.05</td>\n",
       "      <td>331151.0</td>\n",
       "      <td>Mayaguez</td>\n",
       "      <td>Puerto Rico</td>\n",
       "      <td>680.0</td>\n",
       "      <td>NaN</td>\n",
       "      <td>NaN</td>\n",
       "    </tr>\n",
       "  </tbody>\n",
       "</table>\n",
       "</div>"
      ],
      "text/plain": [
       "   brokered_by    status     price  bed  bath  acre_lot     street  \\\n",
       "0     103378.0  for_sale  105000.0  3.0   2.0      0.12  1962661.0   \n",
       "1      52707.0  for_sale   80000.0  4.0   2.0      0.08  1902874.0   \n",
       "2     103379.0  for_sale   67000.0  2.0   1.0      0.15  1404990.0   \n",
       "3      31239.0  for_sale  145000.0  4.0   2.0      0.10  1947675.0   \n",
       "4      34632.0  for_sale   65000.0  6.0   2.0      0.05   331151.0   \n",
       "\n",
       "         city        state  zip_code  house_size prev_sold_date  \n",
       "0    Adjuntas  Puerto Rico     601.0       920.0            NaN  \n",
       "1    Adjuntas  Puerto Rico     601.0      1527.0            NaN  \n",
       "2  Juana Diaz  Puerto Rico     795.0       748.0            NaN  \n",
       "3       Ponce  Puerto Rico     731.0      1800.0            NaN  \n",
       "4    Mayaguez  Puerto Rico     680.0         NaN            NaN  "
      ]
     },
     "execution_count": 19,
     "metadata": {},
     "output_type": "execute_result"
    }
   ],
   "source": [
    "df.head()"
   ]
  },
  {
   "cell_type": "markdown",
   "metadata": {},
   "source": [
    "I have A lot of Nulls in The \"prev_sold_date\" "
   ]
  },
  {
   "cell_type": "code",
   "execution_count": 21,
   "metadata": {},
   "outputs": [
    {
     "data": {
      "text/html": [
       "<div>\n",
       "<style scoped>\n",
       "    .dataframe tbody tr th:only-of-type {\n",
       "        vertical-align: middle;\n",
       "    }\n",
       "\n",
       "    .dataframe tbody tr th {\n",
       "        vertical-align: top;\n",
       "    }\n",
       "\n",
       "    .dataframe thead th {\n",
       "        text-align: right;\n",
       "    }\n",
       "</style>\n",
       "<table border=\"1\" class=\"dataframe\">\n",
       "  <thead>\n",
       "    <tr style=\"text-align: right;\">\n",
       "      <th></th>\n",
       "      <th>brokered_by</th>\n",
       "      <th>status</th>\n",
       "      <th>price</th>\n",
       "      <th>bed</th>\n",
       "      <th>bath</th>\n",
       "      <th>acre_lot</th>\n",
       "      <th>street</th>\n",
       "      <th>city</th>\n",
       "      <th>state</th>\n",
       "      <th>zip_code</th>\n",
       "      <th>house_size</th>\n",
       "      <th>prev_sold_date</th>\n",
       "    </tr>\n",
       "  </thead>\n",
       "  <tbody>\n",
       "    <tr>\n",
       "      <th>2226372</th>\n",
       "      <td>108243.0</td>\n",
       "      <td>sold</td>\n",
       "      <td>425000.0</td>\n",
       "      <td>3.0</td>\n",
       "      <td>3.0</td>\n",
       "      <td>0.06</td>\n",
       "      <td>970797.0</td>\n",
       "      <td>Richland</td>\n",
       "      <td>Washington</td>\n",
       "      <td>99354.0</td>\n",
       "      <td>1876.0</td>\n",
       "      <td>2022-02-14</td>\n",
       "    </tr>\n",
       "    <tr>\n",
       "      <th>2226373</th>\n",
       "      <td>16235.0</td>\n",
       "      <td>sold</td>\n",
       "      <td>305000.0</td>\n",
       "      <td>4.0</td>\n",
       "      <td>2.0</td>\n",
       "      <td>0.42</td>\n",
       "      <td>353937.0</td>\n",
       "      <td>Richland</td>\n",
       "      <td>Washington</td>\n",
       "      <td>99354.0</td>\n",
       "      <td>2000.0</td>\n",
       "      <td>2022-02-11</td>\n",
       "    </tr>\n",
       "    <tr>\n",
       "      <th>2226374</th>\n",
       "      <td>53860.0</td>\n",
       "      <td>sold</td>\n",
       "      <td>310000.0</td>\n",
       "      <td>3.0</td>\n",
       "      <td>1.0</td>\n",
       "      <td>0.21</td>\n",
       "      <td>500240.0</td>\n",
       "      <td>Richland</td>\n",
       "      <td>Washington</td>\n",
       "      <td>99354.0</td>\n",
       "      <td>1152.0</td>\n",
       "      <td>2022-02-11</td>\n",
       "    </tr>\n",
       "    <tr>\n",
       "      <th>2226375</th>\n",
       "      <td>60631.0</td>\n",
       "      <td>sold</td>\n",
       "      <td>385000.0</td>\n",
       "      <td>4.0</td>\n",
       "      <td>2.0</td>\n",
       "      <td>0.21</td>\n",
       "      <td>210890.0</td>\n",
       "      <td>Richland</td>\n",
       "      <td>Washington</td>\n",
       "      <td>99354.0</td>\n",
       "      <td>1656.0</td>\n",
       "      <td>2022-03-28</td>\n",
       "    </tr>\n",
       "    <tr>\n",
       "      <th>2226376</th>\n",
       "      <td>85499.0</td>\n",
       "      <td>sold</td>\n",
       "      <td>339900.0</td>\n",
       "      <td>4.0</td>\n",
       "      <td>2.0</td>\n",
       "      <td>0.20</td>\n",
       "      <td>41160.0</td>\n",
       "      <td>Richland</td>\n",
       "      <td>Washington</td>\n",
       "      <td>99354.0</td>\n",
       "      <td>2780.0</td>\n",
       "      <td>2022-03-28</td>\n",
       "    </tr>\n",
       "    <tr>\n",
       "      <th>2226377</th>\n",
       "      <td>23009.0</td>\n",
       "      <td>sold</td>\n",
       "      <td>359900.0</td>\n",
       "      <td>4.0</td>\n",
       "      <td>2.0</td>\n",
       "      <td>0.33</td>\n",
       "      <td>353094.0</td>\n",
       "      <td>Richland</td>\n",
       "      <td>Washington</td>\n",
       "      <td>99354.0</td>\n",
       "      <td>3600.0</td>\n",
       "      <td>2022-03-25</td>\n",
       "    </tr>\n",
       "    <tr>\n",
       "      <th>2226378</th>\n",
       "      <td>18208.0</td>\n",
       "      <td>sold</td>\n",
       "      <td>350000.0</td>\n",
       "      <td>3.0</td>\n",
       "      <td>2.0</td>\n",
       "      <td>0.10</td>\n",
       "      <td>1062149.0</td>\n",
       "      <td>Richland</td>\n",
       "      <td>Washington</td>\n",
       "      <td>99354.0</td>\n",
       "      <td>1616.0</td>\n",
       "      <td>2022-03-25</td>\n",
       "    </tr>\n",
       "    <tr>\n",
       "      <th>2226379</th>\n",
       "      <td>76856.0</td>\n",
       "      <td>sold</td>\n",
       "      <td>440000.0</td>\n",
       "      <td>6.0</td>\n",
       "      <td>3.0</td>\n",
       "      <td>0.50</td>\n",
       "      <td>405677.0</td>\n",
       "      <td>Richland</td>\n",
       "      <td>Washington</td>\n",
       "      <td>99354.0</td>\n",
       "      <td>3200.0</td>\n",
       "      <td>2022-03-24</td>\n",
       "    </tr>\n",
       "    <tr>\n",
       "      <th>2226380</th>\n",
       "      <td>53618.0</td>\n",
       "      <td>sold</td>\n",
       "      <td>179900.0</td>\n",
       "      <td>2.0</td>\n",
       "      <td>1.0</td>\n",
       "      <td>0.09</td>\n",
       "      <td>761379.0</td>\n",
       "      <td>Richland</td>\n",
       "      <td>Washington</td>\n",
       "      <td>99354.0</td>\n",
       "      <td>933.0</td>\n",
       "      <td>2022-03-24</td>\n",
       "    </tr>\n",
       "    <tr>\n",
       "      <th>2226381</th>\n",
       "      <td>108243.0</td>\n",
       "      <td>sold</td>\n",
       "      <td>580000.0</td>\n",
       "      <td>5.0</td>\n",
       "      <td>3.0</td>\n",
       "      <td>0.31</td>\n",
       "      <td>307704.0</td>\n",
       "      <td>Richland</td>\n",
       "      <td>Washington</td>\n",
       "      <td>99354.0</td>\n",
       "      <td>3615.0</td>\n",
       "      <td>2022-03-23</td>\n",
       "    </tr>\n",
       "  </tbody>\n",
       "</table>\n",
       "</div>"
      ],
      "text/plain": [
       "         brokered_by status     price  bed  bath  acre_lot     street  \\\n",
       "2226372     108243.0   sold  425000.0  3.0   3.0      0.06   970797.0   \n",
       "2226373      16235.0   sold  305000.0  4.0   2.0      0.42   353937.0   \n",
       "2226374      53860.0   sold  310000.0  3.0   1.0      0.21   500240.0   \n",
       "2226375      60631.0   sold  385000.0  4.0   2.0      0.21   210890.0   \n",
       "2226376      85499.0   sold  339900.0  4.0   2.0      0.20    41160.0   \n",
       "2226377      23009.0   sold  359900.0  4.0   2.0      0.33   353094.0   \n",
       "2226378      18208.0   sold  350000.0  3.0   2.0      0.10  1062149.0   \n",
       "2226379      76856.0   sold  440000.0  6.0   3.0      0.50   405677.0   \n",
       "2226380      53618.0   sold  179900.0  2.0   1.0      0.09   761379.0   \n",
       "2226381     108243.0   sold  580000.0  5.0   3.0      0.31   307704.0   \n",
       "\n",
       "             city       state  zip_code  house_size prev_sold_date  \n",
       "2226372  Richland  Washington   99354.0      1876.0     2022-02-14  \n",
       "2226373  Richland  Washington   99354.0      2000.0     2022-02-11  \n",
       "2226374  Richland  Washington   99354.0      1152.0     2022-02-11  \n",
       "2226375  Richland  Washington   99354.0      1656.0     2022-03-28  \n",
       "2226376  Richland  Washington   99354.0      2780.0     2022-03-28  \n",
       "2226377  Richland  Washington   99354.0      3600.0     2022-03-25  \n",
       "2226378  Richland  Washington   99354.0      1616.0     2022-03-25  \n",
       "2226379  Richland  Washington   99354.0      3200.0     2022-03-24  \n",
       "2226380  Richland  Washington   99354.0       933.0     2022-03-24  \n",
       "2226381  Richland  Washington   99354.0      3615.0     2022-03-23  "
      ]
     },
     "execution_count": 21,
     "metadata": {},
     "output_type": "execute_result"
    }
   ],
   "source": [
    "df.tail(10)"
   ]
  },
  {
   "cell_type": "code",
   "execution_count": 22,
   "metadata": {},
   "outputs": [
    {
     "data": {
      "text/html": [
       "<div>\n",
       "<style scoped>\n",
       "    .dataframe tbody tr th:only-of-type {\n",
       "        vertical-align: middle;\n",
       "    }\n",
       "\n",
       "    .dataframe tbody tr th {\n",
       "        vertical-align: top;\n",
       "    }\n",
       "\n",
       "    .dataframe thead th {\n",
       "        text-align: right;\n",
       "    }\n",
       "</style>\n",
       "<table border=\"1\" class=\"dataframe\">\n",
       "  <thead>\n",
       "    <tr style=\"text-align: right;\">\n",
       "      <th></th>\n",
       "      <th>brokered_by</th>\n",
       "      <th>price</th>\n",
       "      <th>bed</th>\n",
       "      <th>bath</th>\n",
       "      <th>acre_lot</th>\n",
       "      <th>street</th>\n",
       "      <th>zip_code</th>\n",
       "      <th>house_size</th>\n",
       "    </tr>\n",
       "  </thead>\n",
       "  <tbody>\n",
       "    <tr>\n",
       "      <th>count</th>\n",
       "      <td>2.221849e+06</td>\n",
       "      <td>2.224841e+06</td>\n",
       "      <td>1.745065e+06</td>\n",
       "      <td>1.714611e+06</td>\n",
       "      <td>1.900793e+06</td>\n",
       "      <td>2.215516e+06</td>\n",
       "      <td>2.226083e+06</td>\n",
       "      <td>1.657898e+06</td>\n",
       "    </tr>\n",
       "    <tr>\n",
       "      <th>mean</th>\n",
       "      <td>5.293989e+04</td>\n",
       "      <td>5.241955e+05</td>\n",
       "      <td>3.275841e+00</td>\n",
       "      <td>2.496440e+00</td>\n",
       "      <td>1.522303e+01</td>\n",
       "      <td>1.012325e+06</td>\n",
       "      <td>5.218668e+04</td>\n",
       "      <td>2.714471e+03</td>\n",
       "    </tr>\n",
       "    <tr>\n",
       "      <th>std</th>\n",
       "      <td>3.064275e+04</td>\n",
       "      <td>2.138893e+06</td>\n",
       "      <td>1.567274e+00</td>\n",
       "      <td>1.652573e+00</td>\n",
       "      <td>7.628238e+02</td>\n",
       "      <td>5.837635e+05</td>\n",
       "      <td>2.895408e+04</td>\n",
       "      <td>8.081635e+05</td>\n",
       "    </tr>\n",
       "    <tr>\n",
       "      <th>min</th>\n",
       "      <td>0.000000e+00</td>\n",
       "      <td>0.000000e+00</td>\n",
       "      <td>1.000000e+00</td>\n",
       "      <td>1.000000e+00</td>\n",
       "      <td>0.000000e+00</td>\n",
       "      <td>0.000000e+00</td>\n",
       "      <td>0.000000e+00</td>\n",
       "      <td>4.000000e+00</td>\n",
       "    </tr>\n",
       "    <tr>\n",
       "      <th>25%</th>\n",
       "      <td>2.386100e+04</td>\n",
       "      <td>1.650000e+05</td>\n",
       "      <td>3.000000e+00</td>\n",
       "      <td>2.000000e+00</td>\n",
       "      <td>1.500000e-01</td>\n",
       "      <td>5.063128e+05</td>\n",
       "      <td>2.961700e+04</td>\n",
       "      <td>1.300000e+03</td>\n",
       "    </tr>\n",
       "    <tr>\n",
       "      <th>50%</th>\n",
       "      <td>5.288400e+04</td>\n",
       "      <td>3.250000e+05</td>\n",
       "      <td>3.000000e+00</td>\n",
       "      <td>2.000000e+00</td>\n",
       "      <td>2.600000e-01</td>\n",
       "      <td>1.012766e+06</td>\n",
       "      <td>4.838200e+04</td>\n",
       "      <td>1.760000e+03</td>\n",
       "    </tr>\n",
       "    <tr>\n",
       "      <th>75%</th>\n",
       "      <td>7.918300e+04</td>\n",
       "      <td>5.500000e+05</td>\n",
       "      <td>4.000000e+00</td>\n",
       "      <td>3.000000e+00</td>\n",
       "      <td>9.800000e-01</td>\n",
       "      <td>1.521173e+06</td>\n",
       "      <td>7.807000e+04</td>\n",
       "      <td>2.413000e+03</td>\n",
       "    </tr>\n",
       "    <tr>\n",
       "      <th>max</th>\n",
       "      <td>1.101420e+05</td>\n",
       "      <td>2.147484e+09</td>\n",
       "      <td>4.730000e+02</td>\n",
       "      <td>8.300000e+02</td>\n",
       "      <td>1.000000e+05</td>\n",
       "      <td>2.001357e+06</td>\n",
       "      <td>9.999900e+04</td>\n",
       "      <td>1.040400e+09</td>\n",
       "    </tr>\n",
       "  </tbody>\n",
       "</table>\n",
       "</div>"
      ],
      "text/plain": [
       "        brokered_by         price           bed          bath      acre_lot  \\\n",
       "count  2.221849e+06  2.224841e+06  1.745065e+06  1.714611e+06  1.900793e+06   \n",
       "mean   5.293989e+04  5.241955e+05  3.275841e+00  2.496440e+00  1.522303e+01   \n",
       "std    3.064275e+04  2.138893e+06  1.567274e+00  1.652573e+00  7.628238e+02   \n",
       "min    0.000000e+00  0.000000e+00  1.000000e+00  1.000000e+00  0.000000e+00   \n",
       "25%    2.386100e+04  1.650000e+05  3.000000e+00  2.000000e+00  1.500000e-01   \n",
       "50%    5.288400e+04  3.250000e+05  3.000000e+00  2.000000e+00  2.600000e-01   \n",
       "75%    7.918300e+04  5.500000e+05  4.000000e+00  3.000000e+00  9.800000e-01   \n",
       "max    1.101420e+05  2.147484e+09  4.730000e+02  8.300000e+02  1.000000e+05   \n",
       "\n",
       "             street      zip_code    house_size  \n",
       "count  2.215516e+06  2.226083e+06  1.657898e+06  \n",
       "mean   1.012325e+06  5.218668e+04  2.714471e+03  \n",
       "std    5.837635e+05  2.895408e+04  8.081635e+05  \n",
       "min    0.000000e+00  0.000000e+00  4.000000e+00  \n",
       "25%    5.063128e+05  2.961700e+04  1.300000e+03  \n",
       "50%    1.012766e+06  4.838200e+04  1.760000e+03  \n",
       "75%    1.521173e+06  7.807000e+04  2.413000e+03  \n",
       "max    2.001357e+06  9.999900e+04  1.040400e+09  "
      ]
     },
     "execution_count": 22,
     "metadata": {},
     "output_type": "execute_result"
    }
   ],
   "source": [
    "df.describe() "
   ]
  },
  {
   "cell_type": "code",
   "execution_count": 23,
   "metadata": {},
   "outputs": [
    {
     "data": {
      "text/plain": [
       "Index(['brokered_by', 'status', 'price', 'bed', 'bath', 'acre_lot', 'street',\n",
       "       'city', 'state', 'zip_code', 'house_size', 'prev_sold_date'],\n",
       "      dtype='object')"
      ]
     },
     "execution_count": 23,
     "metadata": {},
     "output_type": "execute_result"
    }
   ],
   "source": [
    "df.columns"
   ]
  },
  {
   "cell_type": "code",
   "execution_count": 24,
   "metadata": {},
   "outputs": [
    {
     "name": "stdout",
     "output_type": "stream",
     "text": [
      "Requirement already satisfied: kaggle in c:\\users\\hp\\anaconda3\\lib\\site-packages (1.6.12)\n",
      "Requirement already satisfied: six>=1.10 in c:\\users\\hp\\anaconda3\\lib\\site-packages (from kaggle) (1.16.0)\n",
      "Requirement already satisfied: certifi>=2023.7.22 in c:\\users\\hp\\anaconda3\\lib\\site-packages (from kaggle) (2024.6.2)\n",
      "Requirement already satisfied: python-dateutil in c:\\users\\hp\\anaconda3\\lib\\site-packages (from kaggle) (2.8.2)\n",
      "Requirement already satisfied: requests in c:\\users\\hp\\anaconda3\\lib\\site-packages (from kaggle) (2.31.0)\n",
      "Requirement already satisfied: tqdm in c:\\users\\hp\\anaconda3\\lib\\site-packages (from kaggle) (4.65.0)\n",
      "Requirement already satisfied: python-slugify in c:\\users\\hp\\anaconda3\\lib\\site-packages (from kaggle) (5.0.2)\n",
      "Requirement already satisfied: urllib3 in c:\\users\\hp\\anaconda3\\lib\\site-packages (from kaggle) (2.0.7)\n",
      "Requirement already satisfied: bleach in c:\\users\\hp\\anaconda3\\lib\\site-packages (from kaggle) (4.1.0)\n",
      "Requirement already satisfied: packaging in c:\\users\\hp\\anaconda3\\lib\\site-packages (from bleach->kaggle) (23.1)\n",
      "Requirement already satisfied: webencodings in c:\\users\\hp\\anaconda3\\lib\\site-packages (from bleach->kaggle) (0.5.1)\n",
      "Requirement already satisfied: text-unidecode>=1.3 in c:\\users\\hp\\anaconda3\\lib\\site-packages (from python-slugify->kaggle) (1.3)\n",
      "Requirement already satisfied: charset-normalizer<4,>=2 in c:\\users\\hp\\anaconda3\\lib\\site-packages (from requests->kaggle) (2.0.4)\n",
      "Requirement already satisfied: idna<4,>=2.5 in c:\\users\\hp\\anaconda3\\lib\\site-packages (from requests->kaggle) (3.4)\n",
      "Requirement already satisfied: colorama in c:\\users\\hp\\anaconda3\\lib\\site-packages (from tqdm->kaggle) (0.4.6)\n"
     ]
    }
   ],
   "source": [
    "!pip install kaggle"
   ]
  },
  {
   "cell_type": "code",
   "execution_count": 25,
   "metadata": {},
   "outputs": [
    {
     "name": "stdout",
     "output_type": "stream",
     "text": [
      "brokered_by         4533\n",
      "status                 0\n",
      "price               1541\n",
      "bed               481317\n",
      "bath              511771\n",
      "acre_lot          325589\n",
      "street             10866\n",
      "city                1407\n",
      "state                  8\n",
      "zip_code             299\n",
      "house_size        568484\n",
      "prev_sold_date    734297\n",
      "dtype: int64\n"
     ]
    }
   ],
   "source": [
    "print(df.isnull().sum())\n"
   ]
  },
  {
   "cell_type": "code",
   "execution_count": 26,
   "metadata": {},
   "outputs": [
    {
     "name": "stdout",
     "output_type": "stream",
     "text": [
      "0\n"
     ]
    }
   ],
   "source": [
    "print(df.duplicated().sum())\n"
   ]
  },
  {
   "cell_type": "markdown",
   "metadata": {
    "id": "QwSWIVmotLgV"
   },
   "source": [
    "Assess the data according to data quality and tidiness metrics using the report below.\n",
    "\n",
    "List **two** data quality issues and **two** tidiness issues. Assess each data issue visually **and** programmatically, then briefly describe the issue you find.  **Make sure you include justifications for the methods you use for the assessment.**\n",
    "\n",
    "\"dirty data and messy data.\n",
    "\r\n",
    "Inaccurate data is an example of dirty data, i.e., a data quality issue. High data quality is crucial for obtaining reliable insights and driving informed decision-makin.\r\n",
    "\r\n",
    "Unorganized data is an example of messy data, i.e., a data structural issue. With tidy data, we can focus on performing additional assessments and cleaning without dealing with roadblocks around getting the data into a structure that's easier to view and pa\" \n",
    " data.rse."
   ]
  },
  {
   "cell_type": "code",
   "execution_count": 28,
   "metadata": {},
   "outputs": [
    {
     "data": {
      "text/html": [
       "<div>\n",
       "<style scoped>\n",
       "    .dataframe tbody tr th:only-of-type {\n",
       "        vertical-align: middle;\n",
       "    }\n",
       "\n",
       "    .dataframe tbody tr th {\n",
       "        vertical-align: top;\n",
       "    }\n",
       "\n",
       "    .dataframe thead th {\n",
       "        text-align: right;\n",
       "    }\n",
       "</style>\n",
       "<table border=\"1\" class=\"dataframe\">\n",
       "  <thead>\n",
       "    <tr style=\"text-align: right;\">\n",
       "      <th></th>\n",
       "      <th>Year</th>\n",
       "      <th>State</th>\n",
       "      <th>CoC Number</th>\n",
       "      <th>CoC Name</th>\n",
       "      <th>Measures</th>\n",
       "      <th>Count</th>\n",
       "    </tr>\n",
       "  </thead>\n",
       "  <tbody>\n",
       "    <tr>\n",
       "      <th>0</th>\n",
       "      <td>1/1/2007</td>\n",
       "      <td>AK</td>\n",
       "      <td>AK-500</td>\n",
       "      <td>Anchorage CoC</td>\n",
       "      <td>Chronically Homeless Individuals</td>\n",
       "      <td>224</td>\n",
       "    </tr>\n",
       "    <tr>\n",
       "      <th>1</th>\n",
       "      <td>1/1/2007</td>\n",
       "      <td>AK</td>\n",
       "      <td>AK-500</td>\n",
       "      <td>Anchorage CoC</td>\n",
       "      <td>Homeless Individuals</td>\n",
       "      <td>696</td>\n",
       "    </tr>\n",
       "    <tr>\n",
       "      <th>2</th>\n",
       "      <td>1/1/2007</td>\n",
       "      <td>AK</td>\n",
       "      <td>AK-500</td>\n",
       "      <td>Anchorage CoC</td>\n",
       "      <td>Homeless People in Families</td>\n",
       "      <td>278</td>\n",
       "    </tr>\n",
       "    <tr>\n",
       "      <th>3</th>\n",
       "      <td>1/1/2007</td>\n",
       "      <td>AK</td>\n",
       "      <td>AK-500</td>\n",
       "      <td>Anchorage CoC</td>\n",
       "      <td>Sheltered Chronically Homeless Individuals</td>\n",
       "      <td>187</td>\n",
       "    </tr>\n",
       "    <tr>\n",
       "      <th>4</th>\n",
       "      <td>1/1/2007</td>\n",
       "      <td>AK</td>\n",
       "      <td>AK-500</td>\n",
       "      <td>Anchorage CoC</td>\n",
       "      <td>Sheltered Homeless</td>\n",
       "      <td>842</td>\n",
       "    </tr>\n",
       "    <tr>\n",
       "      <th>5</th>\n",
       "      <td>1/1/2007</td>\n",
       "      <td>AK</td>\n",
       "      <td>AK-500</td>\n",
       "      <td>Anchorage CoC</td>\n",
       "      <td>Sheltered Homeless Individuals</td>\n",
       "      <td>589</td>\n",
       "    </tr>\n",
       "    <tr>\n",
       "      <th>6</th>\n",
       "      <td>1/1/2007</td>\n",
       "      <td>AK</td>\n",
       "      <td>AK-500</td>\n",
       "      <td>Anchorage CoC</td>\n",
       "      <td>Sheltered Homeless People in Families</td>\n",
       "      <td>253</td>\n",
       "    </tr>\n",
       "    <tr>\n",
       "      <th>7</th>\n",
       "      <td>1/1/2007</td>\n",
       "      <td>AK</td>\n",
       "      <td>AK-500</td>\n",
       "      <td>Anchorage CoC</td>\n",
       "      <td>Total Homeless</td>\n",
       "      <td>974</td>\n",
       "    </tr>\n",
       "    <tr>\n",
       "      <th>8</th>\n",
       "      <td>1/1/2007</td>\n",
       "      <td>AK</td>\n",
       "      <td>AK-500</td>\n",
       "      <td>Anchorage CoC</td>\n",
       "      <td>Unsheltered Chronically Homeless Individuals</td>\n",
       "      <td>37</td>\n",
       "    </tr>\n",
       "    <tr>\n",
       "      <th>9</th>\n",
       "      <td>1/1/2007</td>\n",
       "      <td>AK</td>\n",
       "      <td>AK-500</td>\n",
       "      <td>Anchorage CoC</td>\n",
       "      <td>Unsheltered Homeless</td>\n",
       "      <td>132</td>\n",
       "    </tr>\n",
       "  </tbody>\n",
       "</table>\n",
       "</div>"
      ],
      "text/plain": [
       "       Year State CoC Number       CoC Name  \\\n",
       "0  1/1/2007    AK     AK-500  Anchorage CoC   \n",
       "1  1/1/2007    AK     AK-500  Anchorage CoC   \n",
       "2  1/1/2007    AK     AK-500  Anchorage CoC   \n",
       "3  1/1/2007    AK     AK-500  Anchorage CoC   \n",
       "4  1/1/2007    AK     AK-500  Anchorage CoC   \n",
       "5  1/1/2007    AK     AK-500  Anchorage CoC   \n",
       "6  1/1/2007    AK     AK-500  Anchorage CoC   \n",
       "7  1/1/2007    AK     AK-500  Anchorage CoC   \n",
       "8  1/1/2007    AK     AK-500  Anchorage CoC   \n",
       "9  1/1/2007    AK     AK-500  Anchorage CoC   \n",
       "\n",
       "                                       Measures Count  \n",
       "0              Chronically Homeless Individuals   224  \n",
       "1                          Homeless Individuals   696  \n",
       "2                   Homeless People in Families   278  \n",
       "3    Sheltered Chronically Homeless Individuals   187  \n",
       "4                            Sheltered Homeless   842  \n",
       "5                Sheltered Homeless Individuals   589  \n",
       "6         Sheltered Homeless People in Families   253  \n",
       "7                                Total Homeless   974  \n",
       "8  Unsheltered Chronically Homeless Individuals    37  \n",
       "9                          Unsheltered Homeless   132  "
      ]
     },
     "execution_count": 28,
     "metadata": {},
     "output_type": "execute_result"
    }
   ],
   "source": [
    "df2.head(10)"
   ]
  },
  {
   "cell_type": "code",
   "execution_count": 29,
   "metadata": {},
   "outputs": [
    {
     "data": {
      "text/html": [
       "<div>\n",
       "<style scoped>\n",
       "    .dataframe tbody tr th:only-of-type {\n",
       "        vertical-align: middle;\n",
       "    }\n",
       "\n",
       "    .dataframe tbody tr th {\n",
       "        vertical-align: top;\n",
       "    }\n",
       "\n",
       "    .dataframe thead th {\n",
       "        text-align: right;\n",
       "    }\n",
       "</style>\n",
       "<table border=\"1\" class=\"dataframe\">\n",
       "  <thead>\n",
       "    <tr style=\"text-align: right;\">\n",
       "      <th></th>\n",
       "      <th>Year</th>\n",
       "      <th>State</th>\n",
       "      <th>CoC Number</th>\n",
       "      <th>CoC Name</th>\n",
       "      <th>Measures</th>\n",
       "      <th>Count</th>\n",
       "    </tr>\n",
       "  </thead>\n",
       "  <tbody>\n",
       "    <tr>\n",
       "      <th>86519</th>\n",
       "      <td>1/1/2016</td>\n",
       "      <td>WY</td>\n",
       "      <td>WY-500</td>\n",
       "      <td>Wyoming Statewide CoC</td>\n",
       "      <td>Unsheltered Homeless</td>\n",
       "      <td>366</td>\n",
       "    </tr>\n",
       "    <tr>\n",
       "      <th>86520</th>\n",
       "      <td>1/1/2016</td>\n",
       "      <td>WY</td>\n",
       "      <td>WY-500</td>\n",
       "      <td>Wyoming Statewide CoC</td>\n",
       "      <td>Unsheltered Homeless Individuals</td>\n",
       "      <td>240</td>\n",
       "    </tr>\n",
       "    <tr>\n",
       "      <th>86521</th>\n",
       "      <td>1/1/2016</td>\n",
       "      <td>WY</td>\n",
       "      <td>WY-500</td>\n",
       "      <td>Wyoming Statewide CoC</td>\n",
       "      <td>Unsheltered Homeless People in Families</td>\n",
       "      <td>126</td>\n",
       "    </tr>\n",
       "    <tr>\n",
       "      <th>86522</th>\n",
       "      <td>1/1/2016</td>\n",
       "      <td>WY</td>\n",
       "      <td>WY-500</td>\n",
       "      <td>Wyoming Statewide CoC</td>\n",
       "      <td>Unsheltered Homeless Unaccompanied Children (U...</td>\n",
       "      <td>2</td>\n",
       "    </tr>\n",
       "    <tr>\n",
       "      <th>86523</th>\n",
       "      <td>1/1/2016</td>\n",
       "      <td>WY</td>\n",
       "      <td>WY-500</td>\n",
       "      <td>Wyoming Statewide CoC</td>\n",
       "      <td>Unsheltered Homeless Unaccompanied Young Adult...</td>\n",
       "      <td>5</td>\n",
       "    </tr>\n",
       "    <tr>\n",
       "      <th>86524</th>\n",
       "      <td>1/1/2016</td>\n",
       "      <td>WY</td>\n",
       "      <td>WY-500</td>\n",
       "      <td>Wyoming Statewide CoC</td>\n",
       "      <td>Unsheltered Homeless Unaccompanied Youth (Unde...</td>\n",
       "      <td>7</td>\n",
       "    </tr>\n",
       "    <tr>\n",
       "      <th>86525</th>\n",
       "      <td>1/1/2016</td>\n",
       "      <td>WY</td>\n",
       "      <td>WY-500</td>\n",
       "      <td>Wyoming Statewide CoC</td>\n",
       "      <td>Unsheltered Homeless Veterans</td>\n",
       "      <td>31</td>\n",
       "    </tr>\n",
       "    <tr>\n",
       "      <th>86526</th>\n",
       "      <td>1/1/2016</td>\n",
       "      <td>WY</td>\n",
       "      <td>WY-500</td>\n",
       "      <td>Wyoming Statewide CoC</td>\n",
       "      <td>Unsheltered Parenting Youth (Under 25)</td>\n",
       "      <td>3</td>\n",
       "    </tr>\n",
       "    <tr>\n",
       "      <th>86527</th>\n",
       "      <td>1/1/2016</td>\n",
       "      <td>WY</td>\n",
       "      <td>WY-500</td>\n",
       "      <td>Wyoming Statewide CoC</td>\n",
       "      <td>Unsheltered Parenting Youth Age 18-24</td>\n",
       "      <td>3</td>\n",
       "    </tr>\n",
       "    <tr>\n",
       "      <th>86528</th>\n",
       "      <td>1/1/2016</td>\n",
       "      <td>WY</td>\n",
       "      <td>WY-500</td>\n",
       "      <td>Wyoming Statewide CoC</td>\n",
       "      <td>Unsheltered Parenting Youth Under 18</td>\n",
       "      <td>0</td>\n",
       "    </tr>\n",
       "  </tbody>\n",
       "</table>\n",
       "</div>"
      ],
      "text/plain": [
       "           Year State CoC Number               CoC Name  \\\n",
       "86519  1/1/2016    WY     WY-500  Wyoming Statewide CoC   \n",
       "86520  1/1/2016    WY     WY-500  Wyoming Statewide CoC   \n",
       "86521  1/1/2016    WY     WY-500  Wyoming Statewide CoC   \n",
       "86522  1/1/2016    WY     WY-500  Wyoming Statewide CoC   \n",
       "86523  1/1/2016    WY     WY-500  Wyoming Statewide CoC   \n",
       "86524  1/1/2016    WY     WY-500  Wyoming Statewide CoC   \n",
       "86525  1/1/2016    WY     WY-500  Wyoming Statewide CoC   \n",
       "86526  1/1/2016    WY     WY-500  Wyoming Statewide CoC   \n",
       "86527  1/1/2016    WY     WY-500  Wyoming Statewide CoC   \n",
       "86528  1/1/2016    WY     WY-500  Wyoming Statewide CoC   \n",
       "\n",
       "                                                Measures Count  \n",
       "86519                               Unsheltered Homeless   366  \n",
       "86520                   Unsheltered Homeless Individuals   240  \n",
       "86521            Unsheltered Homeless People in Families   126  \n",
       "86522  Unsheltered Homeless Unaccompanied Children (U...     2  \n",
       "86523  Unsheltered Homeless Unaccompanied Young Adult...     5  \n",
       "86524  Unsheltered Homeless Unaccompanied Youth (Unde...     7  \n",
       "86525                      Unsheltered Homeless Veterans    31  \n",
       "86526             Unsheltered Parenting Youth (Under 25)     3  \n",
       "86527              Unsheltered Parenting Youth Age 18-24     3  \n",
       "86528               Unsheltered Parenting Youth Under 18     0  "
      ]
     },
     "execution_count": 29,
     "metadata": {},
     "output_type": "execute_result"
    }
   ],
   "source": [
    "df2.tail(10)"
   ]
  },
  {
   "cell_type": "code",
   "execution_count": 99,
   "metadata": {},
   "outputs": [
    {
     "data": {
      "text/html": [
       "<div>\n",
       "<style scoped>\n",
       "    .dataframe tbody tr th:only-of-type {\n",
       "        vertical-align: middle;\n",
       "    }\n",
       "\n",
       "    .dataframe tbody tr th {\n",
       "        vertical-align: top;\n",
       "    }\n",
       "\n",
       "    .dataframe thead th {\n",
       "        text-align: right;\n",
       "    }\n",
       "</style>\n",
       "<table border=\"1\" class=\"dataframe\">\n",
       "  <thead>\n",
       "    <tr style=\"text-align: right;\">\n",
       "      <th></th>\n",
       "      <th>Year</th>\n",
       "      <th>State</th>\n",
       "      <th>CoC Number</th>\n",
       "      <th>CoC Name</th>\n",
       "      <th>Measures</th>\n",
       "      <th>Count</th>\n",
       "    </tr>\n",
       "  </thead>\n",
       "  <tbody>\n",
       "    <tr>\n",
       "      <th>count</th>\n",
       "      <td>86529</td>\n",
       "      <td>86529</td>\n",
       "      <td>86529</td>\n",
       "      <td>86529</td>\n",
       "      <td>86529</td>\n",
       "      <td>86529</td>\n",
       "    </tr>\n",
       "    <tr>\n",
       "      <th>unique</th>\n",
       "      <td>10</td>\n",
       "      <td>54</td>\n",
       "      <td>414</td>\n",
       "      <td>414</td>\n",
       "      <td>42</td>\n",
       "      <td>3608</td>\n",
       "    </tr>\n",
       "    <tr>\n",
       "      <th>top</th>\n",
       "      <td>1/1/2015</td>\n",
       "      <td>CA</td>\n",
       "      <td>AK-500</td>\n",
       "      <td>Anchorage CoC</td>\n",
       "      <td>Chronically Homeless Individuals</td>\n",
       "      <td>0</td>\n",
       "    </tr>\n",
       "    <tr>\n",
       "      <th>freq</th>\n",
       "      <td>16926</td>\n",
       "      <td>8946</td>\n",
       "      <td>216</td>\n",
       "      <td>216</td>\n",
       "      <td>3999</td>\n",
       "      <td>12209</td>\n",
       "    </tr>\n",
       "  </tbody>\n",
       "</table>\n",
       "</div>"
      ],
      "text/plain": [
       "            Year  State CoC Number       CoC Name  \\\n",
       "count      86529  86529      86529          86529   \n",
       "unique        10     54        414            414   \n",
       "top     1/1/2015     CA     AK-500  Anchorage CoC   \n",
       "freq       16926   8946        216            216   \n",
       "\n",
       "                                Measures  Count  \n",
       "count                              86529  86529  \n",
       "unique                                42   3608  \n",
       "top     Chronically Homeless Individuals      0  \n",
       "freq                                3999  12209  "
      ]
     },
     "execution_count": 99,
     "metadata": {},
     "output_type": "execute_result"
    }
   ],
   "source": [
    "df2.describe()"
   ]
  },
  {
   "cell_type": "code",
   "execution_count": 101,
   "metadata": {},
   "outputs": [
    {
     "name": "stdout",
     "output_type": "stream",
     "text": [
      "Year          0\n",
      "State         0\n",
      "CoC Number    0\n",
      "CoC Name      0\n",
      "Measures      0\n",
      "Count         0\n",
      "dtype: int64\n"
     ]
    }
   ],
   "source": [
    "print(df2.isnull().sum())\n"
   ]
  },
  {
   "cell_type": "code",
   "execution_count": 103,
   "metadata": {},
   "outputs": [
    {
     "name": "stdout",
     "output_type": "stream",
     "text": [
      "<class 'pandas.core.frame.DataFrame'>\n",
      "RangeIndex: 86529 entries, 0 to 86528\n",
      "Data columns (total 6 columns):\n",
      " #   Column      Non-Null Count  Dtype \n",
      "---  ------      --------------  ----- \n",
      " 0   Year        86529 non-null  object\n",
      " 1   State       86529 non-null  object\n",
      " 2   CoC Number  86529 non-null  object\n",
      " 3   CoC Name    86529 non-null  object\n",
      " 4   Measures    86529 non-null  object\n",
      " 5   Count       86529 non-null  object\n",
      "dtypes: object(6)\n",
      "memory usage: 4.0+ MB\n"
     ]
    }
   ],
   "source": [
    "df2.info()"
   ]
  },
  {
   "cell_type": "code",
   "execution_count": 105,
   "metadata": {},
   "outputs": [
    {
     "data": {
      "text/plain": [
       "Index(['Year', 'State', 'CoC Number', 'CoC Name', 'Measures', 'Count'], dtype='object')"
      ]
     },
     "execution_count": 105,
     "metadata": {},
     "output_type": "execute_result"
    }
   ],
   "source": [
    "df2.columns"
   ]
  },
  {
   "cell_type": "code",
   "execution_count": 107,
   "metadata": {},
   "outputs": [
    {
     "data": {
      "text/plain": [
       "Year      State  CoC Number  CoC Name                                 Measures                                           Count\n",
       "1/1/2007  AK     AK-500      Anchorage CoC                            Chronically Homeless Individuals                   224      1\n",
       "1/1/2015  IL     IL-504      Madison County CoC                       Homeless Unaccompanied Youth (Under 25)            1        1\n",
       "                                                                      Sheltered Chronically Homeless People in Families  10       1\n",
       "                                                                      Sheltered Chronically Homeless Individuals         5        1\n",
       "                                                                      Sheltered Chronically Homeless                     15       1\n",
       "                                                                                                                                 ..\n",
       "1/1/2012  CO     CO-503      Metropolitan Denver Homeless Initiative  Chronically Homeless                               957      1\n",
       "                 CO-500      Colorado Balance of State CoC            Unsheltered Homeless Veterans                      495      1\n",
       "                                                                      Unsheltered Homeless People in Families            6,948    1\n",
       "                                                                      Unsheltered Homeless Individuals                   1,320    1\n",
       "1/1/2016  WY     WY-500      Wyoming Statewide CoC                    Unsheltered Parenting Youth Under 18               0        1\n",
       "Name: count, Length: 86529, dtype: int64"
      ]
     },
     "execution_count": 107,
     "metadata": {},
     "output_type": "execute_result"
    }
   ],
   "source": [
    "df2.value_counts()"
   ]
  },
  {
   "cell_type": "markdown",
   "metadata": {
    "id": "adaK2iPNzVu4"
   },
   "source": [
    "### Quality Issue and Tidiness Issues (Notes for myself)"
   ]
  },
  {
   "cell_type": "markdown",
   "metadata": {},
   "source": [
    "\n",
    "> data quality:\n",
    "\n",
    "  * *Completeness: is a metric that helps you understand whether your data is sufficient to answer interesting questions or solve your problem*\n",
    "\n",
    " *  *Validity is a metric helping you understand how well your data conforms to a defined set of rules for data, also known as a schema* \n",
    "   \n",
    "* Accuracy is a metric that helps you understand whether your data accurately represents the reality it aims to depict.* \n",
    "* Consistency is a metric that helps you understand two things: whether your data follows a standard format and whether your data’s info matches with information from other data sources.\n",
    "* Uniqueness is a metric that helps you understand whether there are duplicate or overlapping values in your data."
   ]
  },
  {
   "cell_type": "markdown",
   "metadata": {
    "id": "SpW59kh-zl8d"
   },
   "source": [
    "#FILL IN - Inspecting the data frame visually \n",
    "\n",
    "*  The shape of the df is huge It covers a lot of years, but df2 covers from 2007 to 2016: *So We have to limit the shape according to year. \n",
    "**( drop the data after 2017 | 12/2016  so it fits with the second dataset, or Filter the DataFrame to include only data from 2007 to 2016)** \n",
    "> And the code for this is: \n",
    " df = df[(df['Year'] >= 2007) & (df['Year'] <= 2016)]   \n",
    "- Year here is (prev_sold_date) So it have to be renamed either ways to [\"Year\"] which is object have to be changed to datetime.\n",
    "- The prev_sold_date  object, and it must be datatime. And it's important to notice that this column gives us an information saying this the \"Sold date\", So I have to use this information correctly to connect the 2 datasets, it's important to notice it might be a key column instead of the state.\n",
    "-  I have in df['prev_sold_date'] a 734297 null value.. first, I will reshape the data, then decide on how to deal with \n",
    "    date null values. \n",
    "\n",
    "* In df2 \"count\" must be integers.\n",
    "\n",
    "* df Have a lot of nulls. However, the most needed ones is the prices and the state.( And df2 does not have any nulls.X)\n",
    "* To Fix this issue, I must define the necessary columns in both datas. \n",
    "  - necessary_columnsdf = df['Price', 'State', 'sold_date/ Year']\n",
    "  - necessary_columnsdf2 = df2['State', 'Year', 'Measures', 'counts']\n",
    "* * df have 8 missing Values in ['State'] I have to change it to ['unknown'] or fill it manually by knowing the city. \n",
    "\n",
    "* In df2 [\"States\"] must be defined by name So I have to change it be matches df1.\n",
    "\n",
    "  > df2['State'] = df2['State'].replace({'Alaska':'AK', 'Alabama':'AL', 'Arkansas':'AR', 'Arizona':'AZ', \r\n",
    "                      'California':'CA', 'Colorado':'CO', 'Connecticut':'CT', \r\n",
    "                      'District of Columbia':'DC', 'Delaware':'DE', 'Florida':'FL', \r\n",
    "                      'Georgia':'GA', 'Hawaii':'HI', 'Iowa':'IA', \r\n",
    "                      'Idaho':'ID', 'Illinois':'IL', 'Indiana':'IN', 'Kansas':'KS', \r\n",
    "                      'Kentucky':'KY', 'Louisiana':'LA', 'Massachusetts':'MA', 'Maryland':'MD', \r\n",
    "                      'Maine':'ME', 'Michigan':'MI', 'Minnesota':'MN', 'Missouri':'MO', \r\n",
    "                      'Mississippi':'MS', 'Montana':'MT', 'North Carolina':'NC', \r\n",
    "                      'North Dakota':'ND', 'Nebraska':'NE', 'New Hampshire':'NH', \r\n",
    "                      'New Jersey':'NJ', 'New Mexico':'NM', 'Nevada':'NV', 'New York':'NY', \r\n",
    "                      'Ohio':'OH', 'Oklahoma':'OK', 'Oregon':'OR', 'Pennsylvania':'PA', \r\n",
    "                      'Puerto Rico':'PR', 'Rhode Island':'RI', 'South Carolina':'SC', \r\n",
    "                      'South Dakota':'SD', 'Tennessee':'TN', 'Texas':'TX', 'Utah':'UT', \r\n",
    "                      'Virginia':'VA', 'Vermont':'VT', 'Washington':'WA', \r\n",
    "                      'Wisconsin':'WI', 'West Virginia':'WV', 'Wyoming':'WY'})\n",
    "\n",
    "* In df2 Measures addresses many kind of \"Homelessness\", which are Homeless Individuals',' Homeless People in Families', 'Unsheltered Homeless', We can make it moinge Tidy make it i \\\\\\\\\\ also there is \" Unsheltered Parenting Youth Under 18\" And \"...Under 25..\" n one category\n",
    "   > hodf2ols = homeless['Measures'].str.df2ies()\r\n",
    "homeless.join(homeless_cols[['Homeless Individuals','Homeless People in Families', 'Unshelter\n",
    "     - Homeless']]*\n",
    "* But still,I dont think we have to make it in categories.-  Instead, I Think I have to collect the \"count\" number in one re\n",
    "  ult per state. \n",
    " bject"
   ]
  },
  {
   "cell_type": "code",
   "execution_count": 109,
   "metadata": {},
   "outputs": [
    {
     "data": {
      "text/plain": [
       "(2226382, 12)"
      ]
     },
     "execution_count": 109,
     "metadata": {},
     "output_type": "execute_result"
    }
   ],
   "source": [
    "df.shape"
   ]
  },
  {
   "cell_type": "code",
   "execution_count": 111,
   "metadata": {},
   "outputs": [
    {
     "data": {
      "text/plain": [
       "(86529, 6)"
      ]
     },
     "execution_count": 111,
     "metadata": {},
     "output_type": "execute_result"
    }
   ],
   "source": [
    "df2.shape"
   ]
  },
  {
   "cell_type": "code",
   "execution_count": 113,
   "metadata": {},
   "outputs": [
    {
     "name": "stdout",
     "output_type": "stream",
     "text": [
      "<class 'pandas.core.frame.DataFrame'>\n",
      "RangeIndex: 2226382 entries, 0 to 2226381\n",
      "Data columns (total 12 columns):\n",
      " #   Column          Dtype  \n",
      "---  ------          -----  \n",
      " 0   brokered_by     float64\n",
      " 1   status          object \n",
      " 2   price           float64\n",
      " 3   bed             float64\n",
      " 4   bath            float64\n",
      " 5   acre_lot        float64\n",
      " 6   street          float64\n",
      " 7   city            object \n",
      " 8   state           object \n",
      " 9   zip_code        float64\n",
      " 10  house_size      float64\n",
      " 11  prev_sold_date  object \n",
      "dtypes: float64(8), object(4)\n",
      "memory usage: 203.8+ MB\n"
     ]
    }
   ],
   "source": [
    "df.info()"
   ]
  },
  {
   "cell_type": "code",
   "execution_count": 115,
   "metadata": {},
   "outputs": [
    {
     "name": "stdout",
     "output_type": "stream",
     "text": [
      "<class 'pandas.core.frame.DataFrame'>\n",
      "RangeIndex: 86529 entries, 0 to 86528\n",
      "Data columns (total 6 columns):\n",
      " #   Column      Non-Null Count  Dtype \n",
      "---  ------      --------------  ----- \n",
      " 0   Year        86529 non-null  object\n",
      " 1   State       86529 non-null  object\n",
      " 2   CoC Number  86529 non-null  object\n",
      " 3   CoC Name    86529 non-null  object\n",
      " 4   Measures    86529 non-null  object\n",
      " 5   Count       86529 non-null  object\n",
      "dtypes: object(6)\n",
      "memory usage: 4.0+ MB\n"
     ]
    }
   ],
   "source": [
    "df2.info()"
   ]
  },
  {
   "cell_type": "code",
   "execution_count": 117,
   "metadata": {},
   "outputs": [
    {
     "data": {
      "text/html": [
       "<div>\n",
       "<style scoped>\n",
       "    .dataframe tbody tr th:only-of-type {\n",
       "        vertical-align: middle;\n",
       "    }\n",
       "\n",
       "    .dataframe tbody tr th {\n",
       "        vertical-align: top;\n",
       "    }\n",
       "\n",
       "    .dataframe thead th {\n",
       "        text-align: right;\n",
       "    }\n",
       "</style>\n",
       "<table border=\"1\" class=\"dataframe\">\n",
       "  <thead>\n",
       "    <tr style=\"text-align: right;\">\n",
       "      <th></th>\n",
       "      <th>brokered_by</th>\n",
       "      <th>status</th>\n",
       "      <th>price</th>\n",
       "      <th>bed</th>\n",
       "      <th>bath</th>\n",
       "      <th>acre_lot</th>\n",
       "      <th>street</th>\n",
       "      <th>city</th>\n",
       "      <th>state</th>\n",
       "      <th>zip_code</th>\n",
       "      <th>house_size</th>\n",
       "      <th>prev_sold_date</th>\n",
       "    </tr>\n",
       "  </thead>\n",
       "  <tbody>\n",
       "    <tr>\n",
       "      <th>1748357</th>\n",
       "      <td>79271.0</td>\n",
       "      <td>sold</td>\n",
       "      <td>199900.0</td>\n",
       "      <td>2.0</td>\n",
       "      <td>2.0</td>\n",
       "      <td>NaN</td>\n",
       "      <td>551611.0</td>\n",
       "      <td>Hoover</td>\n",
       "      <td>Alabama</td>\n",
       "      <td>35226.0</td>\n",
       "      <td>1428.0</td>\n",
       "      <td>2021-11-12</td>\n",
       "    </tr>\n",
       "    <tr>\n",
       "      <th>2077521</th>\n",
       "      <td>4699.0</td>\n",
       "      <td>sold</td>\n",
       "      <td>999998.0</td>\n",
       "      <td>4.0</td>\n",
       "      <td>3.0</td>\n",
       "      <td>0.46</td>\n",
       "      <td>426562.0</td>\n",
       "      <td>Chino Hills</td>\n",
       "      <td>California</td>\n",
       "      <td>91709.0</td>\n",
       "      <td>2233.0</td>\n",
       "      <td>2022-04-22</td>\n",
       "    </tr>\n",
       "    <tr>\n",
       "      <th>663892</th>\n",
       "      <td>7714.0</td>\n",
       "      <td>for_sale</td>\n",
       "      <td>159900.0</td>\n",
       "      <td>3.0</td>\n",
       "      <td>1.0</td>\n",
       "      <td>0.33</td>\n",
       "      <td>101061.0</td>\n",
       "      <td>Muldraugh</td>\n",
       "      <td>Kentucky</td>\n",
       "      <td>40155.0</td>\n",
       "      <td>1334.0</td>\n",
       "      <td>NaN</td>\n",
       "    </tr>\n",
       "    <tr>\n",
       "      <th>2021316</th>\n",
       "      <td>45055.0</td>\n",
       "      <td>sold</td>\n",
       "      <td>475000.0</td>\n",
       "      <td>4.0</td>\n",
       "      <td>2.0</td>\n",
       "      <td>0.15</td>\n",
       "      <td>500808.0</td>\n",
       "      <td>Gilbert</td>\n",
       "      <td>Arizona</td>\n",
       "      <td>85234.0</td>\n",
       "      <td>1710.0</td>\n",
       "      <td>2022-01-14</td>\n",
       "    </tr>\n",
       "    <tr>\n",
       "      <th>1567637</th>\n",
       "      <td>22611.0</td>\n",
       "      <td>sold</td>\n",
       "      <td>99900.0</td>\n",
       "      <td>3.0</td>\n",
       "      <td>1.0</td>\n",
       "      <td>0.76</td>\n",
       "      <td>1797847.0</td>\n",
       "      <td>Deal Island</td>\n",
       "      <td>Maryland</td>\n",
       "      <td>21821.0</td>\n",
       "      <td>1008.0</td>\n",
       "      <td>2022-04-08</td>\n",
       "    </tr>\n",
       "  </tbody>\n",
       "</table>\n",
       "</div>"
      ],
      "text/plain": [
       "         brokered_by    status     price  bed  bath  acre_lot     street  \\\n",
       "1748357      79271.0      sold  199900.0  2.0   2.0       NaN   551611.0   \n",
       "2077521       4699.0      sold  999998.0  4.0   3.0      0.46   426562.0   \n",
       "663892        7714.0  for_sale  159900.0  3.0   1.0      0.33   101061.0   \n",
       "2021316      45055.0      sold  475000.0  4.0   2.0      0.15   500808.0   \n",
       "1567637      22611.0      sold   99900.0  3.0   1.0      0.76  1797847.0   \n",
       "\n",
       "                city       state  zip_code  house_size prev_sold_date  \n",
       "1748357       Hoover     Alabama   35226.0      1428.0     2021-11-12  \n",
       "2077521  Chino Hills  California   91709.0      2233.0     2022-04-22  \n",
       "663892     Muldraugh    Kentucky   40155.0      1334.0            NaN  \n",
       "2021316      Gilbert     Arizona   85234.0      1710.0     2022-01-14  \n",
       "1567637  Deal Island    Maryland   21821.0      1008.0     2022-04-08  "
      ]
     },
     "execution_count": 117,
     "metadata": {},
     "output_type": "execute_result"
    }
   ],
   "source": [
    "df.sample(5)"
   ]
  },
  {
   "cell_type": "code",
   "execution_count": 119,
   "metadata": {},
   "outputs": [
    {
     "data": {
      "text/plain": [
       "Index(['brokered_by', 'status', 'price', 'bed', 'bath', 'acre_lot', 'street',\n",
       "       'city', 'state', 'zip_code', 'house_size', 'prev_sold_date'],\n",
       "      dtype='object')"
      ]
     },
     "execution_count": 119,
     "metadata": {},
     "output_type": "execute_result"
    }
   ],
   "source": [
    "df.columns"
   ]
  },
  {
   "cell_type": "code",
   "execution_count": 121,
   "metadata": {},
   "outputs": [
    {
     "data": {
      "text/html": [
       "<div>\n",
       "<style scoped>\n",
       "    .dataframe tbody tr th:only-of-type {\n",
       "        vertical-align: middle;\n",
       "    }\n",
       "\n",
       "    .dataframe tbody tr th {\n",
       "        vertical-align: top;\n",
       "    }\n",
       "\n",
       "    .dataframe thead th {\n",
       "        text-align: right;\n",
       "    }\n",
       "</style>\n",
       "<table border=\"1\" class=\"dataframe\">\n",
       "  <thead>\n",
       "    <tr style=\"text-align: right;\">\n",
       "      <th></th>\n",
       "      <th>Year</th>\n",
       "      <th>State</th>\n",
       "      <th>CoC Number</th>\n",
       "      <th>CoC Name</th>\n",
       "      <th>Measures</th>\n",
       "      <th>Count</th>\n",
       "    </tr>\n",
       "  </thead>\n",
       "  <tbody>\n",
       "    <tr>\n",
       "      <th>27636</th>\n",
       "      <td>1/1/2012</td>\n",
       "      <td>AL</td>\n",
       "      <td>AL-501</td>\n",
       "      <td>Mobile City &amp; County/Baldwin County CoC</td>\n",
       "      <td>Sheltered Homeless Veterans</td>\n",
       "      <td>12</td>\n",
       "    </tr>\n",
       "    <tr>\n",
       "      <th>45760</th>\n",
       "      <td>1/1/2014</td>\n",
       "      <td>FL</td>\n",
       "      <td>FL-501</td>\n",
       "      <td>Tampa/Hillsborough County CoC</td>\n",
       "      <td>Total Homeless</td>\n",
       "      <td>1,944</td>\n",
       "    </tr>\n",
       "    <tr>\n",
       "      <th>70172</th>\n",
       "      <td>1/1/2016</td>\n",
       "      <td>AR</td>\n",
       "      <td>AR-503</td>\n",
       "      <td>Arkansas  Balance of State  CoC</td>\n",
       "      <td>Sheltered Homeless Veterans</td>\n",
       "      <td>14</td>\n",
       "    </tr>\n",
       "    <tr>\n",
       "      <th>30861</th>\n",
       "      <td>1/1/2012</td>\n",
       "      <td>MA</td>\n",
       "      <td>MA-510</td>\n",
       "      <td>Gloucester/Haverhill/Salem/Essex County CoC</td>\n",
       "      <td>Homeless Individuals</td>\n",
       "      <td>266</td>\n",
       "    </tr>\n",
       "    <tr>\n",
       "      <th>33341</th>\n",
       "      <td>1/1/2012</td>\n",
       "      <td>NY</td>\n",
       "      <td>NY-512</td>\n",
       "      <td>Troy/Rensselaer County CoC</td>\n",
       "      <td>Homeless Veterans</td>\n",
       "      <td>8</td>\n",
       "    </tr>\n",
       "  </tbody>\n",
       "</table>\n",
       "</div>"
      ],
      "text/plain": [
       "           Year State CoC Number                                     CoC Name  \\\n",
       "27636  1/1/2012    AL     AL-501      Mobile City & County/Baldwin County CoC   \n",
       "45760  1/1/2014    FL     FL-501                Tampa/Hillsborough County CoC   \n",
       "70172  1/1/2016    AR     AR-503              Arkansas  Balance of State  CoC   \n",
       "30861  1/1/2012    MA     MA-510  Gloucester/Haverhill/Salem/Essex County CoC   \n",
       "33341  1/1/2012    NY     NY-512                   Troy/Rensselaer County CoC   \n",
       "\n",
       "                          Measures  Count  \n",
       "27636  Sheltered Homeless Veterans     12  \n",
       "45760               Total Homeless  1,944  \n",
       "70172  Sheltered Homeless Veterans     14  \n",
       "30861         Homeless Individuals    266  \n",
       "33341            Homeless Veterans      8  "
      ]
     },
     "execution_count": 121,
     "metadata": {},
     "output_type": "execute_result"
    }
   ],
   "source": [
    "df2.sample(5)"
   ]
  },
  {
   "cell_type": "code",
   "execution_count": 123,
   "metadata": {},
   "outputs": [
    {
     "name": "stdout",
     "output_type": "stream",
     "text": [
      "brokered_by         4533\n",
      "status                 0\n",
      "price               1541\n",
      "bed               481317\n",
      "bath              511771\n",
      "acre_lot          325589\n",
      "street             10866\n",
      "city                1407\n",
      "state                  8\n",
      "zip_code             299\n",
      "house_size        568484\n",
      "prev_sold_date    734297\n",
      "dtype: int64\n"
     ]
    }
   ],
   "source": [
    "print(df.isnull().sum())"
   ]
  },
  {
   "cell_type": "code",
   "execution_count": 125,
   "metadata": {},
   "outputs": [
    {
     "name": "stdout",
     "output_type": "stream",
     "text": [
      "Index(['brokered_by', 'status', 'price', 'bed', 'bath', 'acre_lot', 'street',\n",
      "       'city', 'state', 'zip_code', 'house_size', 'prev_sold_date'],\n",
      "      dtype='object')\n"
     ]
    }
   ],
   "source": [
    "print(df.columns)"
   ]
  },
  {
   "cell_type": "code",
   "execution_count": 127,
   "metadata": {},
   "outputs": [
    {
     "name": "stdout",
     "output_type": "stream",
     "text": [
      "Year          0\n",
      "State         0\n",
      "CoC Number    0\n",
      "CoC Name      0\n",
      "Measures      0\n",
      "Count         0\n",
      "dtype: int64\n"
     ]
    }
   ],
   "source": [
    "print(df2.isnull().sum())"
   ]
  },
  {
   "cell_type": "code",
   "execution_count": 129,
   "metadata": {},
   "outputs": [
    {
     "data": {
      "text/plain": [
       "array(['Chronically Homeless Individuals', 'Homeless Individuals',\n",
       "       'Homeless People in Families',\n",
       "       'Sheltered Chronically Homeless Individuals', 'Sheltered Homeless',\n",
       "       'Sheltered Homeless Individuals',\n",
       "       'Sheltered Homeless People in Families', 'Total Homeless',\n",
       "       'Unsheltered Chronically Homeless Individuals',\n",
       "       'Unsheltered Homeless', 'Unsheltered Homeless Individuals',\n",
       "       'Unsheltered Homeless People in Families', 'Chronically Homeless',\n",
       "       'Chronically Homeless People in Families', 'Homeless Veterans',\n",
       "       'Sheltered Chronically Homeless',\n",
       "       'Sheltered Chronically Homeless People in Families',\n",
       "       'Sheltered Homeless Veterans', 'Unsheltered Chronically Homeless',\n",
       "       'Unsheltered Chronically Homeless People in Families',\n",
       "       'Unsheltered Homeless Veterans', 'Children of Parenting Youth',\n",
       "       'Homeless Unaccompanied Children (Under 18)',\n",
       "       'Homeless Unaccompanied Young Adults (Age 18-24)',\n",
       "       'Homeless Unaccompanied Youth (Under 25)',\n",
       "       'Parenting Youth (Under 25)', 'Parenting Youth Age 18-24',\n",
       "       'Parenting Youth Under 18',\n",
       "       'Sheltered Children of Parenting Youth',\n",
       "       'Sheltered Homeless Unaccompanied Children (Under 18)',\n",
       "       'Sheltered Homeless Unaccompanied Young Adults (Age 18-24)',\n",
       "       'Sheltered Homeless Unaccompanied Youth (Under 25)',\n",
       "       'Sheltered Parenting Youth (Under 25)',\n",
       "       'Sheltered Parenting Youth Age 18-24',\n",
       "       'Sheltered Parenting Youth Under 18',\n",
       "       'Unsheltered Children of Parenting Youth',\n",
       "       'Unsheltered Homeless Unaccompanied Children (Under 18)',\n",
       "       'Unsheltered Homeless Unaccompanied Young Adults (Age 18-24)',\n",
       "       'Unsheltered Homeless Unaccompanied Youth (Under 25)',\n",
       "       'Unsheltered Parenting Youth (Under 25)',\n",
       "       'Unsheltered Parenting Youth Age 18-24',\n",
       "       'Unsheltered Parenting Youth Under 18'], dtype=object)"
      ]
     },
     "execution_count": 129,
     "metadata": {},
     "output_type": "execute_result"
    }
   ],
   "source": [
    "df2['Measures'].unique()"
   ]
  },
  {
   "cell_type": "code",
   "execution_count": 131,
   "metadata": {},
   "outputs": [
    {
     "data": {
      "text/plain": [
       "42"
      ]
     },
     "execution_count": 131,
     "metadata": {},
     "output_type": "execute_result"
    }
   ],
   "source": [
    "df2['Measures'].nunique()"
   ]
  },
  {
   "cell_type": "code",
   "execution_count": 133,
   "metadata": {},
   "outputs": [
    {
     "data": {
      "text/plain": [
       "86487"
      ]
     },
     "execution_count": 133,
     "metadata": {},
     "output_type": "execute_result"
    }
   ],
   "source": [
    "df2['Measures']. duplicated().sum()"
   ]
  },
  {
   "cell_type": "code",
   "execution_count": 135,
   "metadata": {},
   "outputs": [
    {
     "data": {
      "text/plain": [
       "0"
      ]
     },
     "execution_count": 135,
     "metadata": {},
     "output_type": "execute_result"
    }
   ],
   "source": [
    "df2['Measures']. isnull().sum()"
   ]
  },
  {
   "cell_type": "code",
   "execution_count": 137,
   "metadata": {},
   "outputs": [
    {
     "data": {
      "text/plain": [
       "<bound method IndexOpsMixin.value_counts of 0                         Chronically Homeless Individuals\n",
       "1                                     Homeless Individuals\n",
       "2                              Homeless People in Families\n",
       "3               Sheltered Chronically Homeless Individuals\n",
       "4                                       Sheltered Homeless\n",
       "                               ...                        \n",
       "86524    Unsheltered Homeless Unaccompanied Youth (Unde...\n",
       "86525                        Unsheltered Homeless Veterans\n",
       "86526               Unsheltered Parenting Youth (Under 25)\n",
       "86527                Unsheltered Parenting Youth Age 18-24\n",
       "86528                 Unsheltered Parenting Youth Under 18\n",
       "Name: Measures, Length: 86529, dtype: object>"
      ]
     },
     "execution_count": 137,
     "metadata": {},
     "output_type": "execute_result"
    }
   ],
   "source": [
    "df2['Measures'].value_counts"
   ]
  },
  {
   "cell_type": "markdown",
   "metadata": {},
   "source": [
    "### Quality Issue 1:"
   ]
  },
  {
   "cell_type": "markdown",
   "metadata": {},
   "source": [
    "1- I have in df['prev_sold_date'] a 734297 null value.. first, I will reshape the data, then decide on how to deal with \n",
    "    date null values. \n",
    "\n",
    "2-  Year here is (prev_sold_date) So it has to be renamed either way to [\"Year\"] which means the object has\n",
    "to be changed to datetime.\n",
    "\n",
    "3- df: NAn in  \"states\" are 8 "
   ]
  },
  {
   "cell_type": "markdown",
   "metadata": {},
   "source": [
    "### Quality Issue 2:"
   ]
  },
  {
   "cell_type": "markdown",
   "metadata": {},
   "source": [
    "2-  In df2 \"count\" must be integers."
   ]
  },
  {
   "cell_type": "markdown",
   "metadata": {},
   "source": [
    "### Tidiness Issue 1:\n"
   ]
  },
  {
   "cell_type": "markdown",
   "metadata": {},
   "source": [
    "1- df2 \"States\" are in capital letters "
   ]
  },
  {
   "cell_type": "markdown",
   "metadata": {},
   "source": [
    "### Tidiness Issue 2:\n"
   ]
  },
  {
   "cell_type": "markdown",
   "metadata": {},
   "source": [
    "df2 \"measures\" have diffrent categories. "
   ]
  },
  {
   "cell_type": "markdown",
   "metadata": {
    "id": "D6gmLnBttpCh"
   },
   "source": [
    "## 3. Clean data\n",
    "Clean the data to solve the 4 issues corresponding to data quality and tidiness found in the assessing step. **Make sure you include justifications for your cleaning decisions.**\n",
    "\n",
    "After the cleaning for each issue, please use **either** the visually or programatical method to validate the cleaning was succesful.\n",
    "\n",
    "At this stage, you are also expected to remove variables that are unnecessary for your analysis and combine your datasets. Depending on your datasets, you may choose to perform variable combination and elimination before or after the cleaning stage. Your dataset must have **at least** 4 variables after combining the data."
   ]
  },
  {
   "cell_type": "markdown",
   "metadata": {},
   "source": [
    "# For the porpuse of combine "
   ]
  },
  {
   "cell_type": "markdown",
   "metadata": {},
   "source": [
    "Here is to make the time zone for df the same as df2: \n",
    "- Rename prev_sold_date To \"Year\". \n",
    "- dtype: datetime\n",
    "- 1/1/2006 - 31/12/2017 "
   ]
  },
  {
   "cell_type": "code",
   "execution_count": 143,
   "metadata": {},
   "outputs": [],
   "source": [
    "df.rename(columns= {'prev_sold_date': 'Year'}, inplace= True)  "
   ]
  },
  {
   "cell_type": "markdown",
   "metadata": {},
   "source": [
    "Check: "
   ]
  },
  {
   "cell_type": "code",
   "execution_count": 146,
   "metadata": {},
   "outputs": [
    {
     "data": {
      "text/html": [
       "<div>\n",
       "<style scoped>\n",
       "    .dataframe tbody tr th:only-of-type {\n",
       "        vertical-align: middle;\n",
       "    }\n",
       "\n",
       "    .dataframe tbody tr th {\n",
       "        vertical-align: top;\n",
       "    }\n",
       "\n",
       "    .dataframe thead th {\n",
       "        text-align: right;\n",
       "    }\n",
       "</style>\n",
       "<table border=\"1\" class=\"dataframe\">\n",
       "  <thead>\n",
       "    <tr style=\"text-align: right;\">\n",
       "      <th></th>\n",
       "      <th>brokered_by</th>\n",
       "      <th>status</th>\n",
       "      <th>price</th>\n",
       "      <th>bed</th>\n",
       "      <th>bath</th>\n",
       "      <th>acre_lot</th>\n",
       "      <th>street</th>\n",
       "      <th>city</th>\n",
       "      <th>state</th>\n",
       "      <th>zip_code</th>\n",
       "      <th>house_size</th>\n",
       "      <th>Year</th>\n",
       "    </tr>\n",
       "  </thead>\n",
       "  <tbody>\n",
       "    <tr>\n",
       "      <th>2050179</th>\n",
       "      <td>109914.0</td>\n",
       "      <td>sold</td>\n",
       "      <td>290000.0</td>\n",
       "      <td>2.0</td>\n",
       "      <td>2.0</td>\n",
       "      <td>0.01</td>\n",
       "      <td>749652.0</td>\n",
       "      <td>Sparks</td>\n",
       "      <td>Nevada</td>\n",
       "      <td>89431.0</td>\n",
       "      <td>1424.0</td>\n",
       "      <td>2022-04-27</td>\n",
       "    </tr>\n",
       "  </tbody>\n",
       "</table>\n",
       "</div>"
      ],
      "text/plain": [
       "         brokered_by status     price  bed  bath  acre_lot    street    city  \\\n",
       "2050179     109914.0   sold  290000.0  2.0   2.0      0.01  749652.0  Sparks   \n",
       "\n",
       "          state  zip_code  house_size        Year  \n",
       "2050179  Nevada   89431.0      1424.0  2022-04-27  "
      ]
     },
     "execution_count": 146,
     "metadata": {},
     "output_type": "execute_result"
    }
   ],
   "source": [
    "df.sample(1)"
   ]
  },
  {
   "cell_type": "markdown",
   "metadata": {},
   "source": [
    "Change the dtype for Year because it's object"
   ]
  },
  {
   "cell_type": "code",
   "execution_count": 149,
   "metadata": {},
   "outputs": [],
   "source": [
    "df['Year'] = pd.to_datetime(df['Year'], errors='coerce')"
   ]
  },
  {
   "cell_type": "markdown",
   "metadata": {},
   "source": [
    "Check"
   ]
  },
  {
   "cell_type": "code",
   "execution_count": 152,
   "metadata": {},
   "outputs": [
    {
     "data": {
      "text/plain": [
       "brokered_by           float64\n",
       "status                 object\n",
       "price                 float64\n",
       "bed                   float64\n",
       "bath                  float64\n",
       "acre_lot              float64\n",
       "street                float64\n",
       "city                   object\n",
       "state                  object\n",
       "zip_code              float64\n",
       "house_size            float64\n",
       "Year           datetime64[ns]\n",
       "dtype: object"
      ]
     },
     "execution_count": 152,
     "metadata": {},
     "output_type": "execute_result"
    }
   ],
   "source": [
    "df.dtypes"
   ]
  },
  {
   "cell_type": "code",
   "execution_count": 154,
   "metadata": {},
   "outputs": [
    {
     "data": {
      "text/plain": [
       "734298"
      ]
     },
     "execution_count": 154,
     "metadata": {},
     "output_type": "execute_result"
    }
   ],
   "source": [
    "df['Year']. isnull().sum()"
   ]
  },
  {
   "cell_type": "markdown",
   "metadata": {},
   "source": [
    "Now, lemit the df dataframe"
   ]
  },
  {
   "cell_type": "code",
   "execution_count": 157,
   "metadata": {},
   "outputs": [],
   "source": [
    "df = df[(df['Year'].dt.year >= 2007) & (df['Year'].dt.year <= 2016)]\n"
   ]
  },
  {
   "cell_type": "code",
   "execution_count": 159,
   "metadata": {},
   "outputs": [
    {
     "data": {
      "text/plain": [
       "2270      2013-10-11\n",
       "2493      2016-04-28\n",
       "2555      2016-11-16\n",
       "3062      2010-01-26\n",
       "3409      2014-06-25\n",
       "             ...    \n",
       "1414189   2015-12-18\n",
       "1414192   2013-03-26\n",
       "1414316   2007-06-12\n",
       "1414327   2011-09-09\n",
       "1414346   2014-03-07\n",
       "Name: Year, Length: 199269, dtype: datetime64[ns]"
      ]
     },
     "execution_count": 159,
     "metadata": {},
     "output_type": "execute_result"
    }
   ],
   "source": [
    "df['Year']"
   ]
  },
  {
   "cell_type": "markdown",
   "metadata": {},
   "source": [
    "Check, The shape of df was (2226382, 12)"
   ]
  },
  {
   "cell_type": "code",
   "execution_count": 162,
   "metadata": {},
   "outputs": [
    {
     "data": {
      "text/plain": [
       "(199269, 12)"
      ]
     },
     "execution_count": 162,
     "metadata": {},
     "output_type": "execute_result"
    }
   ],
   "source": [
    "df.shape"
   ]
  },
  {
   "cell_type": "code",
   "execution_count": 164,
   "metadata": {},
   "outputs": [
    {
     "data": {
      "text/plain": [
       "0"
      ]
     },
     "execution_count": 164,
     "metadata": {},
     "output_type": "execute_result"
    }
   ],
   "source": [
    "df['Year']. isnull().sum()"
   ]
  },
  {
   "cell_type": "code",
   "execution_count": 166,
   "metadata": {},
   "outputs": [
    {
     "name": "stdout",
     "output_type": "stream",
     "text": [
      "brokered_by      151\n",
      "status             0\n",
      "price             69\n",
      "bed            21374\n",
      "bath           20529\n",
      "acre_lot       29659\n",
      "street           828\n",
      "city              18\n",
      "state              0\n",
      "zip_code           1\n",
      "house_size     30312\n",
      "Year               0\n",
      "dtype: int64\n"
     ]
    }
   ],
   "source": [
    "print(df.isnull().sum())"
   ]
  },
  {
   "cell_type": "code",
   "execution_count": 171,
   "metadata": {},
   "outputs": [
    {
     "name": "stdout",
     "output_type": "stream",
     "text": [
      "2026813\n"
     ]
    }
   ],
   "source": [
    "check = 2226382 - 199569\n",
    "print(check)"
   ]
  },
  {
   "cell_type": "markdown",
   "metadata": {},
   "source": [
    "So, I've dropped 2026813 intries. I have to check the nulls. "
   ]
  },
  {
   "cell_type": "code",
   "execution_count": 174,
   "metadata": {},
   "outputs": [
    {
     "name": "stdout",
     "output_type": "stream",
     "text": [
      "brokered_by      151\n",
      "status             0\n",
      "price             69\n",
      "bed            21374\n",
      "bath           20529\n",
      "acre_lot       29659\n",
      "street           828\n",
      "city              18\n",
      "state              0\n",
      "zip_code           1\n",
      "house_size     30312\n",
      "Year               0\n",
      "dtype: int64\n"
     ]
    }
   ],
   "source": [
    "print(df.isnull().sum())"
   ]
  },
  {
   "cell_type": "markdown",
   "metadata": {},
   "source": [
    "Now,\n",
    "- I have no nulls in the Year Column. \n",
    "- I have no nulls in the State Column\n",
    "- I have 69 in the Price column. I can fill it with th mean of every year to care about the accuracy. "
   ]
  },
  {
   "cell_type": "markdown",
   "metadata": {
    "id": "FmFhN52Yyn3l"
   },
   "source": [
    "### **Quality Issue 1: FILL IN**"
   ]
  },
  {
   "cell_type": "markdown",
   "metadata": {
    "id": "oUBee-LPytkv"
   },
   "source": [
    "##### FILL IN - Validate the cleaning was successful\n",
    "##### Here,  I must fill the Na in prices with the mean of the corresponding year.\n",
    "\n",
    "##### Calculate the mean price for each year\n",
    "mean_prices = df.groupby('Year')[\"price\"].transform('mean')\n",
    "\n",
    "###### Fill missing prices with the mean price of the corresponding year\n",
    "df[\"price\"] = df[\"price\"].fillna(mean_prices)\n",
    "\n",
    "###### Display the DataFrame after filling missing prices\n",
    "print(\"DataFrame after filling missing prices with the mean price of each year:\")\n",
    "print(df)\n"
   ]
  },
  {
   "cell_type": "code",
   "execution_count": 229,
   "metadata": {},
   "outputs": [
    {
     "name": "stdout",
     "output_type": "stream",
     "text": [
      "brokered_by      151\n",
      "status             0\n",
      "price              0\n",
      "bed            21374\n",
      "bath           20529\n",
      "acre_lot       29659\n",
      "street           828\n",
      "city              18\n",
      "state              0\n",
      "zip_code           1\n",
      "house_size     30312\n",
      "Year               0\n",
      "dtype: int64\n"
     ]
    }
   ],
   "source": [
    "print(df.isnull().sum())"
   ]
  },
  {
   "cell_type": "code",
   "execution_count": 176,
   "metadata": {},
   "outputs": [
    {
     "data": {
      "text/plain": [
       "9110"
      ]
     },
     "execution_count": 176,
     "metadata": {},
     "output_type": "execute_result"
    }
   ],
   "source": [
    "df['price']. nunique()"
   ]
  },
  {
   "cell_type": "code",
   "execution_count": 189,
   "metadata": {},
   "outputs": [],
   "source": [
    "Mean = df['price'].mean()"
   ]
  },
  {
   "cell_type": "code",
   "execution_count": 193,
   "metadata": {},
   "outputs": [],
   "source": [
    "df['price'].fillna(Mean, inplace=True)\n"
   ]
  },
  {
   "cell_type": "markdown",
   "metadata": {},
   "source": [
    "Check: "
   ]
  },
  {
   "cell_type": "code",
   "execution_count": 195,
   "metadata": {},
   "outputs": [
    {
     "name": "stdout",
     "output_type": "stream",
     "text": [
      "brokered_by      151\n",
      "status             0\n",
      "price              0\n",
      "bed            21374\n",
      "bath           20529\n",
      "acre_lot       29659\n",
      "street           828\n",
      "city              18\n",
      "state              0\n",
      "zip_code           1\n",
      "house_size     30312\n",
      "Year               0\n",
      "dtype: int64\n"
     ]
    }
   ],
   "source": [
    "print(df.isnull().sum())"
   ]
  },
  {
   "cell_type": "code",
   "execution_count": 227,
   "metadata": {},
   "outputs": [
    {
     "data": {
      "text/plain": [
       "9111"
      ]
     },
     "execution_count": 227,
     "metadata": {},
     "output_type": "execute_result"
    }
   ],
   "source": [
    "df['price']. nunique()"
   ]
  },
  {
   "cell_type": "markdown",
   "metadata": {},
   "source": [
    "### **Quality Issue 2: FILL IN**"
   ]
  },
  {
   "cell_type": "code",
   "execution_count": 197,
   "metadata": {},
   "outputs": [
    {
     "data": {
      "text/plain": [
       "Index(['Year', 'State', 'CoC Number', 'CoC Name', 'Measures', 'Count'], dtype='object')"
      ]
     },
     "execution_count": 197,
     "metadata": {},
     "output_type": "execute_result"
    }
   ],
   "source": [
    "df2.columns"
   ]
  },
  {
   "cell_type": "code",
   "execution_count": 201,
   "metadata": {},
   "outputs": [],
   "source": [
    "df2['Count'] = df2['Count'].str.replace(',', '').astype(float)"
   ]
  },
  {
   "cell_type": "code",
   "execution_count": 203,
   "metadata": {},
   "outputs": [],
   "source": [
    "df2['Count'] = df2['Count'].astype(int) # In df2 \"count\" must be integers\n"
   ]
  },
  {
   "cell_type": "markdown",
   "metadata": {},
   "source": [
    "Check"
   ]
  },
  {
   "cell_type": "code",
   "execution_count": 206,
   "metadata": {
    "id": "ionB2sRaMUmY"
   },
   "outputs": [
    {
     "name": "stdout",
     "output_type": "stream",
     "text": [
      "<class 'pandas.core.frame.DataFrame'>\n",
      "RangeIndex: 86529 entries, 0 to 86528\n",
      "Data columns (total 6 columns):\n",
      " #   Column      Non-Null Count  Dtype \n",
      "---  ------      --------------  ----- \n",
      " 0   Year        86529 non-null  object\n",
      " 1   State       86529 non-null  object\n",
      " 2   CoC Number  86529 non-null  object\n",
      " 3   CoC Name    86529 non-null  object\n",
      " 4   Measures    86529 non-null  object\n",
      " 5   Count       86529 non-null  int32 \n",
      "dtypes: int32(1), object(5)\n",
      "memory usage: 3.6+ MB\n"
     ]
    }
   ],
   "source": [
    "#FILL IN - Validate the cleaning was successful\n",
    "df2.info()"
   ]
  },
  {
   "cell_type": "markdown",
   "metadata": {},
   "source": [
    "Now, The Years Column is object here too, and it must be datetime too. "
   ]
  },
  {
   "cell_type": "markdown",
   "metadata": {},
   "source": [
    "### **Quality Issue 3:**"
   ]
  },
  {
   "cell_type": "code",
   "execution_count": 294,
   "metadata": {},
   "outputs": [],
   "source": [
    "from datetime import datetime"
   ]
  },
  {
   "cell_type": "code",
   "execution_count": 648,
   "metadata": {},
   "outputs": [
    {
     "data": {
      "text/plain": [
       "array([datetime.date(2015, 8, 21), datetime.date(2008, 3, 10),\n",
       "       datetime.date(2010, 5, 4), ..., datetime.date(2013, 1, 21),\n",
       "       datetime.date(2008, 1, 21), datetime.date(2014, 1, 20)],\n",
       "      dtype=object)"
      ]
     },
     "execution_count": 648,
     "metadata": {},
     "output_type": "execute_result"
    }
   ],
   "source": [
    "df['Year'] = pd.to_datetime(df['Year'])\n",
    "df['Year'] = df['Year'].dt.date\n",
    "df['Year'].unique()"
   ]
  },
  {
   "cell_type": "code",
   "execution_count": 642,
   "metadata": {},
   "outputs": [
    {
     "name": "stdout",
     "output_type": "stream",
     "text": [
      "<class 'pandas.core.frame.DataFrame'>\n",
      "Index: 85881 entries, 44442 to 86528\n",
      "Data columns (total 5 columns):\n",
      " #   Column       Non-Null Count  Dtype \n",
      "---  ------       --------------  ----- \n",
      " 0   Year         85881 non-null  object\n",
      " 1   State        85881 non-null  object\n",
      " 2   Count        85881 non-null  int32 \n",
      " 3   Sheltered    85881 non-null  bool  \n",
      " 4   Unsheltered  85881 non-null  bool  \n",
      "dtypes: bool(2), int32(1), object(2)\n",
      "memory usage: 2.5+ MB\n"
     ]
    }
   ],
   "source": [
    "df2.info()"
   ]
  },
  {
   "cell_type": "code",
   "execution_count": 644,
   "metadata": {},
   "outputs": [
    {
     "data": {
      "text/plain": [
       "<DatetimeArray>\n",
       "['2015-08-21 00:00:00', '2008-03-10 00:00:00', '2010-05-04 00:00:00',\n",
       " '2007-08-30 00:00:00', '2008-02-20 00:00:00', '2007-08-20 00:00:00',\n",
       " '2016-04-12 00:00:00', '2015-07-06 00:00:00', '2007-09-04 00:00:00',\n",
       " '2009-01-14 00:00:00',\n",
       " ...\n",
       " '2008-06-28 00:00:00', '2010-03-27 00:00:00', '2007-05-19 00:00:00',\n",
       " '2015-11-11 00:00:00', '2010-03-20 00:00:00', '2013-10-26 00:00:00',\n",
       " '2009-11-21 00:00:00', '2013-01-21 00:00:00', '2008-01-21 00:00:00',\n",
       " '2014-01-20 00:00:00']\n",
       "Length: 2823, dtype: datetime64[ns]"
      ]
     },
     "execution_count": 644,
     "metadata": {},
     "output_type": "execute_result"
    }
   ],
   "source": [
    "df['Year'].unique()"
   ]
  },
  {
   "cell_type": "markdown",
   "metadata": {
    "id": "bIUrrfSNyOPR"
   },
   "source": [
    "### **Tidiness Issue 1: FILL IN**"
   ]
  },
  {
   "cell_type": "code",
   "execution_count": 324,
   "metadata": {
    "id": "fib0zAm333bn"
   },
   "outputs": [],
   "source": [
    "#FILL IN - Apply the cleaning strategy\n",
    "# Here I have to change the state column so when I combine the data make sense. \n",
    "\n",
    "state_abbr_to_full = {\n",
    "    'AK': 'Alaska', 'AL': 'Alabama', 'AR': 'Arkansas', 'AZ': 'Arizona', 'CA': 'California',\n",
    "    'CO': 'Colorado', 'CT': 'Connecticut', 'DC': 'District of Columbia', 'DE': 'Delaware', 'FL': 'Florida',\n",
    "    'GA': 'Georgia', 'HI': 'Hawaii', 'IA': 'Iowa', 'ID': 'Idaho', 'IL': 'Illinois', 'IN': 'Indiana',\n",
    "    'KS': 'Kansas', 'KY': 'Kentucky', 'LA': 'Louisiana', 'MA': 'Massachusetts', 'MD': 'Maryland',\n",
    "    'ME': 'Maine', 'MI': 'Michigan', 'MN': 'Minnesota', 'MO': 'Missouri', 'MS': 'Mississippi', 'MT': 'Montana',\n",
    "    'NC': 'North Carolina', 'ND': 'North Dakota', 'NE': 'Nebraska', 'NH': 'New Hampshire', 'NJ': 'New Jersey',\n",
    "    'NM': 'New Mexico', 'NV': 'Nevada', 'NY': 'New York', 'OH': 'Ohio', 'OK': 'Oklahoma', 'OR': 'Oregon',\n",
    "    'PA': 'Pennsylvania', 'PR': 'Puerto Rico', 'RI': 'Rhode Island', 'SC': 'South Carolina', 'SD': 'South Dakota',\n",
    "    'TN': 'Tennessee', 'TX': 'Texas', 'UT': 'Utah', 'VA': 'Virginia', 'VT': 'Vermont', 'WA': 'Washington',\n",
    "    'WI': 'Wisconsin', 'WV': 'West Virginia', 'WY': 'Wyoming', 'VI': 'Virgin Islands', 'GU': 'Guam'\n",
    "}\n",
    "\n",
    "# Replace state abbreviations with full names\n",
    "df2['State'] = df2['State'].replace(state_abbr_to_full)\n",
    "\n",
    "#States in df2 but not in df:\n",
    "#{'Puerto Rico', 'VI', 'GU'}\n",
    "\n",
    "#States in df but not in df2:\n",
    "#{'Virgin Islands'}"
   ]
  },
  {
   "cell_type": "code",
   "execution_count": 326,
   "metadata": {},
   "outputs": [
    {
     "name": "stdout",
     "output_type": "stream",
     "text": [
      "['Alaska' 'Alabama' 'Arkansas' 'Arizona' 'California' 'Colorado'\n",
      " 'Connecticut' 'District of Columbia' 'Delaware' 'Florida' 'Georgia'\n",
      " 'Guam' 'Hawaii' 'Iowa' 'Idaho' 'Illinois' 'Indiana' 'Kansas' 'Kentucky'\n",
      " 'Louisiana' 'Massachusetts' 'Maryland' 'Maine' 'Michigan' 'Minnesota'\n",
      " 'Missouri' 'Mississippi' 'Montana' 'North Carolina' 'North Dakota'\n",
      " 'Nebraska' 'New Hampshire' 'New Jersey' 'New Mexico' 'Nevada' 'New York'\n",
      " 'Ohio' 'Oklahoma' 'Oregon' 'Pennsylvania' 'Puerto Rico' 'Rhode Island'\n",
      " 'South Carolina' 'South Dakota' 'Tennessee' 'Texas' 'Utah' 'Virginia'\n",
      " 'Virgin Islands' 'Vermont' 'Washington' 'Wisconsin' 'West Virginia'\n",
      " 'Wyoming']\n"
     ]
    }
   ],
   "source": [
    "print(df2['State'].unique())"
   ]
  },
  {
   "cell_type": "markdown",
   "metadata": {},
   "source": [
    "Check"
   ]
  },
  {
   "cell_type": "code",
   "execution_count": 347,
   "metadata": {},
   "outputs": [
    {
     "data": {
      "text/html": [
       "<div>\n",
       "<style scoped>\n",
       "    .dataframe tbody tr th:only-of-type {\n",
       "        vertical-align: middle;\n",
       "    }\n",
       "\n",
       "    .dataframe tbody tr th {\n",
       "        vertical-align: top;\n",
       "    }\n",
       "\n",
       "    .dataframe thead th {\n",
       "        text-align: right;\n",
       "    }\n",
       "</style>\n",
       "<table border=\"1\" class=\"dataframe\">\n",
       "  <thead>\n",
       "    <tr style=\"text-align: right;\">\n",
       "      <th></th>\n",
       "      <th>Year</th>\n",
       "      <th>State</th>\n",
       "      <th>CoC Number</th>\n",
       "      <th>CoC Name</th>\n",
       "      <th>Measures</th>\n",
       "      <th>Count</th>\n",
       "    </tr>\n",
       "  </thead>\n",
       "  <tbody>\n",
       "    <tr>\n",
       "      <th>41745</th>\n",
       "      <td>2013-01-01</td>\n",
       "      <td>New York</td>\n",
       "      <td>NY-512</td>\n",
       "      <td>Troy/Rensselaer County CoC</td>\n",
       "      <td>Sheltered Homeless</td>\n",
       "      <td>142</td>\n",
       "    </tr>\n",
       "    <tr>\n",
       "      <th>21552</th>\n",
       "      <td>2011-01-01</td>\n",
       "      <td>Illinois</td>\n",
       "      <td>IL-504</td>\n",
       "      <td>Madison County CoC</td>\n",
       "      <td>Unsheltered Homeless Individuals</td>\n",
       "      <td>42</td>\n",
       "    </tr>\n",
       "    <tr>\n",
       "      <th>64358</th>\n",
       "      <td>2015-01-01</td>\n",
       "      <td>New York</td>\n",
       "      <td>NY-510</td>\n",
       "      <td>Ithaca/Tompkins County CoC</td>\n",
       "      <td>Homeless People in Families</td>\n",
       "      <td>33</td>\n",
       "    </tr>\n",
       "    <tr>\n",
       "      <th>22556</th>\n",
       "      <td>2011-01-01</td>\n",
       "      <td>Massachusetts</td>\n",
       "      <td>MA-516</td>\n",
       "      <td>Massachusetts Balance of State</td>\n",
       "      <td>Unsheltered Chronically Homeless</td>\n",
       "      <td>13</td>\n",
       "    </tr>\n",
       "    <tr>\n",
       "      <th>58601</th>\n",
       "      <td>2015-01-01</td>\n",
       "      <td>Kansas</td>\n",
       "      <td>KS-507</td>\n",
       "      <td>Kansas Balance of State CoC</td>\n",
       "      <td>Chronically Homeless Individuals</td>\n",
       "      <td>129</td>\n",
       "    </tr>\n",
       "  </tbody>\n",
       "</table>\n",
       "</div>"
      ],
      "text/plain": [
       "             Year          State CoC Number                        CoC Name  \\\n",
       "41745  2013-01-01       New York     NY-512      Troy/Rensselaer County CoC   \n",
       "21552  2011-01-01       Illinois     IL-504              Madison County CoC   \n",
       "64358  2015-01-01       New York     NY-510      Ithaca/Tompkins County CoC   \n",
       "22556  2011-01-01  Massachusetts     MA-516  Massachusetts Balance of State   \n",
       "58601  2015-01-01         Kansas     KS-507     Kansas Balance of State CoC   \n",
       "\n",
       "                               Measures  Count  \n",
       "41745                Sheltered Homeless    142  \n",
       "21552  Unsheltered Homeless Individuals     42  \n",
       "64358       Homeless People in Families     33  \n",
       "22556  Unsheltered Chronically Homeless     13  \n",
       "58601  Chronically Homeless Individuals    129  "
      ]
     },
     "execution_count": 347,
     "metadata": {},
     "output_type": "execute_result"
    }
   ],
   "source": [
    "df2.sample(5)"
   ]
  },
  {
   "cell_type": "code",
   "execution_count": 349,
   "metadata": {},
   "outputs": [
    {
     "data": {
      "text/plain": [
       "54"
      ]
     },
     "execution_count": 349,
     "metadata": {},
     "output_type": "execute_result"
    }
   ],
   "source": [
    "df2['State'].nunique()"
   ]
  },
  {
   "cell_type": "code",
   "execution_count": 350,
   "metadata": {},
   "outputs": [
    {
     "data": {
      "text/plain": [
       "52"
      ]
     },
     "execution_count": 350,
     "metadata": {},
     "output_type": "execute_result"
    }
   ],
   "source": [
    "df['State']. nunique()"
   ]
  },
  {
   "cell_type": "code",
   "execution_count": 351,
   "metadata": {},
   "outputs": [
    {
     "data": {
      "text/plain": [
       "0"
      ]
     },
     "execution_count": 351,
     "metadata": {},
     "output_type": "execute_result"
    }
   ],
   "source": [
    "df.duplicated(). sum()"
   ]
  },
  {
   "cell_type": "code",
   "execution_count": 352,
   "metadata": {},
   "outputs": [
    {
     "data": {
      "text/plain": [
       "0"
      ]
     },
     "execution_count": 352,
     "metadata": {},
     "output_type": "execute_result"
    }
   ],
   "source": [
    "df2.duplicated(). sum()"
   ]
  },
  {
   "cell_type": "markdown",
   "metadata": {},
   "source": [
    "I have 2 more issues for the seek of combine \n",
    "> \n",
    "1- The state is in df2 in capital and in df is small. Must change to capital \n",
    "2- There is 2 more \"State\" in df2. "
   ]
  },
  {
   "cell_type": "code",
   "execution_count": 354,
   "metadata": {},
   "outputs": [],
   "source": [
    "df.rename(columns={'state': 'State'}, inplace=True)\n"
   ]
  },
  {
   "cell_type": "code",
   "execution_count": 355,
   "metadata": {},
   "outputs": [
    {
     "data": {
      "text/html": [
       "<div>\n",
       "<style scoped>\n",
       "    .dataframe tbody tr th:only-of-type {\n",
       "        vertical-align: middle;\n",
       "    }\n",
       "\n",
       "    .dataframe tbody tr th {\n",
       "        vertical-align: top;\n",
       "    }\n",
       "\n",
       "    .dataframe thead th {\n",
       "        text-align: right;\n",
       "    }\n",
       "</style>\n",
       "<table border=\"1\" class=\"dataframe\">\n",
       "  <thead>\n",
       "    <tr style=\"text-align: right;\">\n",
       "      <th></th>\n",
       "      <th>brokered_by</th>\n",
       "      <th>status</th>\n",
       "      <th>price</th>\n",
       "      <th>bed</th>\n",
       "      <th>bath</th>\n",
       "      <th>acre_lot</th>\n",
       "      <th>street</th>\n",
       "      <th>city</th>\n",
       "      <th>State</th>\n",
       "      <th>zip_code</th>\n",
       "      <th>house_size</th>\n",
       "      <th>Year</th>\n",
       "    </tr>\n",
       "  </thead>\n",
       "  <tbody>\n",
       "    <tr>\n",
       "      <th>2270</th>\n",
       "      <td>94933.0</td>\n",
       "      <td>for_sale</td>\n",
       "      <td>950000.0</td>\n",
       "      <td>5.0</td>\n",
       "      <td>4.0</td>\n",
       "      <td>0.99</td>\n",
       "      <td>1260473.0</td>\n",
       "      <td>Saint Thomas</td>\n",
       "      <td>Virgin Islands</td>\n",
       "      <td>802.0</td>\n",
       "      <td>5000.0</td>\n",
       "      <td>2013-10-11</td>\n",
       "    </tr>\n",
       "    <tr>\n",
       "      <th>2493</th>\n",
       "      <td>22968.0</td>\n",
       "      <td>for_sale</td>\n",
       "      <td>79500.0</td>\n",
       "      <td>NaN</td>\n",
       "      <td>NaN</td>\n",
       "      <td>0.76</td>\n",
       "      <td>765975.0</td>\n",
       "      <td>Christiansted</td>\n",
       "      <td>Virgin Islands</td>\n",
       "      <td>820.0</td>\n",
       "      <td>NaN</td>\n",
       "      <td>2016-04-28</td>\n",
       "    </tr>\n",
       "    <tr>\n",
       "      <th>2555</th>\n",
       "      <td>34543.0</td>\n",
       "      <td>for_sale</td>\n",
       "      <td>176500.0</td>\n",
       "      <td>NaN</td>\n",
       "      <td>NaN</td>\n",
       "      <td>0.50</td>\n",
       "      <td>917409.0</td>\n",
       "      <td>Christiansted</td>\n",
       "      <td>Virgin Islands</td>\n",
       "      <td>820.0</td>\n",
       "      <td>NaN</td>\n",
       "      <td>2016-11-16</td>\n",
       "    </tr>\n",
       "    <tr>\n",
       "      <th>3062</th>\n",
       "      <td>22968.0</td>\n",
       "      <td>for_sale</td>\n",
       "      <td>129000.0</td>\n",
       "      <td>NaN</td>\n",
       "      <td>NaN</td>\n",
       "      <td>6.30</td>\n",
       "      <td>739696.0</td>\n",
       "      <td>Frederiksted</td>\n",
       "      <td>Virgin Islands</td>\n",
       "      <td>840.0</td>\n",
       "      <td>NaN</td>\n",
       "      <td>2010-01-26</td>\n",
       "    </tr>\n",
       "    <tr>\n",
       "      <th>3409</th>\n",
       "      <td>21163.0</td>\n",
       "      <td>for_sale</td>\n",
       "      <td>525000.0</td>\n",
       "      <td>3.0</td>\n",
       "      <td>3.0</td>\n",
       "      <td>0.45</td>\n",
       "      <td>1813270.0</td>\n",
       "      <td>Agawam</td>\n",
       "      <td>Massachusetts</td>\n",
       "      <td>1001.0</td>\n",
       "      <td>2314.0</td>\n",
       "      <td>2014-06-25</td>\n",
       "    </tr>\n",
       "  </tbody>\n",
       "</table>\n",
       "</div>"
      ],
      "text/plain": [
       "      brokered_by    status     price  bed  bath  acre_lot     street  \\\n",
       "2270      94933.0  for_sale  950000.0  5.0   4.0      0.99  1260473.0   \n",
       "2493      22968.0  for_sale   79500.0  NaN   NaN      0.76   765975.0   \n",
       "2555      34543.0  for_sale  176500.0  NaN   NaN      0.50   917409.0   \n",
       "3062      22968.0  for_sale  129000.0  NaN   NaN      6.30   739696.0   \n",
       "3409      21163.0  for_sale  525000.0  3.0   3.0      0.45  1813270.0   \n",
       "\n",
       "               city           State  zip_code  house_size        Year  \n",
       "2270   Saint Thomas  Virgin Islands     802.0      5000.0  2013-10-11  \n",
       "2493  Christiansted  Virgin Islands     820.0         NaN  2016-04-28  \n",
       "2555  Christiansted  Virgin Islands     820.0         NaN  2016-11-16  \n",
       "3062   Frederiksted  Virgin Islands     840.0         NaN  2010-01-26  \n",
       "3409         Agawam   Massachusetts    1001.0      2314.0  2014-06-25  "
      ]
     },
     "execution_count": 355,
     "metadata": {},
     "output_type": "execute_result"
    }
   ],
   "source": [
    "df.head()"
   ]
  },
  {
   "cell_type": "code",
   "execution_count": 356,
   "metadata": {},
   "outputs": [
    {
     "name": "stdout",
     "output_type": "stream",
     "text": [
      "States in df2 but not in df:\n",
      "{'Puerto Rico', 'Guam'}\n",
      "\n",
      "States in df but not in df2:\n",
      "set()\n"
     ]
    }
   ],
   "source": [
    "\n",
    "# Get the unique states in both DataFrames\n",
    "unique_states_df = set(df['State'].unique())\n",
    "unique_states_df2 = set(df2['State'].unique())\n",
    "\n",
    "# Find states that are in df2 but not in df\n",
    "states_in_df2_not_in_df = unique_states_df2 - unique_states_df\n",
    "\n",
    "# Find states that are in df but not in df2\n",
    "states_in_df_not_in_df2 = unique_states_df - unique_states_df2\n",
    "\n",
    "print(\"States in df2 but not in df:\")\n",
    "print(states_in_df2_not_in_df)\n",
    "\n",
    "print(\"\\nStates in df but not in df2:\")\n",
    "print(states_in_df_not_in_df2)\n",
    "\n",
    "\n"
   ]
  },
  {
   "cell_type": "markdown",
   "metadata": {},
   "source": [
    "#### So, I must drop States in df2 but not in df: \n",
    "{'Puerto Rico', 'Guam' \n",
    "\n",
    "- Now, I want to check the year column for tidiness purposes. I have noticed that the entries of the Year column are not tidy in df but they are tidy in df2.}"
   ]
  },
  {
   "cell_type": "markdown",
   "metadata": {},
   "source": [
    "df =df.sort_values(by='Year').reset_index(drop=True)"
   ]
  },
  {
   "cell_type": "code",
   "execution_count": 366,
   "metadata": {},
   "outputs": [
    {
     "data": {
      "text/html": [
       "<div>\n",
       "<style scoped>\n",
       "    .dataframe tbody tr th:only-of-type {\n",
       "        vertical-align: middle;\n",
       "    }\n",
       "\n",
       "    .dataframe tbody tr th {\n",
       "        vertical-align: top;\n",
       "    }\n",
       "\n",
       "    .dataframe thead th {\n",
       "        text-align: right;\n",
       "    }\n",
       "</style>\n",
       "<table border=\"1\" class=\"dataframe\">\n",
       "  <thead>\n",
       "    <tr style=\"text-align: right;\">\n",
       "      <th></th>\n",
       "      <th>brokered_by</th>\n",
       "      <th>status</th>\n",
       "      <th>price</th>\n",
       "      <th>bed</th>\n",
       "      <th>bath</th>\n",
       "      <th>acre_lot</th>\n",
       "      <th>street</th>\n",
       "      <th>city</th>\n",
       "      <th>State</th>\n",
       "      <th>zip_code</th>\n",
       "      <th>house_size</th>\n",
       "      <th>Year</th>\n",
       "    </tr>\n",
       "  </thead>\n",
       "  <tbody>\n",
       "    <tr>\n",
       "      <th>2270</th>\n",
       "      <td>94933.0</td>\n",
       "      <td>for_sale</td>\n",
       "      <td>950000.0</td>\n",
       "      <td>5.0</td>\n",
       "      <td>4.0</td>\n",
       "      <td>0.99</td>\n",
       "      <td>1260473.0</td>\n",
       "      <td>Saint Thomas</td>\n",
       "      <td>Virgin Islands</td>\n",
       "      <td>802.0</td>\n",
       "      <td>5000.0</td>\n",
       "      <td>2013-10-11</td>\n",
       "    </tr>\n",
       "    <tr>\n",
       "      <th>2493</th>\n",
       "      <td>22968.0</td>\n",
       "      <td>for_sale</td>\n",
       "      <td>79500.0</td>\n",
       "      <td>NaN</td>\n",
       "      <td>NaN</td>\n",
       "      <td>0.76</td>\n",
       "      <td>765975.0</td>\n",
       "      <td>Christiansted</td>\n",
       "      <td>Virgin Islands</td>\n",
       "      <td>820.0</td>\n",
       "      <td>NaN</td>\n",
       "      <td>2016-04-28</td>\n",
       "    </tr>\n",
       "    <tr>\n",
       "      <th>2555</th>\n",
       "      <td>34543.0</td>\n",
       "      <td>for_sale</td>\n",
       "      <td>176500.0</td>\n",
       "      <td>NaN</td>\n",
       "      <td>NaN</td>\n",
       "      <td>0.50</td>\n",
       "      <td>917409.0</td>\n",
       "      <td>Christiansted</td>\n",
       "      <td>Virgin Islands</td>\n",
       "      <td>820.0</td>\n",
       "      <td>NaN</td>\n",
       "      <td>2016-11-16</td>\n",
       "    </tr>\n",
       "    <tr>\n",
       "      <th>3062</th>\n",
       "      <td>22968.0</td>\n",
       "      <td>for_sale</td>\n",
       "      <td>129000.0</td>\n",
       "      <td>NaN</td>\n",
       "      <td>NaN</td>\n",
       "      <td>6.30</td>\n",
       "      <td>739696.0</td>\n",
       "      <td>Frederiksted</td>\n",
       "      <td>Virgin Islands</td>\n",
       "      <td>840.0</td>\n",
       "      <td>NaN</td>\n",
       "      <td>2010-01-26</td>\n",
       "    </tr>\n",
       "    <tr>\n",
       "      <th>3409</th>\n",
       "      <td>21163.0</td>\n",
       "      <td>for_sale</td>\n",
       "      <td>525000.0</td>\n",
       "      <td>3.0</td>\n",
       "      <td>3.0</td>\n",
       "      <td>0.45</td>\n",
       "      <td>1813270.0</td>\n",
       "      <td>Agawam</td>\n",
       "      <td>Massachusetts</td>\n",
       "      <td>1001.0</td>\n",
       "      <td>2314.0</td>\n",
       "      <td>2014-06-25</td>\n",
       "    </tr>\n",
       "  </tbody>\n",
       "</table>\n",
       "</div>"
      ],
      "text/plain": [
       "      brokered_by    status     price  bed  bath  acre_lot     street  \\\n",
       "2270      94933.0  for_sale  950000.0  5.0   4.0      0.99  1260473.0   \n",
       "2493      22968.0  for_sale   79500.0  NaN   NaN      0.76   765975.0   \n",
       "2555      34543.0  for_sale  176500.0  NaN   NaN      0.50   917409.0   \n",
       "3062      22968.0  for_sale  129000.0  NaN   NaN      6.30   739696.0   \n",
       "3409      21163.0  for_sale  525000.0  3.0   3.0      0.45  1813270.0   \n",
       "\n",
       "               city           State  zip_code  house_size        Year  \n",
       "2270   Saint Thomas  Virgin Islands     802.0      5000.0  2013-10-11  \n",
       "2493  Christiansted  Virgin Islands     820.0         NaN  2016-04-28  \n",
       "2555  Christiansted  Virgin Islands     820.0         NaN  2016-11-16  \n",
       "3062   Frederiksted  Virgin Islands     840.0         NaN  2010-01-26  \n",
       "3409         Agawam   Massachusetts    1001.0      2314.0  2014-06-25  "
      ]
     },
     "execution_count": 366,
     "metadata": {},
     "output_type": "execute_result"
    }
   ],
   "source": [
    "df.head(5)"
   ]
  },
  {
   "cell_type": "code",
   "execution_count": 368,
   "metadata": {},
   "outputs": [
    {
     "data": {
      "text/html": [
       "<div>\n",
       "<style scoped>\n",
       "    .dataframe tbody tr th:only-of-type {\n",
       "        vertical-align: middle;\n",
       "    }\n",
       "\n",
       "    .dataframe tbody tr th {\n",
       "        vertical-align: top;\n",
       "    }\n",
       "\n",
       "    .dataframe thead th {\n",
       "        text-align: right;\n",
       "    }\n",
       "</style>\n",
       "<table border=\"1\" class=\"dataframe\">\n",
       "  <thead>\n",
       "    <tr style=\"text-align: right;\">\n",
       "      <th></th>\n",
       "      <th>Year</th>\n",
       "      <th>State</th>\n",
       "      <th>CoC Number</th>\n",
       "      <th>CoC Name</th>\n",
       "      <th>Measures</th>\n",
       "      <th>Count</th>\n",
       "    </tr>\n",
       "  </thead>\n",
       "  <tbody>\n",
       "    <tr>\n",
       "      <th>5138</th>\n",
       "      <td>2008-01-01</td>\n",
       "      <td>California</td>\n",
       "      <td>CA-507</td>\n",
       "      <td>Marin County CoC</td>\n",
       "      <td>Homeless People in Families</td>\n",
       "      <td>156</td>\n",
       "    </tr>\n",
       "    <tr>\n",
       "      <th>4892</th>\n",
       "      <td>2008-01-01</td>\n",
       "      <td>Alabama</td>\n",
       "      <td>AL-503</td>\n",
       "      <td>Huntsville/North Alabama CoC</td>\n",
       "      <td>Unsheltered Chronically Homeless Individuals</td>\n",
       "      <td>77</td>\n",
       "    </tr>\n",
       "    <tr>\n",
       "      <th>21543</th>\n",
       "      <td>2011-01-01</td>\n",
       "      <td>Illinois</td>\n",
       "      <td>IL-504</td>\n",
       "      <td>Madison County CoC</td>\n",
       "      <td>Sheltered Homeless</td>\n",
       "      <td>207</td>\n",
       "    </tr>\n",
       "    <tr>\n",
       "      <th>2817</th>\n",
       "      <td>2007-01-01</td>\n",
       "      <td>North Carolina</td>\n",
       "      <td>NC-505</td>\n",
       "      <td>Charlotte/Mecklenberg CoC</td>\n",
       "      <td>Unsheltered Homeless</td>\n",
       "      <td>328</td>\n",
       "    </tr>\n",
       "    <tr>\n",
       "      <th>78046</th>\n",
       "      <td>2016-01-01</td>\n",
       "      <td>Michigan</td>\n",
       "      <td>MI-513</td>\n",
       "      <td>Marquette, Alger Counties CoC</td>\n",
       "      <td>Chronically Homeless</td>\n",
       "      <td>1</td>\n",
       "    </tr>\n",
       "  </tbody>\n",
       "</table>\n",
       "</div>"
      ],
      "text/plain": [
       "             Year           State CoC Number                       CoC Name  \\\n",
       "5138   2008-01-01      California     CA-507               Marin County CoC   \n",
       "4892   2008-01-01         Alabama     AL-503   Huntsville/North Alabama CoC   \n",
       "21543  2011-01-01        Illinois     IL-504             Madison County CoC   \n",
       "2817   2007-01-01  North Carolina     NC-505      Charlotte/Mecklenberg CoC   \n",
       "78046  2016-01-01        Michigan     MI-513  Marquette, Alger Counties CoC   \n",
       "\n",
       "                                           Measures  Count  \n",
       "5138                    Homeless People in Families    156  \n",
       "4892   Unsheltered Chronically Homeless Individuals     77  \n",
       "21543                            Sheltered Homeless    207  \n",
       "2817                           Unsheltered Homeless    328  \n",
       "78046                          Chronically Homeless      1  "
      ]
     },
     "execution_count": 368,
     "metadata": {},
     "output_type": "execute_result"
    }
   ],
   "source": [
    "df2.sample(5)"
   ]
  },
  {
   "cell_type": "markdown",
   "metadata": {},
   "source": [
    "# Measures \n",
    "*I have 42 kinds about Homeless people, So I will make them in 2 categories*\n",
    "\n",
    "1- Sheltered \n",
    "2- Unsheltered.\n",
    "However, I Still will have ['Chronically Homeless'] and ['Total Homeless'] not recognized. I will consider \"Chronically Homeless\" as Unsheltered Homeless Because \"Chronically\" must mean that. \n",
    "And, Total homeless means both sheltered and unsheltered I will consider the number in both sheltered and unsheltered. \n"
   ]
  },
  {
   "cell_type": "code",
   "execution_count": 371,
   "metadata": {},
   "outputs": [
    {
     "name": "stdout",
     "output_type": "stream",
     "text": [
      "             Year    State CoC Number               CoC Name  \\\n",
      "0      2007-01-01   Alaska     AK-500          Anchorage CoC   \n",
      "1      2007-01-01   Alaska     AK-500          Anchorage CoC   \n",
      "2      2007-01-01   Alaska     AK-500          Anchorage CoC   \n",
      "3      2007-01-01   Alaska     AK-500          Anchorage CoC   \n",
      "4      2007-01-01   Alaska     AK-500          Anchorage CoC   \n",
      "...           ...      ...        ...                    ...   \n",
      "86524  2016-01-01  Wyoming     WY-500  Wyoming Statewide CoC   \n",
      "86525  2016-01-01  Wyoming     WY-500  Wyoming Statewide CoC   \n",
      "86526  2016-01-01  Wyoming     WY-500  Wyoming Statewide CoC   \n",
      "86527  2016-01-01  Wyoming     WY-500  Wyoming Statewide CoC   \n",
      "86528  2016-01-01  Wyoming     WY-500  Wyoming Statewide CoC   \n",
      "\n",
      "                                                Measures  Count  Sheltered  \\\n",
      "0                       Chronically Homeless Individuals    224       True   \n",
      "1                                   Homeless Individuals    696      False   \n",
      "2                            Homeless People in Families    278       True   \n",
      "3             Sheltered Chronically Homeless Individuals    187       True   \n",
      "4                                     Sheltered Homeless    842       True   \n",
      "...                                                  ...    ...        ...   \n",
      "86524  Unsheltered Homeless Unaccompanied Youth (Unde...      7      False   \n",
      "86525                      Unsheltered Homeless Veterans     31      False   \n",
      "86526             Unsheltered Parenting Youth (Under 25)      3       True   \n",
      "86527              Unsheltered Parenting Youth Age 18-24      3       True   \n",
      "86528               Unsheltered Parenting Youth Under 18      0       True   \n",
      "\n",
      "       Unsheltered  \n",
      "0             True  \n",
      "1             True  \n",
      "2            False  \n",
      "3             True  \n",
      "4            False  \n",
      "...            ...  \n",
      "86524         True  \n",
      "86525         True  \n",
      "86526         True  \n",
      "86527         True  \n",
      "86528         True  \n",
      "\n",
      "[86529 rows x 8 columns]\n"
     ]
    }
   ],
   "source": [
    "# Define keywords for categorization\n",
    "sheltered_keywords = ['Sheltered', 'Parenting Youth', 'Chronically Homeless', 'Total Homeless', 'Homeless People in Families'] \n",
    "unsheltered_keywords = ['Unsheltered', 'Chronically Homeless', 'Homeless Unaccompanied', 'Total Homeless', 'Homeless Individuals']\n",
    "\n",
    "# Categorize measures into 'Sheltered' and 'Unsheltered'\n",
    "df2.loc[:, 'Sheltered'] = df2['Measures'].apply(lambda x: any(keyword in x for keyword in sheltered_keywords))\n",
    "df2.loc[:, 'Unsheltered'] = df2['Measures'].apply(lambda x: any(keyword in x for keyword in unsheltered_keywords))\n",
    "\n",
    "\n",
    "# Display DataFrame\n",
    "print(df2)"
   ]
  },
  {
   "cell_type": "code",
   "execution_count": 373,
   "metadata": {},
   "outputs": [
    {
     "data": {
      "text/plain": [
       "Index(['Year', 'State', 'CoC Number', 'CoC Name', 'Measures', 'Count',\n",
       "       'Sheltered', 'Unsheltered'],\n",
       "      dtype='object')"
      ]
     },
     "execution_count": 373,
     "metadata": {},
     "output_type": "execute_result"
    }
   ],
   "source": [
    "df2.columns"
   ]
  },
  {
   "cell_type": "markdown",
   "metadata": {},
   "source": [
    "I have To drop Measures, After I make a copy.\n",
    "**Drop the 'Measures' column**\n",
    "df2 = df2.drop(columns=['Measures'])"
   ]
  },
  {
   "cell_type": "markdown",
   "metadata": {},
   "source": [
    "### **Remove unnecessary variables and combine datasets**\n",
    "\n",
    "Depending on the datasets, you can also peform the combination before the cleaning steps."
   ]
  },
  {
   "cell_type": "code",
   "execution_count": 377,
   "metadata": {},
   "outputs": [],
   "source": [
    "#FILL IN - Remove unnecessary variables and combine datasets\n",
    "# necessary_columnsdf = df['Price', 'State', 'Year']\n",
    "# necessary_columnsdf2 = df2['State', 'Year', 'Measures', 'counts']\n",
    "\n",
    "df  = df.drop(columns = ['brokered_by','bed', 'bath', 'acre_lot', 'street',\n",
    "       'city', 'zip_code', 'house_size'])\n",
    "df2 = df2.drop(columns= ['CoC Number', 'CoC Name', 'Measures'])\n",
    "\n",
    "\n",
    "\n"
   ]
  },
  {
   "cell_type": "markdown",
   "metadata": {},
   "source": [
    "Check"
   ]
  },
  {
   "cell_type": "code",
   "execution_count": 380,
   "metadata": {},
   "outputs": [
    {
     "data": {
      "text/html": [
       "<div>\n",
       "<style scoped>\n",
       "    .dataframe tbody tr th:only-of-type {\n",
       "        vertical-align: middle;\n",
       "    }\n",
       "\n",
       "    .dataframe tbody tr th {\n",
       "        vertical-align: top;\n",
       "    }\n",
       "\n",
       "    .dataframe thead th {\n",
       "        text-align: right;\n",
       "    }\n",
       "</style>\n",
       "<table border=\"1\" class=\"dataframe\">\n",
       "  <thead>\n",
       "    <tr style=\"text-align: right;\">\n",
       "      <th></th>\n",
       "      <th>status</th>\n",
       "      <th>price</th>\n",
       "      <th>State</th>\n",
       "      <th>Year</th>\n",
       "    </tr>\n",
       "  </thead>\n",
       "  <tbody>\n",
       "    <tr>\n",
       "      <th>2270</th>\n",
       "      <td>for_sale</td>\n",
       "      <td>950000.0</td>\n",
       "      <td>Virgin Islands</td>\n",
       "      <td>2013-10-11</td>\n",
       "    </tr>\n",
       "    <tr>\n",
       "      <th>2493</th>\n",
       "      <td>for_sale</td>\n",
       "      <td>79500.0</td>\n",
       "      <td>Virgin Islands</td>\n",
       "      <td>2016-04-28</td>\n",
       "    </tr>\n",
       "  </tbody>\n",
       "</table>\n",
       "</div>"
      ],
      "text/plain": [
       "        status     price           State        Year\n",
       "2270  for_sale  950000.0  Virgin Islands  2013-10-11\n",
       "2493  for_sale   79500.0  Virgin Islands  2016-04-28"
      ]
     },
     "execution_count": 380,
     "metadata": {},
     "output_type": "execute_result"
    }
   ],
   "source": [
    "df.head(2)"
   ]
  },
  {
   "cell_type": "code",
   "execution_count": 382,
   "metadata": {},
   "outputs": [
    {
     "data": {
      "text/html": [
       "<div>\n",
       "<style scoped>\n",
       "    .dataframe tbody tr th:only-of-type {\n",
       "        vertical-align: middle;\n",
       "    }\n",
       "\n",
       "    .dataframe tbody tr th {\n",
       "        vertical-align: top;\n",
       "    }\n",
       "\n",
       "    .dataframe thead th {\n",
       "        text-align: right;\n",
       "    }\n",
       "</style>\n",
       "<table border=\"1\" class=\"dataframe\">\n",
       "  <thead>\n",
       "    <tr style=\"text-align: right;\">\n",
       "      <th></th>\n",
       "      <th>Year</th>\n",
       "      <th>State</th>\n",
       "      <th>Count</th>\n",
       "      <th>Sheltered</th>\n",
       "      <th>Unsheltered</th>\n",
       "    </tr>\n",
       "  </thead>\n",
       "  <tbody>\n",
       "    <tr>\n",
       "      <th>0</th>\n",
       "      <td>2007-01-01</td>\n",
       "      <td>Alaska</td>\n",
       "      <td>224</td>\n",
       "      <td>True</td>\n",
       "      <td>True</td>\n",
       "    </tr>\n",
       "    <tr>\n",
       "      <th>1</th>\n",
       "      <td>2007-01-01</td>\n",
       "      <td>Alaska</td>\n",
       "      <td>696</td>\n",
       "      <td>False</td>\n",
       "      <td>True</td>\n",
       "    </tr>\n",
       "  </tbody>\n",
       "</table>\n",
       "</div>"
      ],
      "text/plain": [
       "         Year   State  Count  Sheltered  Unsheltered\n",
       "0  2007-01-01  Alaska    224       True         True\n",
       "1  2007-01-01  Alaska    696      False         True"
      ]
     },
     "execution_count": 382,
     "metadata": {},
     "output_type": "execute_result"
    }
   ],
   "source": [
    "df2.head(2)"
   ]
  },
  {
   "cell_type": "code",
   "execution_count": 384,
   "metadata": {},
   "outputs": [
    {
     "data": {
      "text/plain": [
       "Index(['Year', 'State', 'Count', 'Sheltered', 'Unsheltered'], dtype='object')"
      ]
     },
     "execution_count": 384,
     "metadata": {},
     "output_type": "execute_result"
    }
   ],
   "source": [
    "df2.columns"
   ]
  },
  {
   "cell_type": "code",
   "execution_count": 386,
   "metadata": {},
   "outputs": [
    {
     "data": {
      "text/plain": [
       "Index(['status', 'price', 'State', 'Year'], dtype='object')"
      ]
     },
     "execution_count": 386,
     "metadata": {},
     "output_type": "execute_result"
    }
   ],
   "source": [
    "df.columns"
   ]
  },
  {
   "cell_type": "code",
   "execution_count": 388,
   "metadata": {},
   "outputs": [
    {
     "data": {
      "text/plain": [
       "array([950000.,  79500., 176500., ..., 516900., 462999., 353333.])"
      ]
     },
     "execution_count": 388,
     "metadata": {},
     "output_type": "execute_result"
    }
   ],
   "source": [
    "df['price'].unique()"
   ]
  },
  {
   "cell_type": "code",
   "execution_count": 390,
   "metadata": {},
   "outputs": [],
   "source": [
    "df = df.drop(columns= ['status'])"
   ]
  },
  {
   "cell_type": "code",
   "execution_count": 392,
   "metadata": {},
   "outputs": [
    {
     "name": "stdout",
     "output_type": "stream",
     "text": [
      "<class 'pandas.core.frame.DataFrame'>\n",
      "RangeIndex: 86529 entries, 0 to 86528\n",
      "Data columns (total 5 columns):\n",
      " #   Column       Non-Null Count  Dtype \n",
      "---  ------       --------------  ----- \n",
      " 0   Year         86529 non-null  object\n",
      " 1   State        86529 non-null  object\n",
      " 2   Count        86529 non-null  int32 \n",
      " 3   Sheltered    86529 non-null  bool  \n",
      " 4   Unsheltered  86529 non-null  bool  \n",
      "dtypes: bool(2), int32(1), object(2)\n",
      "memory usage: 1.8+ MB\n"
     ]
    }
   ],
   "source": [
    "df2.info()"
   ]
  },
  {
   "cell_type": "code",
   "execution_count": 394,
   "metadata": {},
   "outputs": [
    {
     "name": "stdout",
     "output_type": "stream",
     "text": [
      "<class 'pandas.core.frame.DataFrame'>\n",
      "Index: 199269 entries, 2270 to 1414346\n",
      "Data columns (total 3 columns):\n",
      " #   Column  Non-Null Count   Dtype  \n",
      "---  ------  --------------   -----  \n",
      " 0   price   199269 non-null  float64\n",
      " 1   State   199269 non-null  object \n",
      " 2   Year    199269 non-null  object \n",
      "dtypes: float64(1), object(2)\n",
      "memory usage: 6.1+ MB\n"
     ]
    }
   ],
   "source": [
    "df.info()"
   ]
  },
  {
   "cell_type": "markdown",
   "metadata": {},
   "source": [
    "- So, I must drop States in df2 but not in df: \n",
    "{'Puerto Rico', 'Guam}'"
   ]
  },
  {
   "cell_type": "code",
   "execution_count": 401,
   "metadata": {},
   "outputs": [],
   "source": [
    "# States in df but not in df2\n",
    "states_to_drop = {'Puerto Rico', 'Guam'}\n",
    "\n",
    " # Drop rows in df2 where the state is in states_to_drop\n",
    "df2 = df2[~df2['State'].isin(states_to_drop)]"
   ]
  },
  {
   "cell_type": "code",
   "execution_count": 403,
   "metadata": {},
   "outputs": [
    {
     "name": "stdout",
     "output_type": "stream",
     "text": [
      "<class 'pandas.core.frame.DataFrame'>\n",
      "Index: 85881 entries, 0 to 86528\n",
      "Data columns (total 5 columns):\n",
      " #   Column       Non-Null Count  Dtype \n",
      "---  ------       --------------  ----- \n",
      " 0   Year         85881 non-null  object\n",
      " 1   State        85881 non-null  object\n",
      " 2   Count        85881 non-null  int32 \n",
      " 3   Sheltered    85881 non-null  bool  \n",
      " 4   Unsheltered  85881 non-null  bool  \n",
      "dtypes: bool(2), int32(1), object(2)\n",
      "memory usage: 2.5+ MB\n"
     ]
    }
   ],
   "source": [
    "df2.info()"
   ]
  },
  {
   "cell_type": "markdown",
   "metadata": {
    "id": "F42urHuzttjF"
   },
   "source": [
    "## 4. Update your data store\n",
    "Update your local database/data store with the cleaned data, following best practices for storing your cleaned data:\n",
    "\n",
    "- Must maintain different instances / versions of data (raw and cleaned data)\n",
    "- Must name the dataset files informatively\n",
    "- Ensure both the raw and cleaned data is saved to your database/data store"
   ]
  },
  {
   "cell_type": "markdown",
   "metadata": {},
   "source": [
    "# DF 2 - Homelessness in USA"
   ]
  },
  {
   "cell_type": "code",
   "execution_count": 407,
   "metadata": {},
   "outputs": [],
   "source": [
    "# Save raw data to CSV\n",
    "df2.to_csv('raw_homeless_data.csv', index=False)"
   ]
  },
  {
   "cell_type": "code",
   "execution_count": 409,
   "metadata": {},
   "outputs": [
    {
     "data": {
      "text/html": [
       "<div>\n",
       "<style scoped>\n",
       "    .dataframe tbody tr th:only-of-type {\n",
       "        vertical-align: middle;\n",
       "    }\n",
       "\n",
       "    .dataframe tbody tr th {\n",
       "        vertical-align: top;\n",
       "    }\n",
       "\n",
       "    .dataframe thead th {\n",
       "        text-align: right;\n",
       "    }\n",
       "</style>\n",
       "<table border=\"1\" class=\"dataframe\">\n",
       "  <thead>\n",
       "    <tr style=\"text-align: right;\">\n",
       "      <th></th>\n",
       "      <th>Year</th>\n",
       "      <th>State</th>\n",
       "      <th>Count</th>\n",
       "      <th>Sheltered</th>\n",
       "      <th>Unsheltered</th>\n",
       "    </tr>\n",
       "  </thead>\n",
       "  <tbody>\n",
       "    <tr>\n",
       "      <th>0</th>\n",
       "      <td>2007-01-01</td>\n",
       "      <td>Alaska</td>\n",
       "      <td>224</td>\n",
       "      <td>True</td>\n",
       "      <td>True</td>\n",
       "    </tr>\n",
       "    <tr>\n",
       "      <th>1</th>\n",
       "      <td>2007-01-01</td>\n",
       "      <td>Alaska</td>\n",
       "      <td>696</td>\n",
       "      <td>False</td>\n",
       "      <td>True</td>\n",
       "    </tr>\n",
       "    <tr>\n",
       "      <th>2</th>\n",
       "      <td>2007-01-01</td>\n",
       "      <td>Alaska</td>\n",
       "      <td>278</td>\n",
       "      <td>True</td>\n",
       "      <td>False</td>\n",
       "    </tr>\n",
       "    <tr>\n",
       "      <th>3</th>\n",
       "      <td>2007-01-01</td>\n",
       "      <td>Alaska</td>\n",
       "      <td>187</td>\n",
       "      <td>True</td>\n",
       "      <td>True</td>\n",
       "    </tr>\n",
       "    <tr>\n",
       "      <th>4</th>\n",
       "      <td>2007-01-01</td>\n",
       "      <td>Alaska</td>\n",
       "      <td>842</td>\n",
       "      <td>True</td>\n",
       "      <td>False</td>\n",
       "    </tr>\n",
       "  </tbody>\n",
       "</table>\n",
       "</div>"
      ],
      "text/plain": [
       "         Year   State  Count  Sheltered  Unsheltered\n",
       "0  2007-01-01  Alaska    224       True         True\n",
       "1  2007-01-01  Alaska    696      False         True\n",
       "2  2007-01-01  Alaska    278       True        False\n",
       "3  2007-01-01  Alaska    187       True         True\n",
       "4  2007-01-01  Alaska    842       True        False"
      ]
     },
     "execution_count": 409,
     "metadata": {},
     "output_type": "execute_result"
    }
   ],
   "source": [
    "df2.head()"
   ]
  },
  {
   "cell_type": "code",
   "execution_count": 413,
   "metadata": {},
   "outputs": [
    {
     "name": "stdout",
     "output_type": "stream",
     "text": [
      "<class 'pandas.core.frame.DataFrame'>\n",
      "Index: 85881 entries, 0 to 86528\n",
      "Data columns (total 5 columns):\n",
      " #   Column       Non-Null Count  Dtype \n",
      "---  ------       --------------  ----- \n",
      " 0   Year         85881 non-null  object\n",
      " 1   State        85881 non-null  object\n",
      " 2   Count        85881 non-null  int32 \n",
      " 3   Sheltered    85881 non-null  bool  \n",
      " 4   Unsheltered  85881 non-null  bool  \n",
      "dtypes: bool(2), int32(1), object(2)\n",
      "memory usage: 2.5+ MB\n"
     ]
    }
   ],
   "source": [
    "df2. info()"
   ]
  },
  {
   "cell_type": "code",
   "execution_count": 415,
   "metadata": {
    "id": "V3uay7EJUV_L"
   },
   "outputs": [
    {
     "name": "stdout",
     "output_type": "stream",
     "text": [
      "Raw and cleaned data have been saved to CSV files.\n"
     ]
    }
   ],
   "source": [
    "df2.to_csv('cleaned_homeless_data.csv', index=False)\n",
    "\n",
    "print(\"Raw and cleaned data have been saved to CSV files.\")\n"
   ]
  },
  {
   "cell_type": "markdown",
   "metadata": {},
   "source": [
    "# DF 1 : Real Estate in USA "
   ]
  },
  {
   "cell_type": "code",
   "execution_count": 418,
   "metadata": {},
   "outputs": [],
   "source": [
    "df.to_csv('cleaned_Houses_MArket_USA_data.csv', index=False)"
   ]
  },
  {
   "cell_type": "code",
   "execution_count": 422,
   "metadata": {},
   "outputs": [
    {
     "data": {
      "text/html": [
       "<div>\n",
       "<style scoped>\n",
       "    .dataframe tbody tr th:only-of-type {\n",
       "        vertical-align: middle;\n",
       "    }\n",
       "\n",
       "    .dataframe tbody tr th {\n",
       "        vertical-align: top;\n",
       "    }\n",
       "\n",
       "    .dataframe thead th {\n",
       "        text-align: right;\n",
       "    }\n",
       "</style>\n",
       "<table border=\"1\" class=\"dataframe\">\n",
       "  <thead>\n",
       "    <tr style=\"text-align: right;\">\n",
       "      <th></th>\n",
       "      <th>price</th>\n",
       "      <th>State</th>\n",
       "      <th>Year</th>\n",
       "    </tr>\n",
       "  </thead>\n",
       "  <tbody>\n",
       "    <tr>\n",
       "      <th>2270</th>\n",
       "      <td>950000.0</td>\n",
       "      <td>Virgin Islands</td>\n",
       "      <td>2013-10-11</td>\n",
       "    </tr>\n",
       "    <tr>\n",
       "      <th>2493</th>\n",
       "      <td>79500.0</td>\n",
       "      <td>Virgin Islands</td>\n",
       "      <td>2016-04-28</td>\n",
       "    </tr>\n",
       "    <tr>\n",
       "      <th>2555</th>\n",
       "      <td>176500.0</td>\n",
       "      <td>Virgin Islands</td>\n",
       "      <td>2016-11-16</td>\n",
       "    </tr>\n",
       "    <tr>\n",
       "      <th>3062</th>\n",
       "      <td>129000.0</td>\n",
       "      <td>Virgin Islands</td>\n",
       "      <td>2010-01-26</td>\n",
       "    </tr>\n",
       "    <tr>\n",
       "      <th>3409</th>\n",
       "      <td>525000.0</td>\n",
       "      <td>Massachusetts</td>\n",
       "      <td>2014-06-25</td>\n",
       "    </tr>\n",
       "  </tbody>\n",
       "</table>\n",
       "</div>"
      ],
      "text/plain": [
       "         price           State        Year\n",
       "2270  950000.0  Virgin Islands  2013-10-11\n",
       "2493   79500.0  Virgin Islands  2016-04-28\n",
       "2555  176500.0  Virgin Islands  2016-11-16\n",
       "3062  129000.0  Virgin Islands  2010-01-26\n",
       "3409  525000.0   Massachusetts  2014-06-25"
      ]
     },
     "execution_count": 422,
     "metadata": {},
     "output_type": "execute_result"
    }
   ],
   "source": [
    "df.head()"
   ]
  },
  {
   "cell_type": "markdown",
   "metadata": {},
   "source": [
    "- I should have reset the index before saving \n",
    "\n",
    "- the years changing it to dt.date,, meant anything ?  "
   ]
  },
  {
   "cell_type": "code",
   "execution_count": 426,
   "metadata": {},
   "outputs": [
    {
     "name": "stdout",
     "output_type": "stream",
     "text": [
      "<class 'pandas.core.frame.DataFrame'>\n",
      "Index: 199269 entries, 2270 to 1414346\n",
      "Data columns (total 3 columns):\n",
      " #   Column  Non-Null Count   Dtype  \n",
      "---  ------  --------------   -----  \n",
      " 0   price   199269 non-null  float64\n",
      " 1   State   199269 non-null  object \n",
      " 2   Year    199269 non-null  object \n",
      "dtypes: float64(1), object(2)\n",
      "memory usage: 6.1+ MB\n"
     ]
    }
   ],
   "source": [
    "df.info()"
   ]
  },
  {
   "cell_type": "code",
   "execution_count": 428,
   "metadata": {},
   "outputs": [],
   "source": [
    "df.loc[:, 'price'] = df['price'].astype(np.float32)"
   ]
  },
  {
   "cell_type": "markdown",
   "metadata": {},
   "source": [
    "the float didn't change from 64 to 32"
   ]
  },
  {
   "cell_type": "code",
   "execution_count": 431,
   "metadata": {},
   "outputs": [
    {
     "name": "stdout",
     "output_type": "stream",
     "text": [
      "<class 'pandas.core.frame.DataFrame'>\n",
      "Index: 199269 entries, 2270 to 1414346\n",
      "Data columns (total 3 columns):\n",
      " #   Column  Non-Null Count   Dtype  \n",
      "---  ------  --------------   -----  \n",
      " 0   price   199269 non-null  float64\n",
      " 1   State   199269 non-null  object \n",
      " 2   Year    199269 non-null  object \n",
      "dtypes: float64(1), object(2)\n",
      "memory usage: 6.1+ MB\n"
     ]
    }
   ],
   "source": [
    "df.info()"
   ]
  },
  {
   "cell_type": "code",
   "execution_count": 433,
   "metadata": {},
   "outputs": [
    {
     "name": "stdout",
     "output_type": "stream",
     "text": [
      "<class 'pandas.core.frame.DataFrame'>\n",
      "Index: 85881 entries, 0 to 86528\n",
      "Data columns (total 5 columns):\n",
      " #   Column       Non-Null Count  Dtype \n",
      "---  ------       --------------  ----- \n",
      " 0   Year         85881 non-null  object\n",
      " 1   State        85881 non-null  object\n",
      " 2   Count        85881 non-null  int32 \n",
      " 3   Sheltered    85881 non-null  bool  \n",
      " 4   Unsheltered  85881 non-null  bool  \n",
      "dtypes: bool(2), int32(1), object(2)\n",
      "memory usage: 2.5+ MB\n"
     ]
    }
   ],
   "source": [
    "df2.info()"
   ]
  },
  {
   "cell_type": "code",
   "execution_count": 439,
   "metadata": {},
   "outputs": [
    {
     "name": "stdout",
     "output_type": "stream",
     "text": [
      "<class 'pandas.core.frame.DataFrame'>\n",
      "Index: 85881 entries, 0 to 86528\n",
      "Data columns (total 5 columns):\n",
      " #   Column       Non-Null Count  Dtype \n",
      "---  ------       --------------  ----- \n",
      " 0   Year         85881 non-null  object\n",
      " 1   State        85881 non-null  object\n",
      " 2   Count        85881 non-null  int32 \n",
      " 3   Sheltered    85881 non-null  bool  \n",
      " 4   Unsheltered  85881 non-null  bool  \n",
      "dtypes: bool(2), int32(1), object(2)\n",
      "memory usage: 2.5+ MB\n"
     ]
    }
   ],
   "source": [
    "df2.info()"
   ]
  },
  {
   "cell_type": "code",
   "execution_count": 441,
   "metadata": {},
   "outputs": [
    {
     "name": "stdout",
     "output_type": "stream",
     "text": [
      "D:\\\n"
     ]
    }
   ],
   "source": [
    "# Change to the desired directory \n",
    "\n",
    "os.chdir('D:/')\n",
    "\n",
    "# Verify the change \n",
    "\n",
    "print(os.getcwd())"
   ]
  },
  {
   "cell_type": "code",
   "execution_count": 481,
   "metadata": {},
   "outputs": [
    {
     "data": {
      "text/plain": [
       "array(['Virgin Islands', 'Massachusetts', 'Connecticut', 'New Hampshire',\n",
       "       'Vermont', 'New York', 'Rhode Island', 'Maine', 'New Jersey',\n",
       "       'Pennsylvania', 'Delaware', 'Ohio', 'West Virginia', 'Maryland',\n",
       "       'Virginia', 'District of Columbia', 'North Carolina', 'Kentucky',\n",
       "       'Tennessee', 'South Carolina', 'Georgia', 'Alabama', 'Florida',\n",
       "       'Mississippi', 'Arkansas', 'Missouri', 'Louisiana', 'Indiana',\n",
       "       'Illinois', 'Michigan', 'Wisconsin', 'Iowa', 'Minnesota',\n",
       "       'South Dakota', 'Nebraska', 'North Dakota', 'Montana', 'Idaho',\n",
       "       'Kansas', 'Oklahoma', 'Colorado', 'Wyoming', 'Texas', 'New Mexico',\n",
       "       'Utah', 'Nevada', 'Washington', 'Oregon', 'Arizona', 'California',\n",
       "       'Hawaii', 'Alaska'], dtype=object)"
      ]
     },
     "execution_count": 481,
     "metadata": {},
     "output_type": "execute_result"
    }
   ],
   "source": [
    "df['State'].unique()"
   ]
  },
  {
   "cell_type": "code",
   "execution_count": 483,
   "metadata": {},
   "outputs": [
    {
     "data": {
      "text/plain": [
       "array(['Alaska', 'Alabama', 'Arkansas', 'Arizona', 'California',\n",
       "       'Colorado', 'Connecticut', 'District of Columbia', 'Delaware',\n",
       "       'Florida', 'Georgia', 'Hawaii', 'Iowa', 'Idaho', 'Illinois',\n",
       "       'Indiana', 'Kansas', 'Kentucky', 'Louisiana', 'Massachusetts',\n",
       "       'Maryland', 'Maine', 'Michigan', 'Minnesota', 'Missouri',\n",
       "       'Mississippi', 'Montana', 'North Carolina', 'North Dakota',\n",
       "       'Nebraska', 'New Hampshire', 'New Jersey', 'New Mexico', 'Nevada',\n",
       "       'New York', 'Ohio', 'Oklahoma', 'Oregon', 'Pennsylvania',\n",
       "       'Rhode Island', 'South Carolina', 'South Dakota', 'Tennessee',\n",
       "       'Texas', 'Utah', 'Virginia', 'Virgin Islands', 'Vermont',\n",
       "       'Washington', 'Wisconsin', 'West Virginia', 'Wyoming'],\n",
       "      dtype=object)"
      ]
     },
     "execution_count": 483,
     "metadata": {},
     "output_type": "execute_result"
    }
   ],
   "source": [
    "df2['State'].unique()"
   ]
  },
  {
   "cell_type": "markdown",
   "metadata": {},
   "source": [
    "## Tidiness Issue: "
   ]
  },
  {
   "cell_type": "code",
   "execution_count": 489,
   "metadata": {},
   "outputs": [
    {
     "name": "stdout",
     "output_type": "stream",
     "text": [
      "df Alphabetical order :\n",
      "            price    State        Year\n",
      "605064   249900.0  Alabama  2015-08-21\n",
      "419027   235000.0  Alabama  2008-03-10\n",
      "405560   449000.0  Alabama  2010-05-04\n",
      "418021   289900.0  Alabama  2007-08-30\n",
      "418015   299000.0  Alabama  2008-02-20\n",
      "...           ...      ...         ...\n",
      "1167783  299500.0  Wyoming  2015-06-08\n",
      "1167789  100000.0  Wyoming  2009-02-20\n",
      "1167790  139900.0  Wyoming  2010-10-22\n",
      "1165678  325000.0  Wyoming  2016-04-15\n",
      "1167111  845000.0  Wyoming  2015-07-08\n",
      "\n",
      "[199269 rows x 3 columns]\n",
      "\n",
      "df2 Alphabetical order:\n",
      "             Year    State  Count  Sheltered  Unsheltered\n",
      "44442  2014-01-01  Alabama     13      False         True\n",
      "9657   2009-01-01  Alabama     90      False         True\n",
      "9683   2009-01-01  Alabama     29       True         True\n",
      "9685   2009-01-01  Alabama    202      False         True\n",
      "19226  2011-01-01  Alabama      3       True         True\n",
      "...           ...      ...    ...        ...          ...\n",
      "44328  2013-01-01  Wyoming    501       True        False\n",
      "44329  2013-01-01  Wyoming    306       True         True\n",
      "44330  2013-01-01  Wyoming    195       True        False\n",
      "44319  2013-01-01  Wyoming    244       True         True\n",
      "86528  2016-01-01  Wyoming      0       True         True\n",
      "\n",
      "[85881 rows x 5 columns]\n"
     ]
    }
   ],
   "source": [
    "#Alphabetical order for both data to merge. DF > \n",
    "df.sort_values(by='State', ascending=True, inplace=True)\n",
    "\n",
    "# Alphabetical order for DF2\n",
    "df2.sort_values(by='State', ascending=True, inplace=True)\n",
    "\n",
    "print(\"df Alphabetical order :\")\n",
    "print(df)\n",
    "print(\"\\ndf2 Alphabetical order:\")\n",
    "print(df2)\n"
   ]
  },
  {
   "cell_type": "markdown",
   "metadata": {},
   "source": [
    "# Combine 2 datasets"
   ]
  },
  {
   "cell_type": "code",
   "execution_count": 492,
   "metadata": {},
   "outputs": [
    {
     "name": "stdout",
     "output_type": "stream",
     "text": [
      "<class 'pandas.core.frame.DataFrame'>\n",
      "<class 'pandas.core.frame.DataFrame'>\n"
     ]
    }
   ],
   "source": [
    "print(type(df))\n",
    "print(type(df2))\n"
   ]
  },
  {
   "cell_type": "code",
   "execution_count": 589,
   "metadata": {},
   "outputs": [],
   "source": [
    "merged_df = pd.merge(df, df2, on=['Year', 'State'], how= 'outer')\n"
   ]
  },
  {
   "cell_type": "code",
   "execution_count": 590,
   "metadata": {},
   "outputs": [
    {
     "data": {
      "text/html": [
       "<div>\n",
       "<style scoped>\n",
       "    .dataframe tbody tr th:only-of-type {\n",
       "        vertical-align: middle;\n",
       "    }\n",
       "\n",
       "    .dataframe tbody tr th {\n",
       "        vertical-align: top;\n",
       "    }\n",
       "\n",
       "    .dataframe thead th {\n",
       "        text-align: right;\n",
       "    }\n",
       "</style>\n",
       "<table border=\"1\" class=\"dataframe\">\n",
       "  <thead>\n",
       "    <tr style=\"text-align: right;\">\n",
       "      <th></th>\n",
       "      <th>price</th>\n",
       "      <th>State</th>\n",
       "      <th>Year</th>\n",
       "      <th>Count</th>\n",
       "      <th>Sheltered</th>\n",
       "      <th>Unsheltered</th>\n",
       "    </tr>\n",
       "  </thead>\n",
       "  <tbody>\n",
       "    <tr>\n",
       "      <th>0</th>\n",
       "      <td>249900.0</td>\n",
       "      <td>Alabama</td>\n",
       "      <td>2015-08-21</td>\n",
       "      <td>NaN</td>\n",
       "      <td>NaN</td>\n",
       "      <td>NaN</td>\n",
       "    </tr>\n",
       "    <tr>\n",
       "      <th>1</th>\n",
       "      <td>235000.0</td>\n",
       "      <td>Alabama</td>\n",
       "      <td>2008-03-10</td>\n",
       "      <td>NaN</td>\n",
       "      <td>NaN</td>\n",
       "      <td>NaN</td>\n",
       "    </tr>\n",
       "    <tr>\n",
       "      <th>2</th>\n",
       "      <td>79000.0</td>\n",
       "      <td>Alabama</td>\n",
       "      <td>2008-03-10</td>\n",
       "      <td>NaN</td>\n",
       "      <td>NaN</td>\n",
       "      <td>NaN</td>\n",
       "    </tr>\n",
       "    <tr>\n",
       "      <th>3</th>\n",
       "      <td>132500.0</td>\n",
       "      <td>Alabama</td>\n",
       "      <td>2008-03-10</td>\n",
       "      <td>NaN</td>\n",
       "      <td>NaN</td>\n",
       "      <td>NaN</td>\n",
       "    </tr>\n",
       "    <tr>\n",
       "      <th>4</th>\n",
       "      <td>449000.0</td>\n",
       "      <td>Alabama</td>\n",
       "      <td>2010-05-04</td>\n",
       "      <td>NaN</td>\n",
       "      <td>NaN</td>\n",
       "      <td>NaN</td>\n",
       "    </tr>\n",
       "    <tr>\n",
       "      <th>...</th>\n",
       "      <td>...</td>\n",
       "      <td>...</td>\n",
       "      <td>...</td>\n",
       "      <td>...</td>\n",
       "      <td>...</td>\n",
       "      <td>...</td>\n",
       "    </tr>\n",
       "    <tr>\n",
       "      <th>288692</th>\n",
       "      <td>NaN</td>\n",
       "      <td>Wyoming</td>\n",
       "      <td>2013-01-01</td>\n",
       "      <td>0.0</td>\n",
       "      <td>True</td>\n",
       "      <td>True</td>\n",
       "    </tr>\n",
       "    <tr>\n",
       "      <th>288693</th>\n",
       "      <td>NaN</td>\n",
       "      <td>Wyoming</td>\n",
       "      <td>2013-01-01</td>\n",
       "      <td>501.0</td>\n",
       "      <td>True</td>\n",
       "      <td>False</td>\n",
       "    </tr>\n",
       "    <tr>\n",
       "      <th>288694</th>\n",
       "      <td>NaN</td>\n",
       "      <td>Wyoming</td>\n",
       "      <td>2013-01-01</td>\n",
       "      <td>306.0</td>\n",
       "      <td>True</td>\n",
       "      <td>True</td>\n",
       "    </tr>\n",
       "    <tr>\n",
       "      <th>288695</th>\n",
       "      <td>NaN</td>\n",
       "      <td>Wyoming</td>\n",
       "      <td>2013-01-01</td>\n",
       "      <td>195.0</td>\n",
       "      <td>True</td>\n",
       "      <td>False</td>\n",
       "    </tr>\n",
       "    <tr>\n",
       "      <th>288696</th>\n",
       "      <td>NaN</td>\n",
       "      <td>Wyoming</td>\n",
       "      <td>2013-01-01</td>\n",
       "      <td>244.0</td>\n",
       "      <td>True</td>\n",
       "      <td>True</td>\n",
       "    </tr>\n",
       "  </tbody>\n",
       "</table>\n",
       "<p>288697 rows × 6 columns</p>\n",
       "</div>"
      ],
      "text/plain": [
       "           price    State        Year  Count Sheltered Unsheltered\n",
       "0       249900.0  Alabama  2015-08-21    NaN       NaN         NaN\n",
       "1       235000.0  Alabama  2008-03-10    NaN       NaN         NaN\n",
       "2        79000.0  Alabama  2008-03-10    NaN       NaN         NaN\n",
       "3       132500.0  Alabama  2008-03-10    NaN       NaN         NaN\n",
       "4       449000.0  Alabama  2010-05-04    NaN       NaN         NaN\n",
       "...          ...      ...         ...    ...       ...         ...\n",
       "288692       NaN  Wyoming  2013-01-01    0.0      True        True\n",
       "288693       NaN  Wyoming  2013-01-01  501.0      True       False\n",
       "288694       NaN  Wyoming  2013-01-01  306.0      True        True\n",
       "288695       NaN  Wyoming  2013-01-01  195.0      True       False\n",
       "288696       NaN  Wyoming  2013-01-01  244.0      True        True\n",
       "\n",
       "[288697 rows x 6 columns]"
      ]
     },
     "execution_count": 590,
     "metadata": {},
     "output_type": "execute_result"
    }
   ],
   "source": [
    "merged_df"
   ]
  },
  {
   "cell_type": "code",
   "execution_count": 607,
   "metadata": {},
   "outputs": [
    {
     "name": "stdout",
     "output_type": "stream",
     "text": [
      "DataFrame after filling missing prices with the mean price of each year:\n",
      "            price    State        Year\n",
      "605064   249900.0  Alabama  2015-08-21\n",
      "419027   235000.0  Alabama  2008-03-10\n",
      "405560   449000.0  Alabama  2010-05-04\n",
      "418021   289900.0  Alabama  2007-08-30\n",
      "418015   299000.0  Alabama  2008-02-20\n",
      "...           ...      ...         ...\n",
      "1167783  299500.0  Wyoming  2015-06-08\n",
      "1167789  100000.0  Wyoming  2009-02-20\n",
      "1167790  139900.0  Wyoming  2010-10-22\n",
      "1165678  325000.0  Wyoming  2016-04-15\n",
      "1167111  845000.0  Wyoming  2015-07-08\n",
      "\n",
      "[199269 rows x 3 columns]\n"
     ]
    }
   ],
   "source": [
    "\n",
    "##### Calculate the mean price for each year\n",
    "mean_prices = df.groupby('Year')[\"price\"].transform('mean')\n",
    "\n",
    "###### Fill missing prices with the mean price of the corresponding year\n",
    "merged_df[\"price\"] = merged_df[\"price\"].fillna(mean_prices)\n",
    "\n",
    "###### Display the DataFrame after filling missing prices\n",
    "print(\"DataFrame after filling missing prices with the mean price of each year:\")\n",
    "print(df)"
   ]
  },
  {
   "cell_type": "code",
   "execution_count": 609,
   "metadata": {},
   "outputs": [
    {
     "name": "stdout",
     "output_type": "stream",
     "text": [
      "<class 'pandas.core.frame.DataFrame'>\n",
      "RangeIndex: 288697 entries, 0 to 288696\n",
      "Data columns (total 6 columns):\n",
      " #   Column       Non-Null Count   Dtype  \n",
      "---  ------       --------------   -----  \n",
      " 0   price        217320 non-null  float64\n",
      " 1   State        288697 non-null  object \n",
      " 2   Year         288697 non-null  object \n",
      " 3   Count        89451 non-null   float64\n",
      " 4   Sheltered    89451 non-null   object \n",
      " 5   Unsheltered  89451 non-null   object \n",
      "dtypes: float64(2), object(4)\n",
      "memory usage: 13.2+ MB\n"
     ]
    }
   ],
   "source": [
    "merged_df.info()"
   ]
  },
  {
   "cell_type": "code",
   "execution_count": 611,
   "metadata": {},
   "outputs": [
    {
     "data": {
      "text/plain": [
       "11545"
      ]
     },
     "execution_count": 611,
     "metadata": {},
     "output_type": "execute_result"
    }
   ],
   "source": [
    "merged_df['price'].nunique()\n"
   ]
  },
  {
   "cell_type": "code",
   "execution_count": 613,
   "metadata": {},
   "outputs": [
    {
     "name": "stdout",
     "output_type": "stream",
     "text": [
      "['Alabama' 'Alaska' 'Arizona' 'Arkansas' 'California' 'Colorado'\n",
      " 'Connecticut' 'Delaware' 'District of Columbia' 'Florida' 'Georgia'\n",
      " 'Hawaii' 'Idaho' 'Illinois' 'Indiana' 'Iowa' 'Kansas' 'Kentucky'\n",
      " 'Louisiana' 'Maine' 'Maryland' 'Massachusetts' 'Michigan' 'Minnesota'\n",
      " 'Mississippi' 'Missouri' 'Montana' 'Nebraska' 'Nevada' 'New Hampshire'\n",
      " 'New Jersey' 'New Mexico' 'New York' 'North Carolina' 'North Dakota'\n",
      " 'Ohio' 'Oklahoma' 'Oregon' 'Pennsylvania' 'Rhode Island' 'South Carolina'\n",
      " 'South Dakota' 'Tennessee' 'Texas' 'Utah' 'Vermont' 'Virgin Islands'\n",
      " 'Virginia' 'Washington' 'West Virginia' 'Wisconsin' 'Wyoming']\n"
     ]
    }
   ],
   "source": [
    "print(merged_df['State'].unique())\n"
   ]
  },
  {
   "cell_type": "code",
   "execution_count": 615,
   "metadata": {},
   "outputs": [
    {
     "data": {
      "text/plain": [
       "State\n",
       "Florida                 37141\n",
       "California              28621\n",
       "New York                18613\n",
       "Texas                   18134\n",
       "Illinois                15598\n",
       "Pennsylvania            11297\n",
       "New Jersey               9174\n",
       "Michigan                 9121\n",
       "Virginia                 8444\n",
       "North Carolina           8280\n",
       "Ohio                     8214\n",
       "Maryland                 7545\n",
       "Arizona                  6778\n",
       "Tennessee                6343\n",
       "Minnesota                6100\n",
       "Georgia                  5796\n",
       "Washington               5762\n",
       "Colorado                 5036\n",
       "Louisiana                5018\n",
       "Oregon                   4972\n",
       "Missouri                 4635\n",
       "Oklahoma                 4563\n",
       "South Carolina           4479\n",
       "Massachusetts            4429\n",
       "Alabama                  3990\n",
       "Arkansas                 3643\n",
       "Wisconsin                3589\n",
       "Connecticut              3056\n",
       "Kentucky                 2914\n",
       "Indiana                  2768\n",
       "Iowa                     2525\n",
       "Utah                     2157\n",
       "Kansas                   2049\n",
       "Hawaii                   1770\n",
       "Nebraska                 1744\n",
       "Nevada                   1586\n",
       "New Mexico               1338\n",
       "Mississippi              1287\n",
       "West Virginia            1234\n",
       "Idaho                    1023\n",
       "Delaware                  938\n",
       "New Hampshire             935\n",
       "District of Columbia      830\n",
       "North Dakota              821\n",
       "Montana                   779\n",
       "Vermont                   700\n",
       "Rhode Island              671\n",
       "Maine                     617\n",
       "Alaska                    602\n",
       "South Dakota              483\n",
       "Wyoming                   335\n",
       "Virgin Islands            220\n",
       "Name: count, dtype: int64"
      ]
     },
     "execution_count": 615,
     "metadata": {},
     "output_type": "execute_result"
    }
   ],
   "source": [
    "merged_df['State'].value_counts()"
   ]
  },
  {
   "cell_type": "code",
   "execution_count": 617,
   "metadata": {},
   "outputs": [
    {
     "data": {
      "text/plain": [
       "array([datetime.date(2015, 8, 21), datetime.date(2008, 3, 10),\n",
       "       datetime.date(2010, 5, 4), ..., datetime.date(2009, 1, 1),\n",
       "       datetime.date(2012, 1, 1), datetime.date(2013, 1, 1)], dtype=object)"
      ]
     },
     "execution_count": 617,
     "metadata": {},
     "output_type": "execute_result"
    }
   ],
   "source": [
    "merged_df['Year'].unique()"
   ]
  },
  {
   "cell_type": "code",
   "execution_count": 619,
   "metadata": {},
   "outputs": [
    {
     "name": "stdout",
     "output_type": "stream",
     "text": [
      "[datetime.date(2015, 8, 21) datetime.date(2008, 3, 10)\n",
      " datetime.date(2010, 5, 4) ... datetime.date(2009, 1, 1)\n",
      " datetime.date(2012, 1, 1) datetime.date(2013, 1, 1)]\n"
     ]
    }
   ],
   "source": [
    "print(merged_df['Year'].unique())\n"
   ]
  },
  {
   "cell_type": "code",
   "execution_count": 621,
   "metadata": {},
   "outputs": [
    {
     "data": {
      "text/plain": [
       "Year\n",
       "2010-09-30     66\n",
       "2016-08-10    130\n",
       "2008-03-12     58\n",
       "2010-06-13      1\n",
       "2011-03-09     54\n",
       "Name: count, dtype: int64"
      ]
     },
     "execution_count": 621,
     "metadata": {},
     "output_type": "execute_result"
    }
   ],
   "source": [
    "merged_df['Year'].value_counts(). sample(5)"
   ]
  },
  {
   "cell_type": "code",
   "execution_count": 623,
   "metadata": {},
   "outputs": [
    {
     "data": {
      "text/html": [
       "<div>\n",
       "<style scoped>\n",
       "    .dataframe tbody tr th:only-of-type {\n",
       "        vertical-align: middle;\n",
       "    }\n",
       "\n",
       "    .dataframe tbody tr th {\n",
       "        vertical-align: top;\n",
       "    }\n",
       "\n",
       "    .dataframe thead th {\n",
       "        text-align: right;\n",
       "    }\n",
       "</style>\n",
       "<table border=\"1\" class=\"dataframe\">\n",
       "  <thead>\n",
       "    <tr style=\"text-align: right;\">\n",
       "      <th></th>\n",
       "      <th>price</th>\n",
       "      <th>State</th>\n",
       "      <th>Year</th>\n",
       "      <th>Count</th>\n",
       "      <th>Sheltered</th>\n",
       "      <th>Unsheltered</th>\n",
       "    </tr>\n",
       "  </thead>\n",
       "  <tbody>\n",
       "    <tr>\n",
       "      <th>122162</th>\n",
       "      <td>550000.0</td>\n",
       "      <td>New Jersey</td>\n",
       "      <td>2009-02-13</td>\n",
       "      <td>NaN</td>\n",
       "      <td>NaN</td>\n",
       "      <td>NaN</td>\n",
       "    </tr>\n",
       "    <tr>\n",
       "      <th>50525</th>\n",
       "      <td>649000.0</td>\n",
       "      <td>Florida</td>\n",
       "      <td>2015-07-28</td>\n",
       "      <td>NaN</td>\n",
       "      <td>NaN</td>\n",
       "      <td>NaN</td>\n",
       "    </tr>\n",
       "    <tr>\n",
       "      <th>130362</th>\n",
       "      <td>500000.0</td>\n",
       "      <td>New York</td>\n",
       "      <td>2007-09-18</td>\n",
       "      <td>NaN</td>\n",
       "      <td>NaN</td>\n",
       "      <td>NaN</td>\n",
       "    </tr>\n",
       "    <tr>\n",
       "      <th>17330</th>\n",
       "      <td>1750000.0</td>\n",
       "      <td>California</td>\n",
       "      <td>2016-04-28</td>\n",
       "      <td>NaN</td>\n",
       "      <td>NaN</td>\n",
       "      <td>NaN</td>\n",
       "    </tr>\n",
       "    <tr>\n",
       "      <th>171801</th>\n",
       "      <td>285000.0</td>\n",
       "      <td>Tennessee</td>\n",
       "      <td>2016-11-10</td>\n",
       "      <td>NaN</td>\n",
       "      <td>NaN</td>\n",
       "      <td>NaN</td>\n",
       "    </tr>\n",
       "    <tr>\n",
       "      <th>157857</th>\n",
       "      <td>375000.0</td>\n",
       "      <td>Oregon</td>\n",
       "      <td>2008-06-20</td>\n",
       "      <td>NaN</td>\n",
       "      <td>NaN</td>\n",
       "      <td>NaN</td>\n",
       "    </tr>\n",
       "    <tr>\n",
       "      <th>162380</th>\n",
       "      <td>630000.0</td>\n",
       "      <td>Pennsylvania</td>\n",
       "      <td>2010-08-16</td>\n",
       "      <td>NaN</td>\n",
       "      <td>NaN</td>\n",
       "      <td>NaN</td>\n",
       "    </tr>\n",
       "    <tr>\n",
       "      <th>18520</th>\n",
       "      <td>929000.0</td>\n",
       "      <td>California</td>\n",
       "      <td>2015-10-26</td>\n",
       "      <td>NaN</td>\n",
       "      <td>NaN</td>\n",
       "      <td>NaN</td>\n",
       "    </tr>\n",
       "    <tr>\n",
       "      <th>131803</th>\n",
       "      <td>629000.0</td>\n",
       "      <td>New York</td>\n",
       "      <td>2012-12-26</td>\n",
       "      <td>NaN</td>\n",
       "      <td>NaN</td>\n",
       "      <td>NaN</td>\n",
       "    </tr>\n",
       "    <tr>\n",
       "      <th>138058</th>\n",
       "      <td>950000.0</td>\n",
       "      <td>New York</td>\n",
       "      <td>2015-01-20</td>\n",
       "      <td>NaN</td>\n",
       "      <td>NaN</td>\n",
       "      <td>NaN</td>\n",
       "    </tr>\n",
       "  </tbody>\n",
       "</table>\n",
       "</div>"
      ],
      "text/plain": [
       "            price         State        Year  Count Sheltered Unsheltered\n",
       "122162   550000.0    New Jersey  2009-02-13    NaN       NaN         NaN\n",
       "50525    649000.0       Florida  2015-07-28    NaN       NaN         NaN\n",
       "130362   500000.0      New York  2007-09-18    NaN       NaN         NaN\n",
       "17330   1750000.0    California  2016-04-28    NaN       NaN         NaN\n",
       "171801   285000.0     Tennessee  2016-11-10    NaN       NaN         NaN\n",
       "157857   375000.0        Oregon  2008-06-20    NaN       NaN         NaN\n",
       "162380   630000.0  Pennsylvania  2010-08-16    NaN       NaN         NaN\n",
       "18520    929000.0    California  2015-10-26    NaN       NaN         NaN\n",
       "131803   629000.0      New York  2012-12-26    NaN       NaN         NaN\n",
       "138058   950000.0      New York  2015-01-20    NaN       NaN         NaN"
      ]
     },
     "execution_count": 623,
     "metadata": {},
     "output_type": "execute_result"
    }
   ],
   "source": [
    "merged_df.sample(10)"
   ]
  },
  {
   "cell_type": "code",
   "execution_count": 696,
   "metadata": {},
   "outputs": [],
   "source": [
    "merged_df.to_csv('Combined_Houses&Houseless.csv', index=False)"
   ]
  },
  {
   "cell_type": "markdown",
   "metadata": {
    "id": "cGy_yddGtzhM"
   },
   "source": [
    "## 5. Answer the research question\n",
    "\n",
    "### **5.1:** Define and answer the research question \n",
    "Going back to the problem statement in step 1, use the cleaned data to answer the question you raised. Produce **at least** two visualizations using the cleaned data and explain how they help you answer the question."
   ]
  },
  {
   "cell_type": "markdown",
   "metadata": {
    "id": "gjedE4s4ZkEd"
   },
   "source": [
    "*Research question:* FILL IN from answer to Step 1"
   ]
  },
  {
   "cell_type": "code",
   "execution_count": null,
   "metadata": {
    "id": "Lkw3rW9kZmOm"
   },
   "outputs": [],
   "source": [
    "#Visual 1 - FILL IN"
   ]
  },
  {
   "cell_type": "markdown",
   "metadata": {},
   "source": [
    "*Answer to research question:* FILL IN"
   ]
  },
  {
   "cell_type": "code",
   "execution_count": null,
   "metadata": {
    "id": "6fdK_8ZGZm9R"
   },
   "outputs": [],
   "source": [
    "#Visual 2 - FILL IN"
   ]
  },
  {
   "cell_type": "markdown",
   "metadata": {
    "id": "K5RgvMGUZoHn"
   },
   "source": [
    "*Answer to research question:* FILL IN"
   ]
  },
  {
   "cell_type": "code",
   "execution_count": 666,
   "metadata": {},
   "outputs": [
    {
     "data": {
      "image/png": "[encoded data removed]",
      "text/plain": [
       "<Figure size 1000x600 with 1 Axes>"
      ]
     },
     "metadata": {},
     "output_type": "display_data"
    }
   ],
   "source": [
    "plt.figure(figsize=(10, 6))\n",
    "plt.bar(merged_df['Year'], merged_df['price'])\n",
    "plt.title('Price vs Year')\n",
    "plt.show()"
   ]
  },
  {
   "cell_type": "code",
   "execution_count": 670,
   "metadata": {},
   "outputs": [],
   "source": [
    "import seaborn as sns\n"
   ]
  },
  {
   "cell_type": "code",
   "execution_count": 679,
   "metadata": {},
   "outputs": [],
   "source": [
    "merged_df['Year'] = pd.to_datetime(merged_df['Year'])\n"
   ]
  },
  {
   "cell_type": "code",
   "execution_count": 681,
   "metadata": {},
   "outputs": [
    {
     "data": {
      "text/html": [
       "<div>\n",
       "<style scoped>\n",
       "    .dataframe tbody tr th:only-of-type {\n",
       "        vertical-align: middle;\n",
       "    }\n",
       "\n",
       "    .dataframe tbody tr th {\n",
       "        vertical-align: top;\n",
       "    }\n",
       "\n",
       "    .dataframe thead th {\n",
       "        text-align: right;\n",
       "    }\n",
       "</style>\n",
       "<table border=\"1\" class=\"dataframe\">\n",
       "  <thead>\n",
       "    <tr style=\"text-align: right;\">\n",
       "      <th></th>\n",
       "      <th>price</th>\n",
       "      <th>State</th>\n",
       "      <th>Year</th>\n",
       "      <th>Count</th>\n",
       "      <th>Sheltered</th>\n",
       "      <th>Unsheltered</th>\n",
       "    </tr>\n",
       "  </thead>\n",
       "  <tbody>\n",
       "    <tr>\n",
       "      <th>226079</th>\n",
       "      <td>NaN</td>\n",
       "      <td>Georgia</td>\n",
       "      <td>2007-01-01</td>\n",
       "      <td>22.0</td>\n",
       "      <td>True</td>\n",
       "      <td>True</td>\n",
       "    </tr>\n",
       "    <tr>\n",
       "      <th>208106</th>\n",
       "      <td>NaN</td>\n",
       "      <td>Arizona</td>\n",
       "      <td>2007-01-01</td>\n",
       "      <td>1191.0</td>\n",
       "      <td>False</td>\n",
       "      <td>True</td>\n",
       "    </tr>\n",
       "    <tr>\n",
       "      <th>259667</th>\n",
       "      <td>NaN</td>\n",
       "      <td>New York</td>\n",
       "      <td>2007-01-01</td>\n",
       "      <td>40.0</td>\n",
       "      <td>False</td>\n",
       "      <td>True</td>\n",
       "    </tr>\n",
       "    <tr>\n",
       "      <th>88807</th>\n",
       "      <td>541000.0</td>\n",
       "      <td>Illinois</td>\n",
       "      <td>2007-01-01</td>\n",
       "      <td>1018.0</td>\n",
       "      <td>True</td>\n",
       "      <td>True</td>\n",
       "    </tr>\n",
       "    <tr>\n",
       "      <th>88808</th>\n",
       "      <td>541000.0</td>\n",
       "      <td>Illinois</td>\n",
       "      <td>2007-01-01</td>\n",
       "      <td>3927.0</td>\n",
       "      <td>False</td>\n",
       "      <td>True</td>\n",
       "    </tr>\n",
       "    <tr>\n",
       "      <th>...</th>\n",
       "      <td>...</td>\n",
       "      <td>...</td>\n",
       "      <td>...</td>\n",
       "      <td>...</td>\n",
       "      <td>...</td>\n",
       "      <td>...</td>\n",
       "    </tr>\n",
       "    <tr>\n",
       "      <th>23606</th>\n",
       "      <td>3133000.0</td>\n",
       "      <td>California</td>\n",
       "      <td>2016-12-30</td>\n",
       "      <td>NaN</td>\n",
       "      <td>NaN</td>\n",
       "      <td>NaN</td>\n",
       "    </tr>\n",
       "    <tr>\n",
       "      <th>23605</th>\n",
       "      <td>770000.0</td>\n",
       "      <td>California</td>\n",
       "      <td>2016-12-30</td>\n",
       "      <td>NaN</td>\n",
       "      <td>NaN</td>\n",
       "      <td>NaN</td>\n",
       "    </tr>\n",
       "    <tr>\n",
       "      <th>23604</th>\n",
       "      <td>1175000.0</td>\n",
       "      <td>California</td>\n",
       "      <td>2016-12-30</td>\n",
       "      <td>NaN</td>\n",
       "      <td>NaN</td>\n",
       "      <td>NaN</td>\n",
       "    </tr>\n",
       "    <tr>\n",
       "      <th>91885</th>\n",
       "      <td>165000.0</td>\n",
       "      <td>Iowa</td>\n",
       "      <td>2016-12-30</td>\n",
       "      <td>NaN</td>\n",
       "      <td>NaN</td>\n",
       "      <td>NaN</td>\n",
       "    </tr>\n",
       "    <tr>\n",
       "      <th>157131</th>\n",
       "      <td>735000.0</td>\n",
       "      <td>Oregon</td>\n",
       "      <td>2016-12-30</td>\n",
       "      <td>NaN</td>\n",
       "      <td>NaN</td>\n",
       "      <td>NaN</td>\n",
       "    </tr>\n",
       "  </tbody>\n",
       "</table>\n",
       "<p>288697 rows × 6 columns</p>\n",
       "</div>"
      ],
      "text/plain": [
       "            price       State       Year   Count Sheltered Unsheltered\n",
       "226079        NaN     Georgia 2007-01-01    22.0      True        True\n",
       "208106        NaN     Arizona 2007-01-01  1191.0     False        True\n",
       "259667        NaN    New York 2007-01-01    40.0     False        True\n",
       "88807    541000.0    Illinois 2007-01-01  1018.0      True        True\n",
       "88808    541000.0    Illinois 2007-01-01  3927.0     False        True\n",
       "...           ...         ...        ...     ...       ...         ...\n",
       "23606   3133000.0  California 2016-12-30     NaN       NaN         NaN\n",
       "23605    770000.0  California 2016-12-30     NaN       NaN         NaN\n",
       "23604   1175000.0  California 2016-12-30     NaN       NaN         NaN\n",
       "91885    165000.0        Iowa 2016-12-30     NaN       NaN         NaN\n",
       "157131   735000.0      Oregon 2016-12-30     NaN       NaN         NaN\n",
       "\n",
       "[288697 rows x 6 columns]"
      ]
     },
     "execution_count": 681,
     "metadata": {},
     "output_type": "execute_result"
    }
   ],
   "source": [
    "merged_df"
   ]
  },
  {
   "cell_type": "code",
   "execution_count": 694,
   "metadata": {},
   "outputs": [
    {
     "data": {
      "image/png": "[encoded data removed]",
      "text/plain": [
       "<Figure size 1200x800 with 1 Axes>"
      ]
     },
     "metadata": {},
     "output_type": "display_data"
    }
   ],
   "source": [
    "\n",
    "# Plotting\n",
    "plt.figure(figsize=(12, 8))\n",
    "\n",
    "plt.bar(merged_df['Year'], merged_df['Count'], color='green', label='Count')\n",
    "\n",
    "plt.title('Homelessness Counts over Time')\n",
    "plt.xlabel('Year')\n",
    "plt.ylabel('Counts')\n",
    "plt.legend()\n",
    "\n",
    "# Show plot\n",
    "plt.grid(True)\n",
    "plt.tight_layout()\n",
    "plt.show()"
   ]
  },
  {
   "cell_type": "code",
   "execution_count": null,
   "metadata": {},
   "outputs": [],
   "source": []
  },
  {
   "cell_type": "code",
   "execution_count": null,
   "metadata": {},
   "outputs": [],
   "source": []
  },
  {
   "cell_type": "code",
   "execution_count": null,
   "metadata": {},
   "outputs": [],
   "source": []
  },
  {
   "cell_type": "code",
   "execution_count": null,
   "metadata": {},
   "outputs": [],
   "source": []
  },
  {
   "cell_type": "code",
   "execution_count": null,
   "metadata": {},
   "outputs": [],
   "source": []
  },
  {
   "cell_type": "code",
   "execution_count": null,
   "metadata": {},
   "outputs": [],
   "source": []
  },
  {
   "cell_type": "code",
   "execution_count": null,
   "metadata": {},
   "outputs": [],
   "source": []
  },
  {
   "cell_type": "code",
   "execution_count": null,
   "metadata": {},
   "outputs": [],
   "source": []
  },
  {
   "cell_type": "code",
   "execution_count": null,
   "metadata": {},
   "outputs": [],
   "source": []
  },
  {
   "cell_type": "code",
   "execution_count": null,
   "metadata": {},
   "outputs": [],
   "source": []
  },
  {
   "cell_type": "code",
   "execution_count": null,
   "metadata": {},
   "outputs": [],
   "source": []
  },
  {
   "cell_type": "code",
   "execution_count": null,
   "metadata": {},
   "outputs": [],
   "source": []
  },
  {
   "cell_type": "code",
   "execution_count": null,
   "metadata": {},
   "outputs": [],
   "source": []
  },
  {
   "cell_type": "code",
   "execution_count": null,
   "metadata": {},
   "outputs": [],
   "source": []
  },
  {
   "cell_type": "code",
   "execution_count": null,
   "metadata": {},
   "outputs": [],
   "source": []
  },
  {
   "cell_type": "code",
   "execution_count": null,
   "metadata": {},
   "outputs": [],
   "source": []
  },
  {
   "cell_type": "code",
   "execution_count": null,
   "metadata": {},
   "outputs": [],
   "source": []
  },
  {
   "cell_type": "code",
   "execution_count": null,
   "metadata": {},
   "outputs": [],
   "source": []
  },
  {
   "cell_type": "code",
   "execution_count": null,
   "metadata": {},
   "outputs": [],
   "source": []
  },
  {
   "cell_type": "code",
   "execution_count": null,
   "metadata": {},
   "outputs": [],
   "source": []
  },
  {
   "cell_type": "code",
   "execution_count": null,
   "metadata": {},
   "outputs": [],
   "source": []
  },
  {
   "cell_type": "code",
   "execution_count": null,
   "metadata": {},
   "outputs": [],
   "source": []
  },
  {
   "cell_type": "code",
   "execution_count": null,
   "metadata": {},
   "outputs": [],
   "source": []
  },
  {
   "cell_type": "code",
   "execution_count": null,
   "metadata": {},
   "outputs": [],
   "source": []
  },
  {
   "cell_type": "code",
   "execution_count": null,
   "metadata": {},
   "outputs": [],
   "source": []
  },
  {
   "cell_type": "code",
   "execution_count": null,
   "metadata": {},
   "outputs": [],
   "source": []
  },
  {
   "cell_type": "code",
   "execution_count": null,
   "metadata": {},
   "outputs": [],
   "source": []
  },
  {
   "cell_type": "code",
   "execution_count": null,
   "metadata": {},
   "outputs": [],
   "source": []
  },
  {
   "cell_type": "code",
   "execution_count": null,
   "metadata": {},
   "outputs": [],
   "source": []
  },
  {
   "cell_type": "code",
   "execution_count": null,
   "metadata": {},
   "outputs": [],
   "source": []
  },
  {
   "cell_type": "code",
   "execution_count": null,
   "metadata": {},
   "outputs": [],
   "source": []
  },
  {
   "cell_type": "code",
   "execution_count": null,
   "metadata": {},
   "outputs": [],
   "source": []
  },
  {
   "cell_type": "code",
   "execution_count": null,
   "metadata": {},
   "outputs": [],
   "source": []
  },
  {
   "cell_type": "code",
   "execution_count": null,
   "metadata": {},
   "outputs": [],
   "source": []
  },
  {
   "cell_type": "code",
   "execution_count": null,
   "metadata": {},
   "outputs": [],
   "source": []
  },
  {
   "cell_type": "code",
   "execution_count": null,
   "metadata": {},
   "outputs": [],
   "source": []
  },
  {
   "cell_type": "code",
   "execution_count": null,
   "metadata": {},
   "outputs": [],
   "source": []
  },
  {
   "cell_type": "code",
   "execution_count": null,
   "metadata": {},
   "outputs": [],
   "source": []
  },
  {
   "cell_type": "code",
   "execution_count": null,
   "metadata": {},
   "outputs": [],
   "source": []
  },
  {
   "cell_type": "code",
   "execution_count": null,
   "metadata": {},
   "outputs": [],
   "source": []
  },
  {
   "cell_type": "code",
   "execution_count": null,
   "metadata": {},
   "outputs": [],
   "source": []
  },
  {
   "cell_type": "code",
   "execution_count": null,
   "metadata": {},
   "outputs": [],
   "source": []
  },
  {
   "cell_type": "code",
   "execution_count": null,
   "metadata": {},
   "outputs": [],
   "source": []
  },
  {
   "cell_type": "code",
   "execution_count": null,
   "metadata": {},
   "outputs": [],
   "source": []
  },
  {
   "cell_type": "code",
   "execution_count": null,
   "metadata": {},
   "outputs": [],
   "source": []
  },
  {
   "cell_type": "code",
   "execution_count": null,
   "metadata": {},
   "outputs": [],
   "source": []
  },
  {
   "cell_type": "code",
   "execution_count": null,
   "metadata": {},
   "outputs": [],
   "source": []
  },
  {
   "cell_type": "code",
   "execution_count": null,
   "metadata": {},
   "outputs": [],
   "source": []
  },
  {
   "cell_type": "code",
   "execution_count": null,
   "metadata": {},
   "outputs": [],
   "source": []
  },
  {
   "cell_type": "code",
   "execution_count": null,
   "metadata": {},
   "outputs": [],
   "source": []
  },
  {
   "cell_type": "code",
   "execution_count": null,
   "metadata": {},
   "outputs": [],
   "source": []
  },
  {
   "cell_type": "code",
   "execution_count": null,
   "metadata": {},
   "outputs": [],
   "source": []
  },
  {
   "cell_type": "code",
   "execution_count": null,
   "metadata": {},
   "outputs": [],
   "source": []
  },
  {
   "cell_type": "code",
   "execution_count": null,
   "metadata": {},
   "outputs": [],
   "source": []
  },
  {
   "cell_type": "code",
   "execution_count": null,
   "metadata": {},
   "outputs": [],
   "source": []
  },
  {
   "cell_type": "code",
   "execution_count": null,
   "metadata": {},
   "outputs": [],
   "source": []
  },
  {
   "cell_type": "code",
   "execution_count": null,
   "metadata": {},
   "outputs": [],
   "source": []
  },
  {
   "cell_type": "code",
   "execution_count": null,
   "metadata": {},
   "outputs": [],
   "source": []
  },
  {
   "cell_type": "code",
   "execution_count": null,
   "metadata": {},
   "outputs": [],
   "source": []
  },
  {
   "cell_type": "code",
   "execution_count": null,
   "metadata": {},
   "outputs": [],
   "source": []
  },
  {
   "cell_type": "code",
   "execution_count": null,
   "metadata": {},
   "outputs": [],
   "source": []
  },
  {
   "cell_type": "code",
   "execution_count": null,
   "metadata": {},
   "outputs": [],
   "source": []
  },
  {
   "cell_type": "code",
   "execution_count": null,
   "metadata": {},
   "outputs": [],
   "source": []
  },
  {
   "cell_type": "code",
   "execution_count": null,
   "metadata": {},
   "outputs": [],
   "source": []
  },
  {
   "cell_type": "code",
   "execution_count": null,
   "metadata": {},
   "outputs": [],
   "source": []
  },
  {
   "cell_type": "code",
   "execution_count": null,
   "metadata": {},
   "outputs": [],
   "source": []
  },
  {
   "cell_type": "code",
   "execution_count": null,
   "metadata": {},
   "outputs": [],
   "source": []
  },
  {
   "cell_type": "code",
   "execution_count": null,
   "metadata": {},
   "outputs": [],
   "source": []
  },
  {
   "cell_type": "code",
   "execution_count": null,
   "metadata": {},
   "outputs": [],
   "source": []
  },
  {
   "cell_type": "code",
   "execution_count": null,
   "metadata": {},
   "outputs": [],
   "source": []
  },
  {
   "cell_type": "code",
   "execution_count": null,
   "metadata": {},
   "outputs": [],
   "source": []
  },
  {
   "cell_type": "code",
   "execution_count": null,
   "metadata": {},
   "outputs": [],
   "source": []
  },
  {
   "cell_type": "code",
   "execution_count": null,
   "metadata": {},
   "outputs": [],
   "source": []
  },
  {
   "cell_type": "code",
   "execution_count": null,
   "metadata": {},
   "outputs": [],
   "source": []
  },
  {
   "cell_type": "code",
   "execution_count": null,
   "metadata": {},
   "outputs": [],
   "source": []
  },
  {
   "cell_type": "code",
   "execution_count": null,
   "metadata": {},
   "outputs": [],
   "source": []
  },
  {
   "cell_type": "code",
   "execution_count": null,
   "metadata": {},
   "outputs": [],
   "source": []
  },
  {
   "cell_type": "code",
   "execution_count": null,
   "metadata": {},
   "outputs": [],
   "source": []
  },
  {
   "cell_type": "code",
   "execution_count": null,
   "metadata": {},
   "outputs": [],
   "source": []
  },
  {
   "cell_type": "code",
   "execution_count": null,
   "metadata": {},
   "outputs": [],
   "source": []
  },
  {
   "cell_type": "code",
   "execution_count": null,
   "metadata": {},
   "outputs": [],
   "source": []
  },
  {
   "cell_type": "code",
   "execution_count": null,
   "metadata": {},
   "outputs": [],
   "source": []
  },
  {
   "cell_type": "code",
   "execution_count": null,
   "metadata": {},
   "outputs": [],
   "source": []
  },
  {
   "cell_type": "code",
   "execution_count": null,
   "metadata": {},
   "outputs": [],
   "source": []
  },
  {
   "cell_type": "code",
   "execution_count": null,
   "metadata": {},
   "outputs": [],
   "source": []
  },
  {
   "cell_type": "code",
   "execution_count": null,
   "metadata": {},
   "outputs": [],
   "source": []
  },
  {
   "cell_type": "code",
   "execution_count": null,
   "metadata": {},
   "outputs": [],
   "source": []
  },
  {
   "cell_type": "code",
   "execution_count": null,
   "metadata": {},
   "outputs": [],
   "source": []
  },
  {
   "cell_type": "code",
   "execution_count": null,
   "metadata": {},
   "outputs": [],
   "source": []
  },
  {
   "cell_type": "code",
   "execution_count": null,
   "metadata": {},
   "outputs": [],
   "source": []
  },
  {
   "cell_type": "code",
   "execution_count": null,
   "metadata": {},
   "outputs": [],
   "source": []
  },
  {
   "cell_type": "code",
   "execution_count": null,
   "metadata": {},
   "outputs": [],
   "source": []
  },
  {
   "cell_type": "code",
   "execution_count": null,
   "metadata": {},
   "outputs": [],
   "source": []
  },
  {
   "cell_type": "code",
   "execution_count": null,
   "metadata": {},
   "outputs": [],
   "source": []
  },
  {
   "cell_type": "code",
   "execution_count": null,
   "metadata": {},
   "outputs": [],
   "source": []
  },
  {
   "cell_type": "code",
   "execution_count": null,
   "metadata": {},
   "outputs": [],
   "source": []
  },
  {
   "cell_type": "code",
   "execution_count": null,
   "metadata": {},
   "outputs": [],
   "source": []
  },
  {
   "cell_type": "code",
   "execution_count": null,
   "metadata": {},
   "outputs": [],
   "source": []
  },
  {
   "cell_type": "code",
   "execution_count": null,
   "metadata": {},
   "outputs": [],
   "source": []
  },
  {
   "cell_type": "code",
   "execution_count": null,
   "metadata": {},
   "outputs": [],
   "source": []
  },
  {
   "cell_type": "code",
   "execution_count": null,
   "metadata": {},
   "outputs": [],
   "source": []
  },
  {
   "cell_type": "code",
   "execution_count": null,
   "metadata": {},
   "outputs": [],
   "source": []
  },
  {
   "cell_type": "code",
   "execution_count": null,
   "metadata": {},
   "outputs": [],
   "source": []
  },
  {
   "cell_type": "code",
   "execution_count": null,
   "metadata": {},
   "outputs": [],
   "source": []
  },
  {
   "cell_type": "code",
   "execution_count": null,
   "metadata": {},
   "outputs": [],
   "source": []
  },
  {
   "cell_type": "code",
   "execution_count": null,
   "metadata": {},
   "outputs": [],
   "source": []
  },
  {
   "cell_type": "code",
   "execution_count": null,
   "metadata": {},
   "outputs": [],
   "source": []
  },
  {
   "cell_type": "code",
   "execution_count": null,
   "metadata": {},
   "outputs": [],
   "source": []
  },
  {
   "cell_type": "code",
   "execution_count": null,
   "metadata": {},
   "outputs": [],
   "source": []
  },
  {
   "cell_type": "code",
   "execution_count": null,
   "metadata": {},
   "outputs": [],
   "source": []
  },
  {
   "cell_type": "code",
   "execution_count": null,
   "metadata": {},
   "outputs": [],
   "source": []
  },
  {
   "cell_type": "code",
   "execution_count": null,
   "metadata": {},
   "outputs": [],
   "source": []
  },
  {
   "cell_type": "code",
   "execution_count": null,
   "metadata": {},
   "outputs": [],
   "source": []
  },
  {
   "cell_type": "code",
   "execution_count": null,
   "metadata": {},
   "outputs": [],
   "source": []
  },
  {
   "cell_type": "code",
   "execution_count": null,
   "metadata": {},
   "outputs": [],
   "source": []
  },
  {
   "cell_type": "code",
   "execution_count": null,
   "metadata": {},
   "outputs": [],
   "source": []
  },
  {
   "cell_type": "code",
   "execution_count": null,
   "metadata": {},
   "outputs": [],
   "source": []
  },
  {
   "cell_type": "code",
   "execution_count": null,
   "metadata": {},
   "outputs": [],
   "source": []
  },
  {
   "cell_type": "code",
   "execution_count": null,
   "metadata": {},
   "outputs": [],
   "source": []
  },
  {
   "cell_type": "code",
   "execution_count": null,
   "metadata": {},
   "outputs": [],
   "source": []
  },
  {
   "cell_type": "code",
   "execution_count": null,
   "metadata": {},
   "outputs": [],
   "source": []
  },
  {
   "cell_type": "code",
   "execution_count": null,
   "metadata": {},
   "outputs": [],
   "source": []
  },
  {
   "cell_type": "code",
   "execution_count": null,
   "metadata": {},
   "outputs": [],
   "source": []
  },
  {
   "cell_type": "code",
   "execution_count": null,
   "metadata": {},
   "outputs": [],
   "source": []
  },
  {
   "cell_type": "code",
   "execution_count": null,
   "metadata": {},
   "outputs": [],
   "source": []
  },
  {
   "cell_type": "code",
   "execution_count": null,
   "metadata": {},
   "outputs": [],
   "source": []
  },
  {
   "cell_type": "code",
   "execution_count": null,
   "metadata": {},
   "outputs": [],
   "source": []
  },
  {
   "cell_type": "code",
   "execution_count": null,
   "metadata": {},
   "outputs": [],
   "source": []
  },
  {
   "cell_type": "code",
   "execution_count": null,
   "metadata": {},
   "outputs": [],
   "source": []
  },
  {
   "cell_type": "code",
   "execution_count": null,
   "metadata": {},
   "outputs": [],
   "source": []
  },
  {
   "cell_type": "code",
   "execution_count": null,
   "metadata": {},
   "outputs": [],
   "source": []
  },
  {
   "cell_type": "code",
   "execution_count": null,
   "metadata": {},
   "outputs": [],
   "source": []
  },
  {
   "cell_type": "code",
   "execution_count": null,
   "metadata": {},
   "outputs": [],
   "source": []
  },
  {
   "cell_type": "code",
   "execution_count": null,
   "metadata": {},
   "outputs": [],
   "source": []
  },
  {
   "cell_type": "code",
   "execution_count": null,
   "metadata": {},
   "outputs": [],
   "source": []
  },
  {
   "cell_type": "code",
   "execution_count": null,
   "metadata": {},
   "outputs": [],
   "source": []
  },
  {
   "cell_type": "code",
   "execution_count": null,
   "metadata": {},
   "outputs": [],
   "source": []
  },
  {
   "cell_type": "code",
   "execution_count": null,
   "metadata": {},
   "outputs": [],
   "source": []
  },
  {
   "cell_type": "code",
   "execution_count": null,
   "metadata": {},
   "outputs": [],
   "source": []
  },
  {
   "cell_type": "code",
   "execution_count": null,
   "metadata": {},
   "outputs": [],
   "source": []
  },
  {
   "cell_type": "code",
   "execution_count": null,
   "metadata": {},
   "outputs": [],
   "source": []
  },
  {
   "cell_type": "code",
   "execution_count": null,
   "metadata": {},
   "outputs": [],
   "source": []
  },
  {
   "cell_type": "code",
   "execution_count": null,
   "metadata": {},
   "outputs": [],
   "source": []
  },
  {
   "cell_type": "code",
   "execution_count": null,
   "metadata": {},
   "outputs": [],
   "source": []
  },
  {
   "cell_type": "code",
   "execution_count": null,
   "metadata": {},
   "outputs": [],
   "source": []
  },
  {
   "cell_type": "code",
   "execution_count": null,
   "metadata": {},
   "outputs": [],
   "source": []
  },
  {
   "cell_type": "code",
   "execution_count": null,
   "metadata": {},
   "outputs": [],
   "source": []
  },
  {
   "cell_type": "code",
   "execution_count": null,
   "metadata": {},
   "outputs": [],
   "source": []
  },
  {
   "cell_type": "code",
   "execution_count": null,
   "metadata": {},
   "outputs": [],
   "source": []
  },
  {
   "cell_type": "code",
   "execution_count": null,
   "metadata": {},
   "outputs": [],
   "source": []
  },
  {
   "cell_type": "code",
   "execution_count": null,
   "metadata": {},
   "outputs": [],
   "source": []
  },
  {
   "cell_type": "code",
   "execution_count": null,
   "metadata": {},
   "outputs": [],
   "source": []
  },
  {
   "cell_type": "code",
   "execution_count": null,
   "metadata": {},
   "outputs": [],
   "source": []
  },
  {
   "cell_type": "code",
   "execution_count": null,
   "metadata": {},
   "outputs": [],
   "source": []
  },
  {
   "cell_type": "code",
   "execution_count": null,
   "metadata": {},
   "outputs": [],
   "source": []
  },
  {
   "cell_type": "code",
   "execution_count": null,
   "metadata": {},
   "outputs": [],
   "source": []
  },
  {
   "cell_type": "code",
   "execution_count": null,
   "metadata": {},
   "outputs": [],
   "source": []
  },
  {
   "cell_type": "code",
   "execution_count": null,
   "metadata": {},
   "outputs": [],
   "source": []
  },
  {
   "cell_type": "code",
   "execution_count": null,
   "metadata": {},
   "outputs": [],
   "source": []
  },
  {
   "cell_type": "code",
   "execution_count": null,
   "metadata": {},
   "outputs": [],
   "source": []
  },
  {
   "cell_type": "code",
   "execution_count": null,
   "metadata": {},
   "outputs": [],
   "source": []
  },
  {
   "cell_type": "code",
   "execution_count": null,
   "metadata": {},
   "outputs": [],
   "source": []
  },
  {
   "cell_type": "code",
   "execution_count": null,
   "metadata": {},
   "outputs": [],
   "source": []
  },
  {
   "cell_type": "code",
   "execution_count": null,
   "metadata": {},
   "outputs": [],
   "source": []
  },
  {
   "cell_type": "code",
   "execution_count": null,
   "metadata": {},
   "outputs": [],
   "source": []
  },
  {
   "cell_type": "code",
   "execution_count": null,
   "metadata": {},
   "outputs": [],
   "source": []
  },
  {
   "cell_type": "code",
   "execution_count": null,
   "metadata": {},
   "outputs": [],
   "source": []
  },
  {
   "cell_type": "code",
   "execution_count": null,
   "metadata": {},
   "outputs": [],
   "source": []
  },
  {
   "cell_type": "code",
   "execution_count": null,
   "metadata": {},
   "outputs": [],
   "source": []
  },
  {
   "cell_type": "code",
   "execution_count": null,
   "metadata": {},
   "outputs": [],
   "source": []
  },
  {
   "cell_type": "code",
   "execution_count": null,
   "metadata": {},
   "outputs": [],
   "source": []
  },
  {
   "cell_type": "code",
   "execution_count": null,
   "metadata": {},
   "outputs": [],
   "source": []
  },
  {
   "cell_type": "code",
   "execution_count": null,
   "metadata": {},
   "outputs": [],
   "source": []
  },
  {
   "cell_type": "code",
   "execution_count": null,
   "metadata": {},
   "outputs": [],
   "source": []
  },
  {
   "cell_type": "code",
   "execution_count": null,
   "metadata": {},
   "outputs": [],
   "source": []
  },
  {
   "cell_type": "code",
   "execution_count": null,
   "metadata": {},
   "outputs": [],
   "source": []
  },
  {
   "cell_type": "code",
   "execution_count": null,
   "metadata": {},
   "outputs": [],
   "source": []
  },
  {
   "cell_type": "code",
   "execution_count": null,
   "metadata": {},
   "outputs": [],
   "source": []
  },
  {
   "cell_type": "code",
   "execution_count": null,
   "metadata": {},
   "outputs": [],
   "source": []
  },
  {
   "cell_type": "code",
   "execution_count": null,
   "metadata": {},
   "outputs": [],
   "source": []
  },
  {
   "cell_type": "code",
   "execution_count": null,
   "metadata": {},
   "outputs": [],
   "source": []
  },
  {
   "cell_type": "code",
   "execution_count": null,
   "metadata": {},
   "outputs": [],
   "source": []
  },
  {
   "cell_type": "code",
   "execution_count": null,
   "metadata": {},
   "outputs": [],
   "source": []
  },
  {
   "cell_type": "code",
   "execution_count": null,
   "metadata": {},
   "outputs": [],
   "source": []
  },
  {
   "cell_type": "code",
   "execution_count": null,
   "metadata": {},
   "outputs": [],
   "source": []
  },
  {
   "cell_type": "code",
   "execution_count": null,
   "metadata": {},
   "outputs": [],
   "source": []
  },
  {
   "cell_type": "code",
   "execution_count": null,
   "metadata": {},
   "outputs": [],
   "source": []
  },
  {
   "cell_type": "code",
   "execution_count": null,
   "metadata": {},
   "outputs": [],
   "source": []
  },
  {
   "cell_type": "code",
   "execution_count": null,
   "metadata": {},
   "outputs": [],
   "source": []
  },
  {
   "cell_type": "code",
   "execution_count": null,
   "metadata": {},
   "outputs": [],
   "source": []
  },
  {
   "cell_type": "code",
   "execution_count": null,
   "metadata": {},
   "outputs": [],
   "source": []
  },
  {
   "cell_type": "code",
   "execution_count": null,
   "metadata": {},
   "outputs": [],
   "source": []
  },
  {
   "cell_type": "code",
   "execution_count": null,
   "metadata": {},
   "outputs": [],
   "source": []
  },
  {
   "cell_type": "code",
   "execution_count": null,
   "metadata": {},
   "outputs": [],
   "source": []
  },
  {
   "cell_type": "code",
   "execution_count": null,
   "metadata": {},
   "outputs": [],
   "source": []
  },
  {
   "cell_type": "code",
   "execution_count": null,
   "metadata": {},
   "outputs": [],
   "source": []
  },
  {
   "cell_type": "code",
   "execution_count": null,
   "metadata": {},
   "outputs": [],
   "source": []
  },
  {
   "cell_type": "code",
   "execution_count": null,
   "metadata": {},
   "outputs": [],
   "source": []
  },
  {
   "cell_type": "code",
   "execution_count": null,
   "metadata": {},
   "outputs": [],
   "source": []
  },
  {
   "cell_type": "code",
   "execution_count": null,
   "metadata": {},
   "outputs": [],
   "source": []
  },
  {
   "cell_type": "code",
   "execution_count": null,
   "metadata": {},
   "outputs": [],
   "source": []
  },
  {
   "cell_type": "code",
   "execution_count": null,
   "metadata": {},
   "outputs": [],
   "source": []
  },
  {
   "cell_type": "code",
   "execution_count": null,
   "metadata": {},
   "outputs": [],
   "source": []
  },
  {
   "cell_type": "code",
   "execution_count": null,
   "metadata": {},
   "outputs": [],
   "source": []
  },
  {
   "cell_type": "code",
   "execution_count": null,
   "metadata": {},
   "outputs": [],
   "source": []
  },
  {
   "cell_type": "code",
   "execution_count": null,
   "metadata": {},
   "outputs": [],
   "source": []
  },
  {
   "cell_type": "code",
   "execution_count": null,
   "metadata": {},
   "outputs": [],
   "source": []
  },
  {
   "cell_type": "code",
   "execution_count": null,
   "metadata": {},
   "outputs": [],
   "source": []
  },
  {
   "cell_type": "code",
   "execution_count": null,
   "metadata": {},
   "outputs": [],
   "source": []
  },
  {
   "cell_type": "code",
   "execution_count": null,
   "metadata": {},
   "outputs": [],
   "source": []
  },
  {
   "cell_type": "code",
   "execution_count": null,
   "metadata": {},
   "outputs": [],
   "source": []
  },
  {
   "cell_type": "code",
   "execution_count": null,
   "metadata": {},
   "outputs": [],
   "source": []
  },
  {
   "cell_type": "code",
   "execution_count": null,
   "metadata": {},
   "outputs": [],
   "source": []
  },
  {
   "cell_type": "code",
   "execution_count": null,
   "metadata": {},
   "outputs": [],
   "source": []
  },
  {
   "cell_type": "code",
   "execution_count": null,
   "metadata": {},
   "outputs": [],
   "source": []
  },
  {
   "cell_type": "code",
   "execution_count": null,
   "metadata": {},
   "outputs": [],
   "source": []
  },
  {
   "cell_type": "code",
   "execution_count": null,
   "metadata": {},
   "outputs": [],
   "source": []
  },
  {
   "cell_type": "code",
   "execution_count": null,
   "metadata": {},
   "outputs": [],
   "source": []
  },
  {
   "cell_type": "code",
   "execution_count": null,
   "metadata": {},
   "outputs": [],
   "source": []
  },
  {
   "cell_type": "code",
   "execution_count": null,
   "metadata": {},
   "outputs": [],
   "source": []
  },
  {
   "cell_type": "code",
   "execution_count": null,
   "metadata": {},
   "outputs": [],
   "source": []
  },
  {
   "cell_type": "code",
   "execution_count": null,
   "metadata": {},
   "outputs": [],
   "source": []
  },
  {
   "cell_type": "code",
   "execution_count": null,
   "metadata": {},
   "outputs": [],
   "source": []
  },
  {
   "cell_type": "code",
   "execution_count": null,
   "metadata": {},
   "outputs": [],
   "source": []
  },
  {
   "cell_type": "code",
   "execution_count": null,
   "metadata": {},
   "outputs": [],
   "source": []
  },
  {
   "cell_type": "code",
   "execution_count": null,
   "metadata": {},
   "outputs": [],
   "source": []
  },
  {
   "cell_type": "code",
   "execution_count": null,
   "metadata": {},
   "outputs": [],
   "source": []
  },
  {
   "cell_type": "code",
   "execution_count": null,
   "metadata": {},
   "outputs": [],
   "source": []
  },
  {
   "cell_type": "code",
   "execution_count": null,
   "metadata": {},
   "outputs": [],
   "source": []
  },
  {
   "cell_type": "code",
   "execution_count": null,
   "metadata": {},
   "outputs": [],
   "source": []
  },
  {
   "cell_type": "code",
   "execution_count": null,
   "metadata": {},
   "outputs": [],
   "source": []
  },
  {
   "cell_type": "code",
   "execution_count": null,
   "metadata": {},
   "outputs": [],
   "source": []
  },
  {
   "cell_type": "code",
   "execution_count": null,
   "metadata": {},
   "outputs": [],
   "source": []
  },
  {
   "cell_type": "code",
   "execution_count": null,
   "metadata": {},
   "outputs": [],
   "source": []
  },
  {
   "cell_type": "code",
   "execution_count": null,
   "metadata": {},
   "outputs": [],
   "source": []
  },
  {
   "cell_type": "code",
   "execution_count": null,
   "metadata": {},
   "outputs": [],
   "source": []
  },
  {
   "cell_type": "code",
   "execution_count": null,
   "metadata": {},
   "outputs": [],
   "source": []
  },
  {
   "cell_type": "code",
   "execution_count": null,
   "metadata": {},
   "outputs": [],
   "source": []
  },
  {
   "cell_type": "code",
   "execution_count": null,
   "metadata": {},
   "outputs": [],
   "source": []
  },
  {
   "cell_type": "code",
   "execution_count": null,
   "metadata": {},
   "outputs": [],
   "source": []
  },
  {
   "cell_type": "code",
   "execution_count": null,
   "metadata": {},
   "outputs": [],
   "source": []
  },
  {
   "cell_type": "code",
   "execution_count": null,
   "metadata": {},
   "outputs": [],
   "source": []
  },
  {
   "cell_type": "code",
   "execution_count": null,
   "metadata": {},
   "outputs": [],
   "source": []
  },
  {
   "cell_type": "code",
   "execution_count": null,
   "metadata": {},
   "outputs": [],
   "source": []
  },
  {
   "cell_type": "code",
   "execution_count": null,
   "metadata": {},
   "outputs": [],
   "source": []
  },
  {
   "cell_type": "code",
   "execution_count": null,
   "metadata": {},
   "outputs": [],
   "source": []
  },
  {
   "cell_type": "code",
   "execution_count": null,
   "metadata": {},
   "outputs": [],
   "source": []
  },
  {
   "cell_type": "code",
   "execution_count": null,
   "metadata": {},
   "outputs": [],
   "source": []
  },
  {
   "cell_type": "code",
   "execution_count": null,
   "metadata": {},
   "outputs": [],
   "source": []
  },
  {
   "cell_type": "code",
   "execution_count": null,
   "metadata": {},
   "outputs": [],
   "source": []
  },
  {
   "cell_type": "code",
   "execution_count": null,
   "metadata": {},
   "outputs": [],
   "source": []
  },
  {
   "cell_type": "code",
   "execution_count": null,
   "metadata": {},
   "outputs": [],
   "source": []
  },
  {
   "cell_type": "code",
   "execution_count": null,
   "metadata": {},
   "outputs": [],
   "source": []
  },
  {
   "cell_type": "code",
   "execution_count": null,
   "metadata": {},
   "outputs": [],
   "source": []
  },
  {
   "cell_type": "code",
   "execution_count": null,
   "metadata": {},
   "outputs": [],
   "source": []
  },
  {
   "cell_type": "code",
   "execution_count": null,
   "metadata": {},
   "outputs": [],
   "source": []
  },
  {
   "cell_type": "code",
   "execution_count": null,
   "metadata": {},
   "outputs": [],
   "source": []
  },
  {
   "cell_type": "code",
   "execution_count": null,
   "metadata": {},
   "outputs": [],
   "source": []
  },
  {
   "cell_type": "markdown",
   "metadata": {
    "id": "0ezWXXZVj-TP"
   },
   "source": [
    "###### **5.2:** Reflection\n",
    "In 2-4 sentences, if you had more time to complete the project, what actions would you take? For example, which data quality and structural issues would you look into further, and what research questions would you further explore?"
   ]
  },
  {
   "cell_type": "markdown",
   "metadata": {
    "id": "XB3RBDG5kFe1"
   },
   "source": [
    "*Answer:* FILL IN"
   ]
  }
 ],
 "metadata": {
  "colab": {
   "provenance": []
  },
  "kernelspec": {
   "display_name": "Python 3 (ipykernel)",
   "language": "python",
   "name": "python3"
  },
  "language_info": {
   "codemirror_mode": {
    "name": "ipython",
    "version": 3
   },
   "file_extension": ".py",
   "mimetype": "text/x-python",
   "name": "python",
   "nbconvert_exporter": "python",
   "pygments_lexer": "ipython3",
   "version": "3.11.7"
  }
 },
 "nbformat": 4,
 "nbformat_minor": 4
}
